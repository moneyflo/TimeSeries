{
  "nbformat": 4,
  "nbformat_minor": 0,
  "metadata": {
    "colab": {
      "name": "PTSA_chap_02.ipynb",
      "provenance": [],
      "collapsed_sections": []
    },
    "kernelspec": {
      "name": "python3",
      "display_name": "Python 3"
    },
    "language_info": {
      "name": "python"
    }
  },
  "cells": [
    {
      "cell_type": "markdown",
      "metadata": {
        "id": "SZQQNmGfWGO_"
      },
      "source": [
        "# Chaper 2 시계열 데이터의 발견 및 다루기"
      ]
    },
    {
      "cell_type": "markdown",
      "metadata": {
        "id": "ZUJQvLwBWMBr"
      },
      "source": [
        "## 2.2 테이블 집합에서 시계열 데이터 집합 개선하기"
      ]
    },
    {
      "cell_type": "code",
      "metadata": {
        "id": "rMtbz4vaV_mi"
      },
      "source": [
        "import pandas as pd\n",
        "import io\n",
        "import requests"
      ],
      "execution_count": 1,
      "outputs": []
    },
    {
      "cell_type": "code",
      "metadata": {
        "id": "zdSbrAL3WX4s"
      },
      "source": [
        "YearJoined = pd.read_csv(\"https://raw.githubusercontent.com/PracticalTimeSeriesAnalysis/BookRepo/master/Ch02/data/year_joined.csv\")\n",
        "emails = pd.read_csv(\"https://raw.githubusercontent.com/PracticalTimeSeriesAnalysis/BookRepo/master/Ch02/data/emails.csv\")\n",
        "donations = pd.read_csv(\"https://raw.githubusercontent.com/PracticalTimeSeriesAnalysis/BookRepo/master/Ch02/data/donations.csv\")"
      ],
      "execution_count": 2,
      "outputs": []
    },
    {
      "cell_type": "markdown",
      "metadata": {
        "id": "KKywg89AY_3I"
      },
      "source": [
        "### groupby 사용법\n",
        "[설명](https://ponyozzang.tistory.com/291)"
      ]
    },
    {
      "cell_type": "code",
      "metadata": {
        "colab": {
          "base_uri": "https://localhost:8080/",
          "height": 112
        },
        "id": "hkLNMeifWvDw",
        "outputId": "055a1f00-9085-498d-edc3-7695287bea21"
      },
      "source": [
        "YearJoined.groupby('user').count().groupby('userStats').count()"
      ],
      "execution_count": 3,
      "outputs": [
        {
          "output_type": "execute_result",
          "data": {
            "text/html": [
              "<div>\n",
              "<style scoped>\n",
              "    .dataframe tbody tr th:only-of-type {\n",
              "        vertical-align: middle;\n",
              "    }\n",
              "\n",
              "    .dataframe tbody tr th {\n",
              "        vertical-align: top;\n",
              "    }\n",
              "\n",
              "    .dataframe thead th {\n",
              "        text-align: right;\n",
              "    }\n",
              "</style>\n",
              "<table border=\"1\" class=\"dataframe\">\n",
              "  <thead>\n",
              "    <tr style=\"text-align: right;\">\n",
              "      <th></th>\n",
              "      <th>yearJoined</th>\n",
              "    </tr>\n",
              "    <tr>\n",
              "      <th>userStats</th>\n",
              "      <th></th>\n",
              "    </tr>\n",
              "  </thead>\n",
              "  <tbody>\n",
              "    <tr>\n",
              "      <th>1</th>\n",
              "      <td>1000</td>\n",
              "    </tr>\n",
              "  </tbody>\n",
              "</table>\n",
              "</div>"
            ],
            "text/plain": [
              "           yearJoined\n",
              "userStats            \n",
              "1                1000"
            ]
          },
          "metadata": {},
          "execution_count": 3
        }
      ]
    },
    {
      "cell_type": "code",
      "metadata": {
        "colab": {
          "base_uri": "https://localhost:8080/",
          "height": 206
        },
        "id": "HXlOoKipYTMD",
        "outputId": "f13f144b-2a8a-4225-eb08-acd965aad9a7"
      },
      "source": [
        "YearJoined.head()"
      ],
      "execution_count": 4,
      "outputs": [
        {
          "output_type": "execute_result",
          "data": {
            "text/html": [
              "<div>\n",
              "<style scoped>\n",
              "    .dataframe tbody tr th:only-of-type {\n",
              "        vertical-align: middle;\n",
              "    }\n",
              "\n",
              "    .dataframe tbody tr th {\n",
              "        vertical-align: top;\n",
              "    }\n",
              "\n",
              "    .dataframe thead th {\n",
              "        text-align: right;\n",
              "    }\n",
              "</style>\n",
              "<table border=\"1\" class=\"dataframe\">\n",
              "  <thead>\n",
              "    <tr style=\"text-align: right;\">\n",
              "      <th></th>\n",
              "      <th>user</th>\n",
              "      <th>userStats</th>\n",
              "      <th>yearJoined</th>\n",
              "    </tr>\n",
              "  </thead>\n",
              "  <tbody>\n",
              "    <tr>\n",
              "      <th>0</th>\n",
              "      <td>0</td>\n",
              "      <td>silver</td>\n",
              "      <td>2014</td>\n",
              "    </tr>\n",
              "    <tr>\n",
              "      <th>1</th>\n",
              "      <td>1</td>\n",
              "      <td>silver</td>\n",
              "      <td>2015</td>\n",
              "    </tr>\n",
              "    <tr>\n",
              "      <th>2</th>\n",
              "      <td>2</td>\n",
              "      <td>silver</td>\n",
              "      <td>2016</td>\n",
              "    </tr>\n",
              "    <tr>\n",
              "      <th>3</th>\n",
              "      <td>3</td>\n",
              "      <td>bronze</td>\n",
              "      <td>2018</td>\n",
              "    </tr>\n",
              "    <tr>\n",
              "      <th>4</th>\n",
              "      <td>4</td>\n",
              "      <td>silver</td>\n",
              "      <td>2018</td>\n",
              "    </tr>\n",
              "  </tbody>\n",
              "</table>\n",
              "</div>"
            ],
            "text/plain": [
              "   user userStats  yearJoined\n",
              "0     0    silver        2014\n",
              "1     1    silver        2015\n",
              "2     2    silver        2016\n",
              "3     3    bronze        2018\n",
              "4     4    silver        2018"
            ]
          },
          "metadata": {},
          "execution_count": 4
        }
      ]
    },
    {
      "cell_type": "code",
      "metadata": {
        "colab": {
          "base_uri": "https://localhost:8080/",
          "height": 112
        },
        "id": "eFsWJJHcXVa7",
        "outputId": "7cea2694-5c42-47c8-b0b7-a4a8fb732408"
      },
      "source": [
        "YearJoined.groupby('user').count().groupby('userStats').count()"
      ],
      "execution_count": 5,
      "outputs": [
        {
          "output_type": "execute_result",
          "data": {
            "text/html": [
              "<div>\n",
              "<style scoped>\n",
              "    .dataframe tbody tr th:only-of-type {\n",
              "        vertical-align: middle;\n",
              "    }\n",
              "\n",
              "    .dataframe tbody tr th {\n",
              "        vertical-align: top;\n",
              "    }\n",
              "\n",
              "    .dataframe thead th {\n",
              "        text-align: right;\n",
              "    }\n",
              "</style>\n",
              "<table border=\"1\" class=\"dataframe\">\n",
              "  <thead>\n",
              "    <tr style=\"text-align: right;\">\n",
              "      <th></th>\n",
              "      <th>yearJoined</th>\n",
              "    </tr>\n",
              "    <tr>\n",
              "      <th>userStats</th>\n",
              "      <th></th>\n",
              "    </tr>\n",
              "  </thead>\n",
              "  <tbody>\n",
              "    <tr>\n",
              "      <th>1</th>\n",
              "      <td>1000</td>\n",
              "    </tr>\n",
              "  </tbody>\n",
              "</table>\n",
              "</div>"
            ],
            "text/plain": [
              "           yearJoined\n",
              "userStats            \n",
              "1                1000"
            ]
          },
          "metadata": {},
          "execution_count": 5
        }
      ]
    },
    {
      "cell_type": "markdown",
      "metadata": {
        "id": "8qxku8m6bp2v"
      },
      "source": [
        "이메일에서 null 경우 찾기"
      ]
    },
    {
      "cell_type": "code",
      "metadata": {
        "colab": {
          "base_uri": "https://localhost:8080/",
          "height": 49
        },
        "id": "RDedjrhWbuLo",
        "outputId": "fde1b984-42ff-47b2-c4d4-b5fed18d5f40"
      },
      "source": [
        "emails[emails.emailsOpened < 1]"
      ],
      "execution_count": 6,
      "outputs": [
        {
          "output_type": "execute_result",
          "data": {
            "text/html": [
              "<div>\n",
              "<style scoped>\n",
              "    .dataframe tbody tr th:only-of-type {\n",
              "        vertical-align: middle;\n",
              "    }\n",
              "\n",
              "    .dataframe tbody tr th {\n",
              "        vertical-align: top;\n",
              "    }\n",
              "\n",
              "    .dataframe thead th {\n",
              "        text-align: right;\n",
              "    }\n",
              "</style>\n",
              "<table border=\"1\" class=\"dataframe\">\n",
              "  <thead>\n",
              "    <tr style=\"text-align: right;\">\n",
              "      <th></th>\n",
              "      <th>emailsOpened</th>\n",
              "      <th>user</th>\n",
              "      <th>week</th>\n",
              "    </tr>\n",
              "  </thead>\n",
              "  <tbody>\n",
              "  </tbody>\n",
              "</table>\n",
              "</div>"
            ],
            "text/plain": [
              "Empty DataFrame\n",
              "Columns: [emailsOpened, user, week]\n",
              "Index: []"
            ]
          },
          "metadata": {},
          "execution_count": 6
        }
      ]
    },
    {
      "cell_type": "markdown",
      "metadata": {
        "id": "8tsmKyUZb9eT"
      },
      "source": [
        "널값이 없는걸로 보아 이상하므로 한 회원에 대한 기록을 살펴봄"
      ]
    },
    {
      "cell_type": "code",
      "metadata": {
        "colab": {
          "base_uri": "https://localhost:8080/",
          "height": 802
        },
        "id": "vaT9jhBGbx9K",
        "outputId": "6ea163f4-fbbb-42ea-c018-ab95dd4947ab"
      },
      "source": [
        "emails[emails.user == 998]"
      ],
      "execution_count": 7,
      "outputs": [
        {
          "output_type": "execute_result",
          "data": {
            "text/html": [
              "<div>\n",
              "<style scoped>\n",
              "    .dataframe tbody tr th:only-of-type {\n",
              "        vertical-align: middle;\n",
              "    }\n",
              "\n",
              "    .dataframe tbody tr th {\n",
              "        vertical-align: top;\n",
              "    }\n",
              "\n",
              "    .dataframe thead th {\n",
              "        text-align: right;\n",
              "    }\n",
              "</style>\n",
              "<table border=\"1\" class=\"dataframe\">\n",
              "  <thead>\n",
              "    <tr style=\"text-align: right;\">\n",
              "      <th></th>\n",
              "      <th>emailsOpened</th>\n",
              "      <th>user</th>\n",
              "      <th>week</th>\n",
              "    </tr>\n",
              "  </thead>\n",
              "  <tbody>\n",
              "    <tr>\n",
              "      <th>25464</th>\n",
              "      <td>1.0</td>\n",
              "      <td>998.0</td>\n",
              "      <td>2017-12-04 00:00:00</td>\n",
              "    </tr>\n",
              "    <tr>\n",
              "      <th>25465</th>\n",
              "      <td>3.0</td>\n",
              "      <td>998.0</td>\n",
              "      <td>2017-12-11 00:00:00</td>\n",
              "    </tr>\n",
              "    <tr>\n",
              "      <th>25466</th>\n",
              "      <td>3.0</td>\n",
              "      <td>998.0</td>\n",
              "      <td>2017-12-18 00:00:00</td>\n",
              "    </tr>\n",
              "    <tr>\n",
              "      <th>25467</th>\n",
              "      <td>3.0</td>\n",
              "      <td>998.0</td>\n",
              "      <td>2018-01-01 00:00:00</td>\n",
              "    </tr>\n",
              "    <tr>\n",
              "      <th>25468</th>\n",
              "      <td>3.0</td>\n",
              "      <td>998.0</td>\n",
              "      <td>2018-01-08 00:00:00</td>\n",
              "    </tr>\n",
              "    <tr>\n",
              "      <th>25469</th>\n",
              "      <td>2.0</td>\n",
              "      <td>998.0</td>\n",
              "      <td>2018-01-15 00:00:00</td>\n",
              "    </tr>\n",
              "    <tr>\n",
              "      <th>25470</th>\n",
              "      <td>3.0</td>\n",
              "      <td>998.0</td>\n",
              "      <td>2018-01-22 00:00:00</td>\n",
              "    </tr>\n",
              "    <tr>\n",
              "      <th>25471</th>\n",
              "      <td>2.0</td>\n",
              "      <td>998.0</td>\n",
              "      <td>2018-01-29 00:00:00</td>\n",
              "    </tr>\n",
              "    <tr>\n",
              "      <th>25472</th>\n",
              "      <td>3.0</td>\n",
              "      <td>998.0</td>\n",
              "      <td>2018-02-05 00:00:00</td>\n",
              "    </tr>\n",
              "    <tr>\n",
              "      <th>25473</th>\n",
              "      <td>3.0</td>\n",
              "      <td>998.0</td>\n",
              "      <td>2018-02-12 00:00:00</td>\n",
              "    </tr>\n",
              "    <tr>\n",
              "      <th>25474</th>\n",
              "      <td>3.0</td>\n",
              "      <td>998.0</td>\n",
              "      <td>2018-02-19 00:00:00</td>\n",
              "    </tr>\n",
              "    <tr>\n",
              "      <th>25475</th>\n",
              "      <td>2.0</td>\n",
              "      <td>998.0</td>\n",
              "      <td>2018-02-26 00:00:00</td>\n",
              "    </tr>\n",
              "    <tr>\n",
              "      <th>25476</th>\n",
              "      <td>2.0</td>\n",
              "      <td>998.0</td>\n",
              "      <td>2018-03-05 00:00:00</td>\n",
              "    </tr>\n",
              "    <tr>\n",
              "      <th>25477</th>\n",
              "      <td>3.0</td>\n",
              "      <td>998.0</td>\n",
              "      <td>2018-03-12 00:00:00</td>\n",
              "    </tr>\n",
              "    <tr>\n",
              "      <th>25478</th>\n",
              "      <td>2.0</td>\n",
              "      <td>998.0</td>\n",
              "      <td>2018-03-19 00:00:00</td>\n",
              "    </tr>\n",
              "    <tr>\n",
              "      <th>25479</th>\n",
              "      <td>2.0</td>\n",
              "      <td>998.0</td>\n",
              "      <td>2018-03-26 00:00:00</td>\n",
              "    </tr>\n",
              "    <tr>\n",
              "      <th>25480</th>\n",
              "      <td>3.0</td>\n",
              "      <td>998.0</td>\n",
              "      <td>2018-04-02 00:00:00</td>\n",
              "    </tr>\n",
              "    <tr>\n",
              "      <th>25481</th>\n",
              "      <td>3.0</td>\n",
              "      <td>998.0</td>\n",
              "      <td>2018-04-09 00:00:00</td>\n",
              "    </tr>\n",
              "    <tr>\n",
              "      <th>25482</th>\n",
              "      <td>3.0</td>\n",
              "      <td>998.0</td>\n",
              "      <td>2018-04-16 00:00:00</td>\n",
              "    </tr>\n",
              "    <tr>\n",
              "      <th>25483</th>\n",
              "      <td>3.0</td>\n",
              "      <td>998.0</td>\n",
              "      <td>2018-04-30 00:00:00</td>\n",
              "    </tr>\n",
              "    <tr>\n",
              "      <th>25484</th>\n",
              "      <td>3.0</td>\n",
              "      <td>998.0</td>\n",
              "      <td>2018-05-07 00:00:00</td>\n",
              "    </tr>\n",
              "    <tr>\n",
              "      <th>25485</th>\n",
              "      <td>3.0</td>\n",
              "      <td>998.0</td>\n",
              "      <td>2018-05-14 00:00:00</td>\n",
              "    </tr>\n",
              "    <tr>\n",
              "      <th>25486</th>\n",
              "      <td>3.0</td>\n",
              "      <td>998.0</td>\n",
              "      <td>2018-05-21 00:00:00</td>\n",
              "    </tr>\n",
              "    <tr>\n",
              "      <th>25487</th>\n",
              "      <td>3.0</td>\n",
              "      <td>998.0</td>\n",
              "      <td>2018-05-28 00:00:00</td>\n",
              "    </tr>\n",
              "  </tbody>\n",
              "</table>\n",
              "</div>"
            ],
            "text/plain": [
              "       emailsOpened   user                 week\n",
              "25464           1.0  998.0  2017-12-04 00:00:00\n",
              "25465           3.0  998.0  2017-12-11 00:00:00\n",
              "25466           3.0  998.0  2017-12-18 00:00:00\n",
              "25467           3.0  998.0  2018-01-01 00:00:00\n",
              "25468           3.0  998.0  2018-01-08 00:00:00\n",
              "25469           2.0  998.0  2018-01-15 00:00:00\n",
              "25470           3.0  998.0  2018-01-22 00:00:00\n",
              "25471           2.0  998.0  2018-01-29 00:00:00\n",
              "25472           3.0  998.0  2018-02-05 00:00:00\n",
              "25473           3.0  998.0  2018-02-12 00:00:00\n",
              "25474           3.0  998.0  2018-02-19 00:00:00\n",
              "25475           2.0  998.0  2018-02-26 00:00:00\n",
              "25476           2.0  998.0  2018-03-05 00:00:00\n",
              "25477           3.0  998.0  2018-03-12 00:00:00\n",
              "25478           2.0  998.0  2018-03-19 00:00:00\n",
              "25479           2.0  998.0  2018-03-26 00:00:00\n",
              "25480           3.0  998.0  2018-04-02 00:00:00\n",
              "25481           3.0  998.0  2018-04-09 00:00:00\n",
              "25482           3.0  998.0  2018-04-16 00:00:00\n",
              "25483           3.0  998.0  2018-04-30 00:00:00\n",
              "25484           3.0  998.0  2018-05-07 00:00:00\n",
              "25485           3.0  998.0  2018-05-14 00:00:00\n",
              "25486           3.0  998.0  2018-05-21 00:00:00\n",
              "25487           3.0  998.0  2018-05-28 00:00:00"
            ]
          },
          "metadata": {},
          "execution_count": 7
        }
      ]
    },
    {
      "cell_type": "markdown",
      "metadata": {
        "id": "9hPtDXR4cbAu"
      },
      "source": [
        "일부 주가 누락된 것으로 보임"
      ]
    },
    {
      "cell_type": "code",
      "metadata": {
        "colab": {
          "base_uri": "https://localhost:8080/"
        },
        "id": "jcLiSPfkcMbb",
        "outputId": "28f764e7-0627-476e-e03a-0b155f530fde"
      },
      "source": [
        "# ( 마지막 주 - 처음 주)의 일수를 7로 나눈 것\n",
        "import datetime\n",
        "date_time_str_max = max(emails[emails.user == 998].week)\n",
        "date_time_str_min = min(emails[emails.user == 998].week)\n",
        "\n",
        "date_time_obj_max = datetime.datetime.strptime(date_time_str_max, \"%Y-%m-%d %H:%M:%S\")\n",
        "date_time_obj_min = datetime.datetime.strptime(date_time_str_min, \"%Y-%m-%d %H:%M:%S\")\n",
        "\n",
        "(date_time_obj_max - date_time_obj_min).days/7"
      ],
      "execution_count": 8,
      "outputs": [
        {
          "output_type": "execute_result",
          "data": {
            "text/plain": [
              "25.0"
            ]
          },
          "metadata": {},
          "execution_count": 8
        }
      ]
    },
    {
      "cell_type": "markdown",
      "metadata": {
        "id": "y1C9tsAUd-U9"
      },
      "source": [
        "25.0인걸로 보아 26주간의 기록"
      ]
    },
    {
      "cell_type": "markdown",
      "metadata": {
        "id": "-NHf4nBRdp-k"
      },
      "source": [
        "해당 직원 주간 데이터 개수 확인"
      ]
    },
    {
      "cell_type": "code",
      "metadata": {
        "colab": {
          "base_uri": "https://localhost:8080/"
        },
        "id": "ckZ73eeYdlU0",
        "outputId": "f6960b90-7465-4292-eea4-eb78db679dc3"
      },
      "source": [
        "emails[emails.user == 998].shape"
      ],
      "execution_count": 9,
      "outputs": [
        {
          "output_type": "execute_result",
          "data": {
            "text/plain": [
              "(24, 3)"
            ]
          },
          "metadata": {},
          "execution_count": 9
        }
      ]
    },
    {
      "cell_type": "markdown",
      "metadata": {
        "id": "MoQaVTMBeBNO"
      },
      "source": [
        "24개 행으로 2개의 주가 누락된것으로 보임"
      ]
    },
    {
      "cell_type": "markdown",
      "metadata": {
        "id": "6tDElZ1xf9u5"
      },
      "source": [
        "누락된 값을 채워넣기 위해 MultiIndex 사용\n"
      ]
    },
    {
      "cell_type": "code",
      "metadata": {
        "id": "LWdgG9MUdvLE"
      },
      "source": [
        "complete_idx = pd.MultiIndex.from_product((set(emails.week), set(emails.user)))"
      ],
      "execution_count": 10,
      "outputs": []
    },
    {
      "cell_type": "code",
      "metadata": {
        "id": "0_O9LgSzgaWw"
      },
      "source": [
        "# 재색인 메서드 : reindex\n",
        "# 색인 재설정 메서드 : reset_index\n",
        "\n",
        "all_email = emails.set_index(['week', 'user']).reindex(complete_idx, fill_value=0).reset_index()\n",
        "all_email.columns = ['week', 'user', 'emailsOpened']"
      ],
      "execution_count": 11,
      "outputs": []
    },
    {
      "cell_type": "code",
      "metadata": {
        "colab": {
          "base_uri": "https://localhost:8080/",
          "height": 423
        },
        "id": "LPmkNIlpgxa7",
        "outputId": "05b90af2-d645-403f-fd85-02f146d1f560"
      },
      "source": [
        "all_email[all_email.user == 998].sort_values('week')"
      ],
      "execution_count": 12,
      "outputs": [
        {
          "output_type": "execute_result",
          "data": {
            "text/html": [
              "<div>\n",
              "<style scoped>\n",
              "    .dataframe tbody tr th:only-of-type {\n",
              "        vertical-align: middle;\n",
              "    }\n",
              "\n",
              "    .dataframe tbody tr th {\n",
              "        vertical-align: top;\n",
              "    }\n",
              "\n",
              "    .dataframe thead th {\n",
              "        text-align: right;\n",
              "    }\n",
              "</style>\n",
              "<table border=\"1\" class=\"dataframe\">\n",
              "  <thead>\n",
              "    <tr style=\"text-align: right;\">\n",
              "      <th></th>\n",
              "      <th>week</th>\n",
              "      <th>user</th>\n",
              "      <th>emailsOpened</th>\n",
              "    </tr>\n",
              "  </thead>\n",
              "  <tbody>\n",
              "    <tr>\n",
              "      <th>26410</th>\n",
              "      <td>2015-02-09 00:00:00</td>\n",
              "      <td>998.0</td>\n",
              "      <td>0.0</td>\n",
              "    </tr>\n",
              "    <tr>\n",
              "      <th>89473</th>\n",
              "      <td>2015-02-16 00:00:00</td>\n",
              "      <td>998.0</td>\n",
              "      <td>0.0</td>\n",
              "    </tr>\n",
              "    <tr>\n",
              "      <th>11857</th>\n",
              "      <td>2015-02-23 00:00:00</td>\n",
              "      <td>998.0</td>\n",
              "      <td>0.0</td>\n",
              "    </tr>\n",
              "    <tr>\n",
              "      <th>68991</th>\n",
              "      <td>2015-03-02 00:00:00</td>\n",
              "      <td>998.0</td>\n",
              "      <td>0.0</td>\n",
              "    </tr>\n",
              "    <tr>\n",
              "      <th>64679</th>\n",
              "      <td>2015-03-09 00:00:00</td>\n",
              "      <td>998.0</td>\n",
              "      <td>0.0</td>\n",
              "    </tr>\n",
              "    <tr>\n",
              "      <th>...</th>\n",
              "      <td>...</td>\n",
              "      <td>...</td>\n",
              "      <td>...</td>\n",
              "    </tr>\n",
              "    <tr>\n",
              "      <th>71686</th>\n",
              "      <td>2018-04-30 00:00:00</td>\n",
              "      <td>998.0</td>\n",
              "      <td>3.0</td>\n",
              "    </tr>\n",
              "    <tr>\n",
              "      <th>91629</th>\n",
              "      <td>2018-05-07 00:00:00</td>\n",
              "      <td>998.0</td>\n",
              "      <td>3.0</td>\n",
              "    </tr>\n",
              "    <tr>\n",
              "      <th>34495</th>\n",
              "      <td>2018-05-14 00:00:00</td>\n",
              "      <td>998.0</td>\n",
              "      <td>3.0</td>\n",
              "    </tr>\n",
              "    <tr>\n",
              "      <th>61445</th>\n",
              "      <td>2018-05-21 00:00:00</td>\n",
              "      <td>998.0</td>\n",
              "      <td>3.0</td>\n",
              "    </tr>\n",
              "    <tr>\n",
              "      <th>16169</th>\n",
              "      <td>2018-05-28 00:00:00</td>\n",
              "      <td>998.0</td>\n",
              "      <td>3.0</td>\n",
              "    </tr>\n",
              "  </tbody>\n",
              "</table>\n",
              "<p>173 rows × 3 columns</p>\n",
              "</div>"
            ],
            "text/plain": [
              "                      week   user  emailsOpened\n",
              "26410  2015-02-09 00:00:00  998.0           0.0\n",
              "89473  2015-02-16 00:00:00  998.0           0.0\n",
              "11857  2015-02-23 00:00:00  998.0           0.0\n",
              "68991  2015-03-02 00:00:00  998.0           0.0\n",
              "64679  2015-03-09 00:00:00  998.0           0.0\n",
              "...                    ...    ...           ...\n",
              "71686  2018-04-30 00:00:00  998.0           3.0\n",
              "91629  2018-05-07 00:00:00  998.0           3.0\n",
              "34495  2018-05-14 00:00:00  998.0           3.0\n",
              "61445  2018-05-21 00:00:00  998.0           3.0\n",
              "16169  2018-05-28 00:00:00  998.0           3.0\n",
              "\n",
              "[173 rows x 3 columns]"
            ]
          },
          "metadata": {},
          "execution_count": 12
        }
      ]
    },
    {
      "cell_type": "markdown",
      "metadata": {
        "id": "ahpMNM9eHl94"
      },
      "source": [
        "이메일 데이터프레임을 회원별로 그룹화하여 start_date 및 end_date를 결정하고, 이로부터 각 회원이 이메일을 수신해온 주의 시작과 끝을 얻는다."
      ]
    },
    {
      "cell_type": "code",
      "metadata": {
        "id": "Kd3lodHBg2Zi"
      },
      "source": [
        "cutoff_dates = emails.groupby('user').week.agg(['min', 'max']).reset_index()\n",
        "cutoff_dates = cutoff_dates.reset_index()"
      ],
      "execution_count": 13,
      "outputs": []
    },
    {
      "cell_type": "code",
      "metadata": {
        "colab": {
          "base_uri": "https://localhost:8080/",
          "height": 423
        },
        "id": "uvuPWksiIONZ",
        "outputId": "a1e4e1cd-7616-4032-c7ff-2f0febb4963f"
      },
      "source": [
        "cutoff_dates"
      ],
      "execution_count": 14,
      "outputs": [
        {
          "output_type": "execute_result",
          "data": {
            "text/html": [
              "<div>\n",
              "<style scoped>\n",
              "    .dataframe tbody tr th:only-of-type {\n",
              "        vertical-align: middle;\n",
              "    }\n",
              "\n",
              "    .dataframe tbody tr th {\n",
              "        vertical-align: top;\n",
              "    }\n",
              "\n",
              "    .dataframe thead th {\n",
              "        text-align: right;\n",
              "    }\n",
              "</style>\n",
              "<table border=\"1\" class=\"dataframe\">\n",
              "  <thead>\n",
              "    <tr style=\"text-align: right;\">\n",
              "      <th></th>\n",
              "      <th>index</th>\n",
              "      <th>user</th>\n",
              "      <th>min</th>\n",
              "      <th>max</th>\n",
              "    </tr>\n",
              "  </thead>\n",
              "  <tbody>\n",
              "    <tr>\n",
              "      <th>0</th>\n",
              "      <td>0</td>\n",
              "      <td>1.0</td>\n",
              "      <td>2015-06-29 00:00:00</td>\n",
              "      <td>2018-05-28 00:00:00</td>\n",
              "    </tr>\n",
              "    <tr>\n",
              "      <th>1</th>\n",
              "      <td>1</td>\n",
              "      <td>3.0</td>\n",
              "      <td>2018-03-05 00:00:00</td>\n",
              "      <td>2018-04-23 00:00:00</td>\n",
              "    </tr>\n",
              "    <tr>\n",
              "      <th>2</th>\n",
              "      <td>2</td>\n",
              "      <td>5.0</td>\n",
              "      <td>2017-06-05 00:00:00</td>\n",
              "      <td>2018-05-28 00:00:00</td>\n",
              "    </tr>\n",
              "    <tr>\n",
              "      <th>3</th>\n",
              "      <td>3</td>\n",
              "      <td>6.0</td>\n",
              "      <td>2016-12-05 00:00:00</td>\n",
              "      <td>2018-05-28 00:00:00</td>\n",
              "    </tr>\n",
              "    <tr>\n",
              "      <th>4</th>\n",
              "      <td>4</td>\n",
              "      <td>9.0</td>\n",
              "      <td>2016-07-18 00:00:00</td>\n",
              "      <td>2018-05-28 00:00:00</td>\n",
              "    </tr>\n",
              "    <tr>\n",
              "      <th>...</th>\n",
              "      <td>...</td>\n",
              "      <td>...</td>\n",
              "      <td>...</td>\n",
              "      <td>...</td>\n",
              "    </tr>\n",
              "    <tr>\n",
              "      <th>534</th>\n",
              "      <td>534</td>\n",
              "      <td>991.0</td>\n",
              "      <td>2016-10-24 00:00:00</td>\n",
              "      <td>2016-10-24 00:00:00</td>\n",
              "    </tr>\n",
              "    <tr>\n",
              "      <th>535</th>\n",
              "      <td>535</td>\n",
              "      <td>992.0</td>\n",
              "      <td>2015-02-09 00:00:00</td>\n",
              "      <td>2015-07-06 00:00:00</td>\n",
              "    </tr>\n",
              "    <tr>\n",
              "      <th>536</th>\n",
              "      <td>536</td>\n",
              "      <td>993.0</td>\n",
              "      <td>2017-09-11 00:00:00</td>\n",
              "      <td>2018-05-28 00:00:00</td>\n",
              "    </tr>\n",
              "    <tr>\n",
              "      <th>537</th>\n",
              "      <td>537</td>\n",
              "      <td>995.0</td>\n",
              "      <td>2016-09-05 00:00:00</td>\n",
              "      <td>2018-05-28 00:00:00</td>\n",
              "    </tr>\n",
              "    <tr>\n",
              "      <th>538</th>\n",
              "      <td>538</td>\n",
              "      <td>998.0</td>\n",
              "      <td>2017-12-04 00:00:00</td>\n",
              "      <td>2018-05-28 00:00:00</td>\n",
              "    </tr>\n",
              "  </tbody>\n",
              "</table>\n",
              "<p>539 rows × 4 columns</p>\n",
              "</div>"
            ],
            "text/plain": [
              "     index   user                  min                  max\n",
              "0        0    1.0  2015-06-29 00:00:00  2018-05-28 00:00:00\n",
              "1        1    3.0  2018-03-05 00:00:00  2018-04-23 00:00:00\n",
              "2        2    5.0  2017-06-05 00:00:00  2018-05-28 00:00:00\n",
              "3        3    6.0  2016-12-05 00:00:00  2018-05-28 00:00:00\n",
              "4        4    9.0  2016-07-18 00:00:00  2018-05-28 00:00:00\n",
              "..     ...    ...                  ...                  ...\n",
              "534    534  991.0  2016-10-24 00:00:00  2016-10-24 00:00:00\n",
              "535    535  992.0  2015-02-09 00:00:00  2015-07-06 00:00:00\n",
              "536    536  993.0  2017-09-11 00:00:00  2018-05-28 00:00:00\n",
              "537    537  995.0  2016-09-05 00:00:00  2018-05-28 00:00:00\n",
              "538    538  998.0  2017-12-04 00:00:00  2018-05-28 00:00:00\n",
              "\n",
              "[539 rows x 4 columns]"
            ]
          },
          "metadata": {},
          "execution_count": 14
        }
      ]
    },
    {
      "cell_type": "markdown",
      "metadata": {
        "id": "JSsBblBTIhRp"
      },
      "source": [
        "쓸모 없는 행 삭제"
      ]
    },
    {
      "cell_type": "code",
      "metadata": {
        "id": "N1nZp7D9IksJ"
      },
      "source": [
        "import warnings\n",
        "warnings.filterwarnings('ignore')\n",
        "\n",
        "for _, row in cutoff_dates.iterrows():\n",
        "    user = row['user']\n",
        "    start_date = row['min']\n",
        "    end_date = row['max']\n",
        "    # start_date 이전의 주에 대한 내용 삭제\n",
        "    all_email.drop(all_email[all_email.user == user][all_email.week < start_date].index, inplace=True)\n",
        "    # end_date 이후의 주에 대한 내용 삭제\n",
        "    all_email.drop(all_email[all_email.user == user][all_email.week > end_date].index, inplace=True)"
      ],
      "execution_count": 15,
      "outputs": []
    },
    {
      "cell_type": "markdown",
      "metadata": {
        "id": "r9KGsZctMQvs"
      },
      "source": [
        "### 2.2.2 발견된 시계열을 구성하기\n",
        "* 기부 데이터를 주간 시계열로 바꾼뒤 이메일 데이터와의 비교"
      ]
    },
    {
      "cell_type": "code",
      "metadata": {
        "id": "JMRHKj1QKHW6"
      },
      "source": [
        "donations.timestamp = pd.to_datetime(donations.timestamp)\n",
        "donations.set_index('timestamp', inplace=True)\n",
        "agg_don = donations.groupby('user').apply(lambda df: df.amount.resample(\"W-MON\").sum().dropna())"
      ],
      "execution_count": 16,
      "outputs": []
    },
    {
      "cell_type": "code",
      "metadata": {
        "colab": {
          "base_uri": "https://localhost:8080/"
        },
        "id": "GgVTsTOTM6PF",
        "outputId": "c5d6e7f8-8d5a-490c-d97c-99a8c1a298df"
      },
      "source": [
        "agg_don"
      ],
      "execution_count": 17,
      "outputs": [
        {
          "output_type": "execute_result",
          "data": {
            "text/plain": [
              "user   timestamp \n",
              "0.0    2015-03-30      25.0\n",
              "       2015-04-06       0.0\n",
              "       2015-04-13       0.0\n",
              "       2015-04-20       0.0\n",
              "       2015-04-27       0.0\n",
              "                      ...  \n",
              "995.0  2017-09-11       0.0\n",
              "       2017-09-18       0.0\n",
              "       2017-09-25       0.0\n",
              "       2017-10-02    1000.0\n",
              "998.0  2018-01-08      50.0\n",
              "Name: amount, Length: 32352, dtype: float64"
            ]
          },
          "metadata": {},
          "execution_count": 17
        }
      ]
    },
    {
      "cell_type": "markdown",
      "metadata": {
        "id": "IlCSnjvXNqEy"
      },
      "source": [
        "이메일 및 기부에 대한 데이터프레임 통합"
      ]
    },
    {
      "cell_type": "code",
      "metadata": {
        "id": "lvNelIagNsQT"
      },
      "source": [
        "merged_df = pd.DataFrame()\n",
        "\n",
        "for user, user_email in all_email.groupby('user'):\n",
        "    # 특정 회원의 기부 데이터 추출\n",
        "    user_donations = agg_don[agg_don.index.get_level_values('user') == user]\n",
        "\n",
        "    user_donations = user_donations.droplevel(0)\n",
        "\n",
        "    user_email = all_email[all_email.user == user]\n",
        "    user_email.sort_values('week', inplace=True)\n",
        "    user_email.set_index('week', inplace=True)\n",
        "\n",
        "    df = pd.merge(user_email, user_donations, how='left', left_index=True, right_index=True)\n",
        "    df.fillna(0)\n",
        "\n",
        "    merged_df = merged_df.append(df.reset_index()[['user', 'week', 'emailsOpened', 'amount']])"
      ],
      "execution_count": 18,
      "outputs": []
    },
    {
      "cell_type": "code",
      "metadata": {
        "colab": {
          "base_uri": "https://localhost:8080/",
          "height": 206
        },
        "id": "ASiY7kEvPAQ9",
        "outputId": "d6c6c2ee-7ce4-475e-ffb8-d331c964b018"
      },
      "source": [
        "merged_df.head(5)"
      ],
      "execution_count": 19,
      "outputs": [
        {
          "output_type": "execute_result",
          "data": {
            "text/html": [
              "<div>\n",
              "<style scoped>\n",
              "    .dataframe tbody tr th:only-of-type {\n",
              "        vertical-align: middle;\n",
              "    }\n",
              "\n",
              "    .dataframe tbody tr th {\n",
              "        vertical-align: top;\n",
              "    }\n",
              "\n",
              "    .dataframe thead th {\n",
              "        text-align: right;\n",
              "    }\n",
              "</style>\n",
              "<table border=\"1\" class=\"dataframe\">\n",
              "  <thead>\n",
              "    <tr style=\"text-align: right;\">\n",
              "      <th></th>\n",
              "      <th>user</th>\n",
              "      <th>week</th>\n",
              "      <th>emailsOpened</th>\n",
              "      <th>amount</th>\n",
              "    </tr>\n",
              "  </thead>\n",
              "  <tbody>\n",
              "    <tr>\n",
              "      <th>0</th>\n",
              "      <td>1.0</td>\n",
              "      <td>2015-06-29 00:00:00</td>\n",
              "      <td>3.0</td>\n",
              "      <td>NaN</td>\n",
              "    </tr>\n",
              "    <tr>\n",
              "      <th>1</th>\n",
              "      <td>1.0</td>\n",
              "      <td>2015-07-06 00:00:00</td>\n",
              "      <td>0.0</td>\n",
              "      <td>NaN</td>\n",
              "    </tr>\n",
              "    <tr>\n",
              "      <th>2</th>\n",
              "      <td>1.0</td>\n",
              "      <td>2015-07-13 00:00:00</td>\n",
              "      <td>2.0</td>\n",
              "      <td>NaN</td>\n",
              "    </tr>\n",
              "    <tr>\n",
              "      <th>3</th>\n",
              "      <td>1.0</td>\n",
              "      <td>2015-07-20 00:00:00</td>\n",
              "      <td>2.0</td>\n",
              "      <td>NaN</td>\n",
              "    </tr>\n",
              "    <tr>\n",
              "      <th>4</th>\n",
              "      <td>1.0</td>\n",
              "      <td>2015-07-27 00:00:00</td>\n",
              "      <td>3.0</td>\n",
              "      <td>NaN</td>\n",
              "    </tr>\n",
              "  </tbody>\n",
              "</table>\n",
              "</div>"
            ],
            "text/plain": [
              "   user                 week  emailsOpened  amount\n",
              "0   1.0  2015-06-29 00:00:00           3.0     NaN\n",
              "1   1.0  2015-07-06 00:00:00           0.0     NaN\n",
              "2   1.0  2015-07-13 00:00:00           2.0     NaN\n",
              "3   1.0  2015-07-20 00:00:00           2.0     NaN\n",
              "4   1.0  2015-07-27 00:00:00           3.0     NaN"
            ]
          },
          "metadata": {},
          "execution_count": 19
        }
      ]
    },
    {
      "cell_type": "markdown",
      "metadata": {
        "id": "NKlE57QCktbl"
      },
      "source": [
        "데이터를 적절한 주의 수만큼 옮기기"
      ]
    },
    {
      "cell_type": "code",
      "metadata": {
        "colab": {
          "base_uri": "https://localhost:8080/",
          "height": 269
        },
        "id": "ArpsqLsIPILw",
        "outputId": "06a3df1e-e875-42cd-c951-45bc2014af17"
      },
      "source": [
        "df = merged_df[merged_df.user == 998]\n",
        "df['target'] = df.amount.shift(1)\n",
        "df = df.fillna(0)\n",
        "df.head(7)"
      ],
      "execution_count": 20,
      "outputs": [
        {
          "output_type": "execute_result",
          "data": {
            "text/html": [
              "<div>\n",
              "<style scoped>\n",
              "    .dataframe tbody tr th:only-of-type {\n",
              "        vertical-align: middle;\n",
              "    }\n",
              "\n",
              "    .dataframe tbody tr th {\n",
              "        vertical-align: top;\n",
              "    }\n",
              "\n",
              "    .dataframe thead th {\n",
              "        text-align: right;\n",
              "    }\n",
              "</style>\n",
              "<table border=\"1\" class=\"dataframe\">\n",
              "  <thead>\n",
              "    <tr style=\"text-align: right;\">\n",
              "      <th></th>\n",
              "      <th>user</th>\n",
              "      <th>week</th>\n",
              "      <th>emailsOpened</th>\n",
              "      <th>amount</th>\n",
              "      <th>target</th>\n",
              "    </tr>\n",
              "  </thead>\n",
              "  <tbody>\n",
              "    <tr>\n",
              "      <th>0</th>\n",
              "      <td>998.0</td>\n",
              "      <td>2017-12-04</td>\n",
              "      <td>1.0</td>\n",
              "      <td>0.0</td>\n",
              "      <td>0.0</td>\n",
              "    </tr>\n",
              "    <tr>\n",
              "      <th>1</th>\n",
              "      <td>998.0</td>\n",
              "      <td>2017-12-11</td>\n",
              "      <td>3.0</td>\n",
              "      <td>0.0</td>\n",
              "      <td>0.0</td>\n",
              "    </tr>\n",
              "    <tr>\n",
              "      <th>2</th>\n",
              "      <td>998.0</td>\n",
              "      <td>2017-12-18</td>\n",
              "      <td>3.0</td>\n",
              "      <td>0.0</td>\n",
              "      <td>0.0</td>\n",
              "    </tr>\n",
              "    <tr>\n",
              "      <th>3</th>\n",
              "      <td>998.0</td>\n",
              "      <td>2017-12-25</td>\n",
              "      <td>0.0</td>\n",
              "      <td>0.0</td>\n",
              "      <td>0.0</td>\n",
              "    </tr>\n",
              "    <tr>\n",
              "      <th>4</th>\n",
              "      <td>998.0</td>\n",
              "      <td>2018-01-01</td>\n",
              "      <td>3.0</td>\n",
              "      <td>0.0</td>\n",
              "      <td>0.0</td>\n",
              "    </tr>\n",
              "    <tr>\n",
              "      <th>5</th>\n",
              "      <td>998.0</td>\n",
              "      <td>2018-01-08</td>\n",
              "      <td>3.0</td>\n",
              "      <td>50.0</td>\n",
              "      <td>0.0</td>\n",
              "    </tr>\n",
              "    <tr>\n",
              "      <th>6</th>\n",
              "      <td>998.0</td>\n",
              "      <td>2018-01-15</td>\n",
              "      <td>2.0</td>\n",
              "      <td>0.0</td>\n",
              "      <td>50.0</td>\n",
              "    </tr>\n",
              "  </tbody>\n",
              "</table>\n",
              "</div>"
            ],
            "text/plain": [
              "    user       week  emailsOpened  amount  target\n",
              "0  998.0 2017-12-04           1.0     0.0     0.0\n",
              "1  998.0 2017-12-11           3.0     0.0     0.0\n",
              "2  998.0 2017-12-18           3.0     0.0     0.0\n",
              "3  998.0 2017-12-25           0.0     0.0     0.0\n",
              "4  998.0 2018-01-01           3.0     0.0     0.0\n",
              "5  998.0 2018-01-08           3.0    50.0     0.0\n",
              "6  998.0 2018-01-15           2.0     0.0    50.0"
            ]
          },
          "metadata": {},
          "execution_count": 20
        }
      ]
    },
    {
      "cell_type": "markdown",
      "source": [
        "## 2.3 타임스탬프의 문제점"
      ],
      "metadata": {
        "id": "lIFSGFchPoxI"
      }
    },
    {
      "cell_type": "markdown",
      "source": [
        "### .\n",
        "    타임스탬프를 볼 떄 가장 먼저 생성과정, 방법, 시기에 대해 생각해봐야함.\n",
        "    발생 사건에 대한 기록은 실제와 일치하지 않는 경우가 종종 있음.\n",
        "    위와같은 문제를 피하기 위해서는 데이터의 수집 및 축적에 해당하는 코드를\n",
        "    읽어보거나, 그 코드를 작성한 사람과 직접 이야기해보거나 타임스탬프의\n",
        "    생성 절차의 평가에 강능한 한 직접 실행해보아야함."
      ],
      "metadata": {
        "id": "c1da6Bn_RBVR"
      }
    },
    {
      "cell_type": "code",
      "metadata": {
        "id": "HabC5leik_Dn"
      },
      "source": [
        "# 시간차이를 특징으로 사용가능\n",
        "# 이를 통해 각 사용자의 시간대 추정도 가능\n",
        "# df['dt'] = df.time - df.time.shift(-1)"
      ],
      "execution_count": 21,
      "outputs": []
    },
    {
      "cell_type": "markdown",
      "source": [
        "### 2.4.3 데이터 평활"
      ],
      "metadata": {
        "id": "5ww3U82AYVyq"
      }
    },
    {
      "cell_type": "markdown",
      "source": [
        "판다스에서 다양한 평활 방법을 지원함"
      ],
      "metadata": {
        "id": "2-6mSTrDY8AK"
      }
    },
    {
      "cell_type": "markdown",
      "source": [
        "지수평활"
      ],
      "metadata": {
        "id": "op5nBJnAYag-"
      }
    },
    {
      "cell_type": "code",
      "source": [
        "# 데이터 불러오기\n",
        "air = pd.read_csv(\"https://raw.githubusercontent.com/PracticalTimeSeriesAnalysis/BookRepo/master/Ch02/data/AirPassengers.csv\", names=['Date', 'Passengers'])"
      ],
      "metadata": {
        "id": "3-TEMNqbVAxB"
      },
      "execution_count": 22,
      "outputs": []
    },
    {
      "cell_type": "code",
      "source": [
        "air"
      ],
      "metadata": {
        "colab": {
          "base_uri": "https://localhost:8080/",
          "height": 423
        },
        "id": "YdZHfoXqZ2si",
        "outputId": "e46d8f03-fe23-43e3-b5d0-6626ba9530f8"
      },
      "execution_count": 23,
      "outputs": [
        {
          "output_type": "execute_result",
          "data": {
            "text/html": [
              "<div>\n",
              "<style scoped>\n",
              "    .dataframe tbody tr th:only-of-type {\n",
              "        vertical-align: middle;\n",
              "    }\n",
              "\n",
              "    .dataframe tbody tr th {\n",
              "        vertical-align: top;\n",
              "    }\n",
              "\n",
              "    .dataframe thead th {\n",
              "        text-align: right;\n",
              "    }\n",
              "</style>\n",
              "<table border=\"1\" class=\"dataframe\">\n",
              "  <thead>\n",
              "    <tr style=\"text-align: right;\">\n",
              "      <th></th>\n",
              "      <th>Date</th>\n",
              "      <th>Passengers</th>\n",
              "    </tr>\n",
              "  </thead>\n",
              "  <tbody>\n",
              "    <tr>\n",
              "      <th>0</th>\n",
              "      <td>1949-01</td>\n",
              "      <td>112</td>\n",
              "    </tr>\n",
              "    <tr>\n",
              "      <th>1</th>\n",
              "      <td>1949-02</td>\n",
              "      <td>118</td>\n",
              "    </tr>\n",
              "    <tr>\n",
              "      <th>2</th>\n",
              "      <td>1949-03</td>\n",
              "      <td>132</td>\n",
              "    </tr>\n",
              "    <tr>\n",
              "      <th>3</th>\n",
              "      <td>1949-04</td>\n",
              "      <td>129</td>\n",
              "    </tr>\n",
              "    <tr>\n",
              "      <th>4</th>\n",
              "      <td>1949-05</td>\n",
              "      <td>121</td>\n",
              "    </tr>\n",
              "    <tr>\n",
              "      <th>...</th>\n",
              "      <td>...</td>\n",
              "      <td>...</td>\n",
              "    </tr>\n",
              "    <tr>\n",
              "      <th>139</th>\n",
              "      <td>1960-08</td>\n",
              "      <td>606</td>\n",
              "    </tr>\n",
              "    <tr>\n",
              "      <th>140</th>\n",
              "      <td>1960-09</td>\n",
              "      <td>508</td>\n",
              "    </tr>\n",
              "    <tr>\n",
              "      <th>141</th>\n",
              "      <td>1960-10</td>\n",
              "      <td>461</td>\n",
              "    </tr>\n",
              "    <tr>\n",
              "      <th>142</th>\n",
              "      <td>1960-11</td>\n",
              "      <td>390</td>\n",
              "    </tr>\n",
              "    <tr>\n",
              "      <th>143</th>\n",
              "      <td>1960-12</td>\n",
              "      <td>432</td>\n",
              "    </tr>\n",
              "  </tbody>\n",
              "</table>\n",
              "<p>144 rows × 2 columns</p>\n",
              "</div>"
            ],
            "text/plain": [
              "        Date  Passengers\n",
              "0    1949-01         112\n",
              "1    1949-02         118\n",
              "2    1949-03         132\n",
              "3    1949-04         129\n",
              "4    1949-05         121\n",
              "..       ...         ...\n",
              "139  1960-08         606\n",
              "140  1960-09         508\n",
              "141  1960-10         461\n",
              "142  1960-11         390\n",
              "143  1960-12         432\n",
              "\n",
              "[144 rows x 2 columns]"
            ]
          },
          "metadata": {},
          "execution_count": 23
        }
      ]
    },
    {
      "cell_type": "code",
      "source": [
        "# 다양한 감쇠요인을 적용하여 평활\n",
        "air['Smooth.5'] = air.ewm(alpha=0.5).mean().Passengers\n",
        "air['Smooth.1'] = air.ewm(alpha=0.9).mean().Passengers"
      ],
      "metadata": {
        "id": "_JrKhrwOZ3aF"
      },
      "execution_count": 24,
      "outputs": []
    },
    {
      "cell_type": "markdown",
      "source": [
        "alpha 값이 크면 클수록 값의 갱신은 있는 그대로의 현재 값에 가깝도록 더 빨리 갱신"
      ],
      "metadata": {
        "id": "gEnJBlEzaWpS"
      }
    },
    {
      "cell_type": "code",
      "source": [
        "air"
      ],
      "metadata": {
        "colab": {
          "base_uri": "https://localhost:8080/",
          "height": 423
        },
        "id": "cKjOkmWMaKbh",
        "outputId": "f3ee7a0d-35b1-4dd0-e3ae-3d72910d4704"
      },
      "execution_count": 25,
      "outputs": [
        {
          "output_type": "execute_result",
          "data": {
            "text/html": [
              "<div>\n",
              "<style scoped>\n",
              "    .dataframe tbody tr th:only-of-type {\n",
              "        vertical-align: middle;\n",
              "    }\n",
              "\n",
              "    .dataframe tbody tr th {\n",
              "        vertical-align: top;\n",
              "    }\n",
              "\n",
              "    .dataframe thead th {\n",
              "        text-align: right;\n",
              "    }\n",
              "</style>\n",
              "<table border=\"1\" class=\"dataframe\">\n",
              "  <thead>\n",
              "    <tr style=\"text-align: right;\">\n",
              "      <th></th>\n",
              "      <th>Date</th>\n",
              "      <th>Passengers</th>\n",
              "      <th>Smooth.5</th>\n",
              "      <th>Smooth.1</th>\n",
              "    </tr>\n",
              "  </thead>\n",
              "  <tbody>\n",
              "    <tr>\n",
              "      <th>0</th>\n",
              "      <td>1949-01</td>\n",
              "      <td>112</td>\n",
              "      <td>112.000000</td>\n",
              "      <td>112.000000</td>\n",
              "    </tr>\n",
              "    <tr>\n",
              "      <th>1</th>\n",
              "      <td>1949-02</td>\n",
              "      <td>118</td>\n",
              "      <td>116.000000</td>\n",
              "      <td>117.454545</td>\n",
              "    </tr>\n",
              "    <tr>\n",
              "      <th>2</th>\n",
              "      <td>1949-03</td>\n",
              "      <td>132</td>\n",
              "      <td>125.142857</td>\n",
              "      <td>130.558559</td>\n",
              "    </tr>\n",
              "    <tr>\n",
              "      <th>3</th>\n",
              "      <td>1949-04</td>\n",
              "      <td>129</td>\n",
              "      <td>127.200000</td>\n",
              "      <td>129.155716</td>\n",
              "    </tr>\n",
              "    <tr>\n",
              "      <th>4</th>\n",
              "      <td>1949-05</td>\n",
              "      <td>121</td>\n",
              "      <td>124.000000</td>\n",
              "      <td>121.815498</td>\n",
              "    </tr>\n",
              "    <tr>\n",
              "      <th>...</th>\n",
              "      <td>...</td>\n",
              "      <td>...</td>\n",
              "      <td>...</td>\n",
              "      <td>...</td>\n",
              "    </tr>\n",
              "    <tr>\n",
              "      <th>139</th>\n",
              "      <td>1960-08</td>\n",
              "      <td>606</td>\n",
              "      <td>582.096411</td>\n",
              "      <td>606.665454</td>\n",
              "    </tr>\n",
              "    <tr>\n",
              "      <th>140</th>\n",
              "      <td>1960-09</td>\n",
              "      <td>508</td>\n",
              "      <td>545.048205</td>\n",
              "      <td>517.866545</td>\n",
              "    </tr>\n",
              "    <tr>\n",
              "      <th>141</th>\n",
              "      <td>1960-10</td>\n",
              "      <td>461</td>\n",
              "      <td>503.024103</td>\n",
              "      <td>466.686655</td>\n",
              "    </tr>\n",
              "    <tr>\n",
              "      <th>142</th>\n",
              "      <td>1960-11</td>\n",
              "      <td>390</td>\n",
              "      <td>446.512051</td>\n",
              "      <td>397.668665</td>\n",
              "    </tr>\n",
              "    <tr>\n",
              "      <th>143</th>\n",
              "      <td>1960-12</td>\n",
              "      <td>432</td>\n",
              "      <td>439.256026</td>\n",
              "      <td>428.566867</td>\n",
              "    </tr>\n",
              "  </tbody>\n",
              "</table>\n",
              "<p>144 rows × 4 columns</p>\n",
              "</div>"
            ],
            "text/plain": [
              "        Date  Passengers    Smooth.5    Smooth.1\n",
              "0    1949-01         112  112.000000  112.000000\n",
              "1    1949-02         118  116.000000  117.454545\n",
              "2    1949-03         132  125.142857  130.558559\n",
              "3    1949-04         129  127.200000  129.155716\n",
              "4    1949-05         121  124.000000  121.815498\n",
              "..       ...         ...         ...         ...\n",
              "139  1960-08         606  582.096411  606.665454\n",
              "140  1960-09         508  545.048205  517.866545\n",
              "141  1960-10         461  503.024103  466.686655\n",
              "142  1960-11         390  446.512051  397.668665\n",
              "143  1960-12         432  439.256026  428.566867\n",
              "\n",
              "[144 rows x 4 columns]"
            ]
          },
          "metadata": {},
          "execution_count": 25
        }
      ]
    },
    {
      "cell_type": "markdown",
      "source": [
        "## 2.6 시간대"
      ],
      "metadata": {
        "id": "FHpTHHs3GMnU"
      }
    },
    {
      "cell_type": "markdown",
      "source": [
        "컴퓨터 언어 대부분은 운영체제에 의존하여 시간대 정보를 얻음.<br/>\n",
        "But, 파이썬에 내장된 자동 시간 검색 함수는 시간대를 인식한 <br/>\n",
        "타임스탬프를 반환하지않음."
      ],
      "metadata": {
        "id": "zqX_ggLAJw-E"
      }
    },
    {
      "cell_type": "code",
      "source": [
        "datetime.datetime.utcnow()"
      ],
      "metadata": {
        "id": "Z_KlhED8aeYq",
        "colab": {
          "base_uri": "https://localhost:8080/"
        },
        "outputId": "18029ea7-0cff-4195-a781-9a0ebd9ec813"
      },
      "execution_count": 34,
      "outputs": [
        {
          "output_type": "execute_result",
          "data": {
            "text/plain": [
              "datetime.datetime(2021, 12, 14, 18, 28, 37, 359495)"
            ]
          },
          "metadata": {},
          "execution_count": 34
        }
      ]
    },
    {
      "cell_type": "code",
      "source": [
        "datetime.datetime.now()"
      ],
      "metadata": {
        "colab": {
          "base_uri": "https://localhost:8080/"
        },
        "id": "3qwJMEcDKYoa",
        "outputId": "bf5cec36-d0bf-49af-f189-457adfc6a739"
      },
      "execution_count": 35,
      "outputs": [
        {
          "output_type": "execute_result",
          "data": {
            "text/plain": [
              "datetime.datetime(2021, 12, 14, 18, 28, 37, 999959)"
            ]
          },
          "metadata": {},
          "execution_count": 35
        }
      ]
    },
    {
      "cell_type": "markdown",
      "source": [
        "시간대를 부여하지 않았지만, UTC를 반환하지 않았음."
      ],
      "metadata": {
        "id": "fnSuSFZWKjKR"
      }
    },
    {
      "cell_type": "code",
      "source": [
        "datetime.datetime.now(datetime.timezone.utc)"
      ],
      "metadata": {
        "colab": {
          "base_uri": "https://localhost:8080/"
        },
        "id": "07I9hRQ1KY8q",
        "outputId": "cac3166b-d643-4ba8-996a-06b10173b0ff"
      },
      "execution_count": 36,
      "outputs": [
        {
          "output_type": "execute_result",
          "data": {
            "text/plain": [
              "datetime.datetime(2021, 12, 14, 18, 28, 38, 11841, tzinfo=datetime.timezone.utc)"
            ]
          },
          "metadata": {},
          "execution_count": 36
        }
      ]
    },
    {
      "cell_type": "markdown",
      "source": [
        "파이썬으로 시간대 관련 작업을 하기 위해서는 timezone 객체를 생성"
      ],
      "metadata": {
        "id": "2GmY8aNANIuL"
      }
    },
    {
      "cell_type": "code",
      "source": [
        "# 미 서부에 태평양 표준시 지정\n",
        "import pytz\n",
        "\n",
        "western = pytz.timezone('US/Pacific')\n",
        "western.zone"
      ],
      "metadata": {
        "colab": {
          "base_uri": "https://localhost:8080/",
          "height": 36
        },
        "id": "IOHKxnGmNB4H",
        "outputId": "8114576b-52a7-4ce2-abb0-ea1b76508fc8"
      },
      "execution_count": 38,
      "outputs": [
        {
          "output_type": "execute_result",
          "data": {
            "application/vnd.google.colaboratory.intrinsic+json": {
              "type": "string"
            },
            "text/plain": [
              "'US/Pacific'"
            ]
          },
          "metadata": {},
          "execution_count": 38
        }
      ]
    },
    {
      "cell_type": "markdown",
      "source": [
        "이후 이 객체를 사용하여 다음과 같이 시간대를 현지화할 수 있음"
      ],
      "metadata": {
        "id": "LIqV3e3cNg8y"
      }
    },
    {
      "cell_type": "code",
      "source": [
        "# API는 시간대를 인지한 시간을 생성하는 두 가지 방법을 제공\n",
        "# 하나는 'localize'를 이용하는 방식\n",
        "# 다른 하나는 한 장소의 시간대를 다른 장소의 시간대로 변환하는 방식\n",
        "\n",
        "# 다음은 현지화하는 방법\n",
        "loc_dt = western.localize(datetime.datetime(2018, 5, 15, 12, 34, 0))\n",
        "loc_dt"
      ],
      "metadata": {
        "colab": {
          "base_uri": "https://localhost:8080/"
        },
        "id": "nPlWP5s4Nbls",
        "outputId": "76ae9115-4e00-4716-c9da-a22dd401ce2d"
      },
      "execution_count": 43,
      "outputs": [
        {
          "output_type": "execute_result",
          "data": {
            "text/plain": [
              "datetime.datetime(2018, 5, 15, 12, 34, tzinfo=<DstTzInfo 'US/Pacific' PDT-1 day, 17:00:00 DST>)"
            ]
          },
          "metadata": {},
          "execution_count": 43
        }
      ]
    },
    {
      "cell_type": "markdown",
      "source": [
        "But datetime 생성자에 시간대를 직접 전달하면 기대한 결과를 생성하지 않는 경우가 발생가능"
      ],
      "metadata": {
        "id": "a5n1Cfg5P3NU"
      }
    },
    {
      "cell_type": "code",
      "source": [
        "london_tz = pytz.timezone('Europe/London')\n",
        "london_dt = loc_dt.astimezone(london_tz)\n",
        "london_dt"
      ],
      "metadata": {
        "colab": {
          "base_uri": "https://localhost:8080/"
        },
        "id": "2v_gtV_zPyHC",
        "outputId": "1ac05168-bf9f-4607-b3de-11dbd7c8a6d7"
      },
      "execution_count": 45,
      "outputs": [
        {
          "output_type": "execute_result",
          "data": {
            "text/plain": [
              "datetime.datetime(2018, 5, 15, 20, 34, tzinfo=<DstTzInfo 'Europe/London' BST+1:00:00 DST>)"
            ]
          },
          "metadata": {},
          "execution_count": 45
        }
      ]
    },
    {
      "cell_type": "code",
      "source": [
        "f = '%Y-%m-%d %H:%M:%S %Z%z'\n",
        "datetime.datetime(2018, 5, 12, 12, 15, 0, tzinfo = london_tz).strftime(f)\n",
        "\n",
        "# pytz 공식 문서에서 강조하듯 datetime.datetime 생성자의 tzinfo를 사용하면\n",
        "# London의 예처럼 항상 원하는 결과를 얻게 되는것은 아니다\n",
        "\n",
        "# pytz 공식 문서에 따르면 이 방법은 일광 절약이 없는 시간대에서\n",
        "# 원하는 결과를 얻게 해줍니다."
      ],
      "metadata": {
        "colab": {
          "base_uri": "https://localhost:8080/",
          "height": 36
        },
        "id": "At9qIHbpQxR2",
        "outputId": "0080d806-76d4-461c-b036-7e2a3f647771"
      },
      "execution_count": 47,
      "outputs": [
        {
          "output_type": "execute_result",
          "data": {
            "application/vnd.google.colaboratory.intrinsic+json": {
              "type": "string"
            },
            "text/plain": [
              "'2018-05-12 12:15:00 LMT-0001'"
            ]
          },
          "metadata": {},
          "execution_count": 47
        }
      ]
    },
    {
      "cell_type": "markdown",
      "source": [
        "시간 간격을 계산"
      ],
      "metadata": {
        "id": "DlSxbSYjRzkh"
      }
    },
    {
      "cell_type": "code",
      "source": [
        "# 일반적으로 UTC 형식으로 데이터를 저장한 다음\n",
        "# 사람이 읽을 수 있는 형태로 출력할 때만 변환\n",
        "# 시간대에 대하여 날짜 간의 산술 연산도 할 수 있다\n",
        "event1 = datetime.datetime(2018, 5, 12, 12, 15, 0, tzinfo = london_tz)\n",
        "event2 = datetime.datetime(2018, 5, 13, 9, 15, 0, tzinfo = western)\n",
        "event2 - event1\n",
        "# 위와 같은 계산은 잘못된 시간 간격을 계산\n",
        "# 서로의 시간대가 적절하게 레이블링되지 않기 때문"
      ],
      "metadata": {
        "colab": {
          "base_uri": "https://localhost:8080/"
        },
        "id": "fPwAQBL1Rb9Q",
        "outputId": "b196235c-3b72-475b-83bc-e6cac506d2dd"
      },
      "execution_count": 49,
      "outputs": [
        {
          "output_type": "execute_result",
          "data": {
            "text/plain": [
              "datetime.timedelta(days=1, seconds=17520)"
            ]
          },
          "metadata": {},
          "execution_count": 49
        }
      ]
    },
    {
      "cell_type": "code",
      "source": [
        "event1 = london_tz.localize(datetime.datetime(2018, 5, 12, 12, 15, 0))\n",
        "event2 = western.localize(datetime.datetime(2018, 5, 13, 9, 15, 0))\n",
        "event2 - event1"
      ],
      "metadata": {
        "colab": {
          "base_uri": "https://localhost:8080/"
        },
        "id": "f-tNSssdSUoU",
        "outputId": "9f2791df-a7b1-41b7-e2ec-15fb8a9f2b9a"
      },
      "execution_count": 50,
      "outputs": [
        {
          "output_type": "execute_result",
          "data": {
            "text/plain": [
              "datetime.timedelta(days=1, seconds=18000)"
            ]
          },
          "metadata": {},
          "execution_count": 50
        }
      ]
    },
    {
      "cell_type": "markdown",
      "source": [
        "pytz는 국가별 시간대와 일반 시간대의 목록 제공"
      ],
      "metadata": {
        "id": "CI-zI9W4S2gc"
      }
    },
    {
      "cell_type": "code",
      "source": [
        "pytz.common_timezones"
      ],
      "metadata": {
        "colab": {
          "base_uri": "https://localhost:8080/"
        },
        "id": "PF3Va8vXSyfU",
        "outputId": "337f8010-4149-4a74-87a2-61e4c174a9ac"
      },
      "execution_count": 51,
      "outputs": [
        {
          "output_type": "execute_result",
          "data": {
            "text/plain": [
              "['Africa/Abidjan',\n",
              " 'Africa/Accra',\n",
              " 'Africa/Addis_Ababa',\n",
              " 'Africa/Algiers',\n",
              " 'Africa/Asmara',\n",
              " 'Africa/Bamako',\n",
              " 'Africa/Bangui',\n",
              " 'Africa/Banjul',\n",
              " 'Africa/Bissau',\n",
              " 'Africa/Blantyre',\n",
              " 'Africa/Brazzaville',\n",
              " 'Africa/Bujumbura',\n",
              " 'Africa/Cairo',\n",
              " 'Africa/Casablanca',\n",
              " 'Africa/Ceuta',\n",
              " 'Africa/Conakry',\n",
              " 'Africa/Dakar',\n",
              " 'Africa/Dar_es_Salaam',\n",
              " 'Africa/Djibouti',\n",
              " 'Africa/Douala',\n",
              " 'Africa/El_Aaiun',\n",
              " 'Africa/Freetown',\n",
              " 'Africa/Gaborone',\n",
              " 'Africa/Harare',\n",
              " 'Africa/Johannesburg',\n",
              " 'Africa/Juba',\n",
              " 'Africa/Kampala',\n",
              " 'Africa/Khartoum',\n",
              " 'Africa/Kigali',\n",
              " 'Africa/Kinshasa',\n",
              " 'Africa/Lagos',\n",
              " 'Africa/Libreville',\n",
              " 'Africa/Lome',\n",
              " 'Africa/Luanda',\n",
              " 'Africa/Lubumbashi',\n",
              " 'Africa/Lusaka',\n",
              " 'Africa/Malabo',\n",
              " 'Africa/Maputo',\n",
              " 'Africa/Maseru',\n",
              " 'Africa/Mbabane',\n",
              " 'Africa/Mogadishu',\n",
              " 'Africa/Monrovia',\n",
              " 'Africa/Nairobi',\n",
              " 'Africa/Ndjamena',\n",
              " 'Africa/Niamey',\n",
              " 'Africa/Nouakchott',\n",
              " 'Africa/Ouagadougou',\n",
              " 'Africa/Porto-Novo',\n",
              " 'Africa/Sao_Tome',\n",
              " 'Africa/Tripoli',\n",
              " 'Africa/Tunis',\n",
              " 'Africa/Windhoek',\n",
              " 'America/Adak',\n",
              " 'America/Anchorage',\n",
              " 'America/Anguilla',\n",
              " 'America/Antigua',\n",
              " 'America/Araguaina',\n",
              " 'America/Argentina/Buenos_Aires',\n",
              " 'America/Argentina/Catamarca',\n",
              " 'America/Argentina/Cordoba',\n",
              " 'America/Argentina/Jujuy',\n",
              " 'America/Argentina/La_Rioja',\n",
              " 'America/Argentina/Mendoza',\n",
              " 'America/Argentina/Rio_Gallegos',\n",
              " 'America/Argentina/Salta',\n",
              " 'America/Argentina/San_Juan',\n",
              " 'America/Argentina/San_Luis',\n",
              " 'America/Argentina/Tucuman',\n",
              " 'America/Argentina/Ushuaia',\n",
              " 'America/Aruba',\n",
              " 'America/Asuncion',\n",
              " 'America/Atikokan',\n",
              " 'America/Bahia',\n",
              " 'America/Bahia_Banderas',\n",
              " 'America/Barbados',\n",
              " 'America/Belem',\n",
              " 'America/Belize',\n",
              " 'America/Blanc-Sablon',\n",
              " 'America/Boa_Vista',\n",
              " 'America/Bogota',\n",
              " 'America/Boise',\n",
              " 'America/Cambridge_Bay',\n",
              " 'America/Campo_Grande',\n",
              " 'America/Cancun',\n",
              " 'America/Caracas',\n",
              " 'America/Cayenne',\n",
              " 'America/Cayman',\n",
              " 'America/Chicago',\n",
              " 'America/Chihuahua',\n",
              " 'America/Costa_Rica',\n",
              " 'America/Creston',\n",
              " 'America/Cuiaba',\n",
              " 'America/Curacao',\n",
              " 'America/Danmarkshavn',\n",
              " 'America/Dawson',\n",
              " 'America/Dawson_Creek',\n",
              " 'America/Denver',\n",
              " 'America/Detroit',\n",
              " 'America/Dominica',\n",
              " 'America/Edmonton',\n",
              " 'America/Eirunepe',\n",
              " 'America/El_Salvador',\n",
              " 'America/Fort_Nelson',\n",
              " 'America/Fortaleza',\n",
              " 'America/Glace_Bay',\n",
              " 'America/Godthab',\n",
              " 'America/Goose_Bay',\n",
              " 'America/Grand_Turk',\n",
              " 'America/Grenada',\n",
              " 'America/Guadeloupe',\n",
              " 'America/Guatemala',\n",
              " 'America/Guayaquil',\n",
              " 'America/Guyana',\n",
              " 'America/Halifax',\n",
              " 'America/Havana',\n",
              " 'America/Hermosillo',\n",
              " 'America/Indiana/Indianapolis',\n",
              " 'America/Indiana/Knox',\n",
              " 'America/Indiana/Marengo',\n",
              " 'America/Indiana/Petersburg',\n",
              " 'America/Indiana/Tell_City',\n",
              " 'America/Indiana/Vevay',\n",
              " 'America/Indiana/Vincennes',\n",
              " 'America/Indiana/Winamac',\n",
              " 'America/Inuvik',\n",
              " 'America/Iqaluit',\n",
              " 'America/Jamaica',\n",
              " 'America/Juneau',\n",
              " 'America/Kentucky/Louisville',\n",
              " 'America/Kentucky/Monticello',\n",
              " 'America/Kralendijk',\n",
              " 'America/La_Paz',\n",
              " 'America/Lima',\n",
              " 'America/Los_Angeles',\n",
              " 'America/Lower_Princes',\n",
              " 'America/Maceio',\n",
              " 'America/Managua',\n",
              " 'America/Manaus',\n",
              " 'America/Marigot',\n",
              " 'America/Martinique',\n",
              " 'America/Matamoros',\n",
              " 'America/Mazatlan',\n",
              " 'America/Menominee',\n",
              " 'America/Merida',\n",
              " 'America/Metlakatla',\n",
              " 'America/Mexico_City',\n",
              " 'America/Miquelon',\n",
              " 'America/Moncton',\n",
              " 'America/Monterrey',\n",
              " 'America/Montevideo',\n",
              " 'America/Montserrat',\n",
              " 'America/Nassau',\n",
              " 'America/New_York',\n",
              " 'America/Nipigon',\n",
              " 'America/Nome',\n",
              " 'America/Noronha',\n",
              " 'America/North_Dakota/Beulah',\n",
              " 'America/North_Dakota/Center',\n",
              " 'America/North_Dakota/New_Salem',\n",
              " 'America/Ojinaga',\n",
              " 'America/Panama',\n",
              " 'America/Pangnirtung',\n",
              " 'America/Paramaribo',\n",
              " 'America/Phoenix',\n",
              " 'America/Port-au-Prince',\n",
              " 'America/Port_of_Spain',\n",
              " 'America/Porto_Velho',\n",
              " 'America/Puerto_Rico',\n",
              " 'America/Punta_Arenas',\n",
              " 'America/Rainy_River',\n",
              " 'America/Rankin_Inlet',\n",
              " 'America/Recife',\n",
              " 'America/Regina',\n",
              " 'America/Resolute',\n",
              " 'America/Rio_Branco',\n",
              " 'America/Santarem',\n",
              " 'America/Santiago',\n",
              " 'America/Santo_Domingo',\n",
              " 'America/Sao_Paulo',\n",
              " 'America/Scoresbysund',\n",
              " 'America/Sitka',\n",
              " 'America/St_Barthelemy',\n",
              " 'America/St_Johns',\n",
              " 'America/St_Kitts',\n",
              " 'America/St_Lucia',\n",
              " 'America/St_Thomas',\n",
              " 'America/St_Vincent',\n",
              " 'America/Swift_Current',\n",
              " 'America/Tegucigalpa',\n",
              " 'America/Thule',\n",
              " 'America/Thunder_Bay',\n",
              " 'America/Tijuana',\n",
              " 'America/Toronto',\n",
              " 'America/Tortola',\n",
              " 'America/Vancouver',\n",
              " 'America/Whitehorse',\n",
              " 'America/Winnipeg',\n",
              " 'America/Yakutat',\n",
              " 'America/Yellowknife',\n",
              " 'Antarctica/Casey',\n",
              " 'Antarctica/Davis',\n",
              " 'Antarctica/DumontDUrville',\n",
              " 'Antarctica/Macquarie',\n",
              " 'Antarctica/Mawson',\n",
              " 'Antarctica/McMurdo',\n",
              " 'Antarctica/Palmer',\n",
              " 'Antarctica/Rothera',\n",
              " 'Antarctica/Syowa',\n",
              " 'Antarctica/Troll',\n",
              " 'Antarctica/Vostok',\n",
              " 'Arctic/Longyearbyen',\n",
              " 'Asia/Aden',\n",
              " 'Asia/Almaty',\n",
              " 'Asia/Amman',\n",
              " 'Asia/Anadyr',\n",
              " 'Asia/Aqtau',\n",
              " 'Asia/Aqtobe',\n",
              " 'Asia/Ashgabat',\n",
              " 'Asia/Atyrau',\n",
              " 'Asia/Baghdad',\n",
              " 'Asia/Bahrain',\n",
              " 'Asia/Baku',\n",
              " 'Asia/Bangkok',\n",
              " 'Asia/Barnaul',\n",
              " 'Asia/Beirut',\n",
              " 'Asia/Bishkek',\n",
              " 'Asia/Brunei',\n",
              " 'Asia/Chita',\n",
              " 'Asia/Choibalsan',\n",
              " 'Asia/Colombo',\n",
              " 'Asia/Damascus',\n",
              " 'Asia/Dhaka',\n",
              " 'Asia/Dili',\n",
              " 'Asia/Dubai',\n",
              " 'Asia/Dushanbe',\n",
              " 'Asia/Famagusta',\n",
              " 'Asia/Gaza',\n",
              " 'Asia/Hebron',\n",
              " 'Asia/Ho_Chi_Minh',\n",
              " 'Asia/Hong_Kong',\n",
              " 'Asia/Hovd',\n",
              " 'Asia/Irkutsk',\n",
              " 'Asia/Jakarta',\n",
              " 'Asia/Jayapura',\n",
              " 'Asia/Jerusalem',\n",
              " 'Asia/Kabul',\n",
              " 'Asia/Kamchatka',\n",
              " 'Asia/Karachi',\n",
              " 'Asia/Kathmandu',\n",
              " 'Asia/Khandyga',\n",
              " 'Asia/Kolkata',\n",
              " 'Asia/Krasnoyarsk',\n",
              " 'Asia/Kuala_Lumpur',\n",
              " 'Asia/Kuching',\n",
              " 'Asia/Kuwait',\n",
              " 'Asia/Macau',\n",
              " 'Asia/Magadan',\n",
              " 'Asia/Makassar',\n",
              " 'Asia/Manila',\n",
              " 'Asia/Muscat',\n",
              " 'Asia/Nicosia',\n",
              " 'Asia/Novokuznetsk',\n",
              " 'Asia/Novosibirsk',\n",
              " 'Asia/Omsk',\n",
              " 'Asia/Oral',\n",
              " 'Asia/Phnom_Penh',\n",
              " 'Asia/Pontianak',\n",
              " 'Asia/Pyongyang',\n",
              " 'Asia/Qatar',\n",
              " 'Asia/Qostanay',\n",
              " 'Asia/Qyzylorda',\n",
              " 'Asia/Riyadh',\n",
              " 'Asia/Sakhalin',\n",
              " 'Asia/Samarkand',\n",
              " 'Asia/Seoul',\n",
              " 'Asia/Shanghai',\n",
              " 'Asia/Singapore',\n",
              " 'Asia/Srednekolymsk',\n",
              " 'Asia/Taipei',\n",
              " 'Asia/Tashkent',\n",
              " 'Asia/Tbilisi',\n",
              " 'Asia/Tehran',\n",
              " 'Asia/Thimphu',\n",
              " 'Asia/Tokyo',\n",
              " 'Asia/Tomsk',\n",
              " 'Asia/Ulaanbaatar',\n",
              " 'Asia/Urumqi',\n",
              " 'Asia/Ust-Nera',\n",
              " 'Asia/Vientiane',\n",
              " 'Asia/Vladivostok',\n",
              " 'Asia/Yakutsk',\n",
              " 'Asia/Yangon',\n",
              " 'Asia/Yekaterinburg',\n",
              " 'Asia/Yerevan',\n",
              " 'Atlantic/Azores',\n",
              " 'Atlantic/Bermuda',\n",
              " 'Atlantic/Canary',\n",
              " 'Atlantic/Cape_Verde',\n",
              " 'Atlantic/Faroe',\n",
              " 'Atlantic/Madeira',\n",
              " 'Atlantic/Reykjavik',\n",
              " 'Atlantic/South_Georgia',\n",
              " 'Atlantic/St_Helena',\n",
              " 'Atlantic/Stanley',\n",
              " 'Australia/Adelaide',\n",
              " 'Australia/Brisbane',\n",
              " 'Australia/Broken_Hill',\n",
              " 'Australia/Currie',\n",
              " 'Australia/Darwin',\n",
              " 'Australia/Eucla',\n",
              " 'Australia/Hobart',\n",
              " 'Australia/Lindeman',\n",
              " 'Australia/Lord_Howe',\n",
              " 'Australia/Melbourne',\n",
              " 'Australia/Perth',\n",
              " 'Australia/Sydney',\n",
              " 'Canada/Atlantic',\n",
              " 'Canada/Central',\n",
              " 'Canada/Eastern',\n",
              " 'Canada/Mountain',\n",
              " 'Canada/Newfoundland',\n",
              " 'Canada/Pacific',\n",
              " 'Europe/Amsterdam',\n",
              " 'Europe/Andorra',\n",
              " 'Europe/Astrakhan',\n",
              " 'Europe/Athens',\n",
              " 'Europe/Belgrade',\n",
              " 'Europe/Berlin',\n",
              " 'Europe/Bratislava',\n",
              " 'Europe/Brussels',\n",
              " 'Europe/Bucharest',\n",
              " 'Europe/Budapest',\n",
              " 'Europe/Busingen',\n",
              " 'Europe/Chisinau',\n",
              " 'Europe/Copenhagen',\n",
              " 'Europe/Dublin',\n",
              " 'Europe/Gibraltar',\n",
              " 'Europe/Guernsey',\n",
              " 'Europe/Helsinki',\n",
              " 'Europe/Isle_of_Man',\n",
              " 'Europe/Istanbul',\n",
              " 'Europe/Jersey',\n",
              " 'Europe/Kaliningrad',\n",
              " 'Europe/Kiev',\n",
              " 'Europe/Kirov',\n",
              " 'Europe/Lisbon',\n",
              " 'Europe/Ljubljana',\n",
              " 'Europe/London',\n",
              " 'Europe/Luxembourg',\n",
              " 'Europe/Madrid',\n",
              " 'Europe/Malta',\n",
              " 'Europe/Mariehamn',\n",
              " 'Europe/Minsk',\n",
              " 'Europe/Monaco',\n",
              " 'Europe/Moscow',\n",
              " 'Europe/Oslo',\n",
              " 'Europe/Paris',\n",
              " 'Europe/Podgorica',\n",
              " 'Europe/Prague',\n",
              " 'Europe/Riga',\n",
              " 'Europe/Rome',\n",
              " 'Europe/Samara',\n",
              " 'Europe/San_Marino',\n",
              " 'Europe/Sarajevo',\n",
              " 'Europe/Saratov',\n",
              " 'Europe/Simferopol',\n",
              " 'Europe/Skopje',\n",
              " 'Europe/Sofia',\n",
              " 'Europe/Stockholm',\n",
              " 'Europe/Tallinn',\n",
              " 'Europe/Tirane',\n",
              " 'Europe/Ulyanovsk',\n",
              " 'Europe/Uzhgorod',\n",
              " 'Europe/Vaduz',\n",
              " 'Europe/Vatican',\n",
              " 'Europe/Vienna',\n",
              " 'Europe/Vilnius',\n",
              " 'Europe/Volgograd',\n",
              " 'Europe/Warsaw',\n",
              " 'Europe/Zagreb',\n",
              " 'Europe/Zaporozhye',\n",
              " 'Europe/Zurich',\n",
              " 'GMT',\n",
              " 'Indian/Antananarivo',\n",
              " 'Indian/Chagos',\n",
              " 'Indian/Christmas',\n",
              " 'Indian/Cocos',\n",
              " 'Indian/Comoro',\n",
              " 'Indian/Kerguelen',\n",
              " 'Indian/Mahe',\n",
              " 'Indian/Maldives',\n",
              " 'Indian/Mauritius',\n",
              " 'Indian/Mayotte',\n",
              " 'Indian/Reunion',\n",
              " 'Pacific/Apia',\n",
              " 'Pacific/Auckland',\n",
              " 'Pacific/Bougainville',\n",
              " 'Pacific/Chatham',\n",
              " 'Pacific/Chuuk',\n",
              " 'Pacific/Easter',\n",
              " 'Pacific/Efate',\n",
              " 'Pacific/Enderbury',\n",
              " 'Pacific/Fakaofo',\n",
              " 'Pacific/Fiji',\n",
              " 'Pacific/Funafuti',\n",
              " 'Pacific/Galapagos',\n",
              " 'Pacific/Gambier',\n",
              " 'Pacific/Guadalcanal',\n",
              " 'Pacific/Guam',\n",
              " 'Pacific/Honolulu',\n",
              " 'Pacific/Kiritimati',\n",
              " 'Pacific/Kosrae',\n",
              " 'Pacific/Kwajalein',\n",
              " 'Pacific/Majuro',\n",
              " 'Pacific/Marquesas',\n",
              " 'Pacific/Midway',\n",
              " 'Pacific/Nauru',\n",
              " 'Pacific/Niue',\n",
              " 'Pacific/Norfolk',\n",
              " 'Pacific/Noumea',\n",
              " 'Pacific/Pago_Pago',\n",
              " 'Pacific/Palau',\n",
              " 'Pacific/Pitcairn',\n",
              " 'Pacific/Pohnpei',\n",
              " 'Pacific/Port_Moresby',\n",
              " 'Pacific/Rarotonga',\n",
              " 'Pacific/Saipan',\n",
              " 'Pacific/Tahiti',\n",
              " 'Pacific/Tarawa',\n",
              " 'Pacific/Tongatapu',\n",
              " 'Pacific/Wake',\n",
              " 'Pacific/Wallis',\n",
              " 'US/Alaska',\n",
              " 'US/Arizona',\n",
              " 'US/Central',\n",
              " 'US/Eastern',\n",
              " 'US/Hawaii',\n",
              " 'US/Mountain',\n",
              " 'US/Pacific',\n",
              " 'UTC']"
            ]
          },
          "metadata": {},
          "execution_count": 51
        }
      ]
    },
    {
      "cell_type": "code",
      "source": [
        "# 국가별 시간대\n",
        "pytz.country_timezones('RU')"
      ],
      "metadata": {
        "colab": {
          "base_uri": "https://localhost:8080/"
        },
        "id": "uF13E1_4S80w",
        "outputId": "c7f44169-f49c-4f16-d279-8e16172acf4d"
      },
      "execution_count": 52,
      "outputs": [
        {
          "output_type": "execute_result",
          "data": {
            "text/plain": [
              "['Europe/Kaliningrad',\n",
              " 'Europe/Moscow',\n",
              " 'Europe/Simferopol',\n",
              " 'Europe/Kirov',\n",
              " 'Europe/Astrakhan',\n",
              " 'Europe/Volgograd',\n",
              " 'Europe/Saratov',\n",
              " 'Europe/Ulyanovsk',\n",
              " 'Europe/Samara',\n",
              " 'Asia/Yekaterinburg',\n",
              " 'Asia/Omsk',\n",
              " 'Asia/Novosibirsk',\n",
              " 'Asia/Barnaul',\n",
              " 'Asia/Tomsk',\n",
              " 'Asia/Novokuznetsk',\n",
              " 'Asia/Krasnoyarsk',\n",
              " 'Asia/Irkutsk',\n",
              " 'Asia/Chita',\n",
              " 'Asia/Yakutsk',\n",
              " 'Asia/Khandyga',\n",
              " 'Asia/Vladivostok',\n",
              " 'Asia/Ust-Nera',\n",
              " 'Asia/Magadan',\n",
              " 'Asia/Sakhalin',\n",
              " 'Asia/Srednekolymsk',\n",
              " 'Asia/Kamchatka',\n",
              " 'Asia/Anadyr']"
            ]
          },
          "metadata": {},
          "execution_count": 52
        }
      ]
    },
    {
      "cell_type": "code",
      "source": [
        "pytz.country_timezones('fr')  # fr <- 프랑스인듯"
      ],
      "metadata": {
        "colab": {
          "base_uri": "https://localhost:8080/"
        },
        "id": "C8WPrYbhTQge",
        "outputId": "8541ff5b-c175-40dd-cd40-a2a20c5f820c"
      },
      "execution_count": 54,
      "outputs": [
        {
          "output_type": "execute_result",
          "data": {
            "text/plain": [
              "['Europe/Paris']"
            ]
          },
          "metadata": {},
          "execution_count": 54
        }
      ]
    },
    {
      "cell_type": "markdown",
      "source": [
        "일광 절약이 있으면 특정 시간은 두 번 존재 하는 반면(가을이 늦어짐),<br/>\n",
        "아예 존재하지 않는 시간도 있음(봄을 앞질러 감)"
      ],
      "metadata": {
        "id": "h1fVCcDIVJuf"
      }
    },
    {
      "cell_type": "code",
      "source": [
        "# 시간대\n",
        "ambig_time = western.localize(datetime.datetime(2002, 10, 27, 1, 30, 00)).astimezone(datetime.timezone.utc)\n",
        "ambig_time_earlier = ambig_time - datetime.timedelta(hours=1)\n",
        "ambig_time_later = ambig_time + datetime.timedelta(hours=1)\n",
        "ambig_time_earlier.astimezone(western)"
      ],
      "metadata": {
        "colab": {
          "base_uri": "https://localhost:8080/"
        },
        "id": "sMWUZq4SVAX3",
        "outputId": "6d35709b-ad52-437c-fee8-bf2b58954395"
      },
      "execution_count": 59,
      "outputs": [
        {
          "output_type": "execute_result",
          "data": {
            "text/plain": [
              "datetime.datetime(2002, 10, 27, 1, 30, tzinfo=<DstTzInfo 'US/Pacific' PDT-1 day, 17:00:00 DST>)"
            ]
          },
          "metadata": {},
          "execution_count": 59
        }
      ]
    },
    {
      "cell_type": "code",
      "source": [
        "ambig_time.astimezone(western)"
      ],
      "metadata": {
        "colab": {
          "base_uri": "https://localhost:8080/"
        },
        "id": "Z27H7pTdV7sy",
        "outputId": "a871022d-fd11-4cea-e6b2-2cbefb31acbf"
      },
      "execution_count": 60,
      "outputs": [
        {
          "output_type": "execute_result",
          "data": {
            "text/plain": [
              "datetime.datetime(2002, 10, 27, 1, 30, tzinfo=<DstTzInfo 'US/Pacific' PST-1 day, 16:00:00 STD>)"
            ]
          },
          "metadata": {},
          "execution_count": 60
        }
      ]
    },
    {
      "cell_type": "code",
      "source": [
        "ambig_time_later.astimezone(western)"
      ],
      "metadata": {
        "colab": {
          "base_uri": "https://localhost:8080/"
        },
        "id": "W_KB94OVZKSF",
        "outputId": "28feb7da-70f0-4dec-dd5d-67a4820e8c25"
      },
      "execution_count": 61,
      "outputs": [
        {
          "output_type": "execute_result",
          "data": {
            "text/plain": [
              "datetime.datetime(2002, 10, 27, 2, 30, tzinfo=<DstTzInfo 'US/Pacific' PST-1 day, 16:00:00 STD>)"
            ]
          },
          "metadata": {},
          "execution_count": 61
        }
      ]
    },
    {
      "cell_type": "markdown",
      "source": [
        "위의 마지막 두 타임스탬프는 동일함. 좋지않은 상황<br/>\n",
        "이 경에는 is_dst를 사용하서 일광 절약의 적용 여부를 표시해야 합니다."
      ],
      "metadata": {
        "id": "B1h4ofHXZapl"
      }
    },
    {
      "cell_type": "code",
      "source": [
        "ambig_time = western.localize(datetime.datetime(2002, 10, 27, 1, 30, 00), is_dst=True).astimezone(datetime.timezone.utc)\n",
        "ambig_time_earlier = ambig_time - datetime.timedelta(hours=1)\n",
        "ambig_time_later = ambig_time + datetime.timedelta(hours=1)\n",
        "ambig_time_earlier.astimezone(western)"
      ],
      "metadata": {
        "colab": {
          "base_uri": "https://localhost:8080/"
        },
        "id": "SbHBiYD-ZMcf",
        "outputId": "41148c55-167b-4ef1-a957-8fe22196519f"
      },
      "execution_count": 62,
      "outputs": [
        {
          "output_type": "execute_result",
          "data": {
            "text/plain": [
              "datetime.datetime(2002, 10, 27, 0, 30, tzinfo=<DstTzInfo 'US/Pacific' PDT-1 day, 17:00:00 DST>)"
            ]
          },
          "metadata": {},
          "execution_count": 62
        }
      ]
    },
    {
      "cell_type": "code",
      "source": [
        "ambig_time.astimezone(western)"
      ],
      "metadata": {
        "colab": {
          "base_uri": "https://localhost:8080/"
        },
        "id": "yDFpwDNXZ_O3",
        "outputId": "67e10601-b785-4fd2-a5c5-9780aeb8ba38"
      },
      "execution_count": 63,
      "outputs": [
        {
          "output_type": "execute_result",
          "data": {
            "text/plain": [
              "datetime.datetime(2002, 10, 27, 1, 30, tzinfo=<DstTzInfo 'US/Pacific' PDT-1 day, 17:00:00 DST>)"
            ]
          },
          "metadata": {},
          "execution_count": 63
        }
      ]
    },
    {
      "cell_type": "code",
      "source": [
        "ambig_time_later.astimezone(western)"
      ],
      "metadata": {
        "colab": {
          "base_uri": "https://localhost:8080/"
        },
        "id": "5-Z7AS25aGSA",
        "outputId": "c839823c-68f9-4a13-da24-18ec6308d9ed"
      },
      "execution_count": 64,
      "outputs": [
        {
          "output_type": "execute_result",
          "data": {
            "text/plain": [
              "datetime.datetime(2002, 10, 27, 1, 30, tzinfo=<DstTzInfo 'US/Pacific' PST-1 day, 16:00:00 STD>)"
            ]
          },
          "metadata": {},
          "execution_count": 64
        }
      ]
    },
    {
      "cell_type": "markdown",
      "source": [
        "이번에는 동일 시간이 두 번 발생하지 않음.<br/>\n",
        "UTC로부터 오프셋을 확인할 때까지 이러한 방법으로 보여짐."
      ],
      "metadata": {
        "id": "jeFkuLdzaI5b"
      }
    }
  ]
}