{
  "nbformat": 4,
  "nbformat_minor": 0,
  "metadata": {
    "colab": {
      "name": "PTSA_chap_14.ipynb",
      "provenance": [],
      "collapsed_sections": []
    },
    "kernelspec": {
      "name": "python3",
      "display_name": "Python 3"
    },
    "language_info": {
      "name": "python"
    }
  },
  "cells": [
    {
      "cell_type": "markdown",
      "source": [
        "# Chapter 14 금융 애플리케이션"
      ],
      "metadata": {
        "id": "Qrg-jirG3LEB"
      }
    },
    {
      "cell_type": "code",
      "source": [
        "!pip install yfinance"
      ],
      "metadata": {
        "colab": {
          "base_uri": "https://localhost:8080/"
        },
        "id": "2_xhp3Ce9Z2P",
        "outputId": "9f3ca9b9-5480-47f6-8366-a1b0dbd8a91d"
      },
      "execution_count": 16,
      "outputs": [
        {
          "output_type": "stream",
          "name": "stdout",
          "text": [
            "Requirement already satisfied: yfinance in /usr/local/lib/python3.7/dist-packages (0.1.68)\n",
            "Requirement already satisfied: requests>=2.26 in /usr/local/lib/python3.7/dist-packages (from yfinance) (2.26.0)\n",
            "Requirement already satisfied: multitasking>=0.0.7 in /usr/local/lib/python3.7/dist-packages (from yfinance) (0.0.10)\n",
            "Requirement already satisfied: lxml>=4.5.1 in /usr/local/lib/python3.7/dist-packages (from yfinance) (4.7.1)\n",
            "Requirement already satisfied: pandas>=0.24 in /usr/local/lib/python3.7/dist-packages (from yfinance) (1.1.5)\n",
            "Requirement already satisfied: numpy>=1.15 in /usr/local/lib/python3.7/dist-packages (from yfinance) (1.19.5)\n",
            "Requirement already satisfied: python-dateutil>=2.7.3 in /usr/local/lib/python3.7/dist-packages (from pandas>=0.24->yfinance) (2.8.2)\n",
            "Requirement already satisfied: pytz>=2017.2 in /usr/local/lib/python3.7/dist-packages (from pandas>=0.24->yfinance) (2018.9)\n",
            "Requirement already satisfied: six>=1.5 in /usr/local/lib/python3.7/dist-packages (from python-dateutil>=2.7.3->pandas>=0.24->yfinance) (1.15.0)\n",
            "Requirement already satisfied: certifi>=2017.4.17 in /usr/local/lib/python3.7/dist-packages (from requests>=2.26->yfinance) (2021.10.8)\n",
            "Requirement already satisfied: urllib3<1.27,>=1.21.1 in /usr/local/lib/python3.7/dist-packages (from requests>=2.26->yfinance) (1.24.3)\n",
            "Requirement already satisfied: charset-normalizer~=2.0.0 in /usr/local/lib/python3.7/dist-packages (from requests>=2.26->yfinance) (2.0.8)\n",
            "Requirement already satisfied: idna<4,>=2.5 in /usr/local/lib/python3.7/dist-packages (from requests>=2.26->yfinance) (2.10)\n"
          ]
        }
      ]
    },
    {
      "cell_type": "code",
      "execution_count": 17,
      "metadata": {
        "colab": {
          "base_uri": "https://localhost:8080/"
        },
        "id": "x5qFrBVv29aJ",
        "outputId": "89d7d926-f67a-4ad1-cc4b-be978d7c30f2"
      },
      "outputs": [
        {
          "output_type": "stream",
          "name": "stdout",
          "text": [
            "\r[*********************100%***********************]  1 of 1 completed\n"
          ]
        }
      ],
      "source": [
        "import pandas as pd\n",
        "import numpy as np\n",
        "import matplotlib.pyplot as plt\n",
        "import FinanceDataReader as fdr\n",
        "import yfinance as yf\n",
        "\n",
        "start_date = '1990-02-13'\n",
        "end_date = '2019-02-13'\n",
        "\n",
        "df = yf.download('^GSPC', start=start_date, end=end_date)"
      ]
    },
    {
      "cell_type": "code",
      "source": [
        "df.head()"
      ],
      "metadata": {
        "colab": {
          "base_uri": "https://localhost:8080/",
          "height": 281
        },
        "id": "RvUbFkQ89Fyp",
        "outputId": "8454fd19-66d2-4fe1-fc6b-039df2ae5b3d"
      },
      "execution_count": 18,
      "outputs": [
        {
          "output_type": "execute_result",
          "data": {
            "text/html": [
              "\n",
              "  <div id=\"df-e20e189e-86c8-4081-82ca-aa1c079f073d\">\n",
              "    <div class=\"colab-df-container\">\n",
              "      <div>\n",
              "<style scoped>\n",
              "    .dataframe tbody tr th:only-of-type {\n",
              "        vertical-align: middle;\n",
              "    }\n",
              "\n",
              "    .dataframe tbody tr th {\n",
              "        vertical-align: top;\n",
              "    }\n",
              "\n",
              "    .dataframe thead th {\n",
              "        text-align: right;\n",
              "    }\n",
              "</style>\n",
              "<table border=\"1\" class=\"dataframe\">\n",
              "  <thead>\n",
              "    <tr style=\"text-align: right;\">\n",
              "      <th></th>\n",
              "      <th>Open</th>\n",
              "      <th>High</th>\n",
              "      <th>Low</th>\n",
              "      <th>Close</th>\n",
              "      <th>Adj Close</th>\n",
              "      <th>Volume</th>\n",
              "    </tr>\n",
              "    <tr>\n",
              "      <th>Date</th>\n",
              "      <th></th>\n",
              "      <th></th>\n",
              "      <th></th>\n",
              "      <th></th>\n",
              "      <th></th>\n",
              "      <th></th>\n",
              "    </tr>\n",
              "  </thead>\n",
              "  <tbody>\n",
              "    <tr>\n",
              "      <th>1990-02-13</th>\n",
              "      <td>330.079987</td>\n",
              "      <td>331.609985</td>\n",
              "      <td>327.920013</td>\n",
              "      <td>331.019989</td>\n",
              "      <td>331.019989</td>\n",
              "      <td>144490000</td>\n",
              "    </tr>\n",
              "    <tr>\n",
              "      <th>1990-02-14</th>\n",
              "      <td>331.019989</td>\n",
              "      <td>333.200012</td>\n",
              "      <td>330.640015</td>\n",
              "      <td>332.010010</td>\n",
              "      <td>332.010010</td>\n",
              "      <td>138530000</td>\n",
              "    </tr>\n",
              "    <tr>\n",
              "      <th>1990-02-15</th>\n",
              "      <td>332.010010</td>\n",
              "      <td>335.209991</td>\n",
              "      <td>331.609985</td>\n",
              "      <td>334.890015</td>\n",
              "      <td>334.890015</td>\n",
              "      <td>174620000</td>\n",
              "    </tr>\n",
              "    <tr>\n",
              "      <th>1990-02-16</th>\n",
              "      <td>334.890015</td>\n",
              "      <td>335.640015</td>\n",
              "      <td>332.420013</td>\n",
              "      <td>332.720001</td>\n",
              "      <td>332.720001</td>\n",
              "      <td>166840000</td>\n",
              "    </tr>\n",
              "    <tr>\n",
              "      <th>1990-02-20</th>\n",
              "      <td>332.720001</td>\n",
              "      <td>332.720001</td>\n",
              "      <td>326.260010</td>\n",
              "      <td>327.989990</td>\n",
              "      <td>327.989990</td>\n",
              "      <td>147300000</td>\n",
              "    </tr>\n",
              "  </tbody>\n",
              "</table>\n",
              "</div>\n",
              "      <button class=\"colab-df-convert\" onclick=\"convertToInteractive('df-e20e189e-86c8-4081-82ca-aa1c079f073d')\"\n",
              "              title=\"Convert this dataframe to an interactive table.\"\n",
              "              style=\"display:none;\">\n",
              "        \n",
              "  <svg xmlns=\"http://www.w3.org/2000/svg\" height=\"24px\"viewBox=\"0 0 24 24\"\n",
              "       width=\"24px\">\n",
              "    <path d=\"M0 0h24v24H0V0z\" fill=\"none\"/>\n",
              "    <path d=\"M18.56 5.44l.94 2.06.94-2.06 2.06-.94-2.06-.94-.94-2.06-.94 2.06-2.06.94zm-11 1L8.5 8.5l.94-2.06 2.06-.94-2.06-.94L8.5 2.5l-.94 2.06-2.06.94zm10 10l.94 2.06.94-2.06 2.06-.94-2.06-.94-.94-2.06-.94 2.06-2.06.94z\"/><path d=\"M17.41 7.96l-1.37-1.37c-.4-.4-.92-.59-1.43-.59-.52 0-1.04.2-1.43.59L10.3 9.45l-7.72 7.72c-.78.78-.78 2.05 0 2.83L4 21.41c.39.39.9.59 1.41.59.51 0 1.02-.2 1.41-.59l7.78-7.78 2.81-2.81c.8-.78.8-2.07 0-2.86zM5.41 20L4 18.59l7.72-7.72 1.47 1.35L5.41 20z\"/>\n",
              "  </svg>\n",
              "      </button>\n",
              "      \n",
              "  <style>\n",
              "    .colab-df-container {\n",
              "      display:flex;\n",
              "      flex-wrap:wrap;\n",
              "      gap: 12px;\n",
              "    }\n",
              "\n",
              "    .colab-df-convert {\n",
              "      background-color: #E8F0FE;\n",
              "      border: none;\n",
              "      border-radius: 50%;\n",
              "      cursor: pointer;\n",
              "      display: none;\n",
              "      fill: #1967D2;\n",
              "      height: 32px;\n",
              "      padding: 0 0 0 0;\n",
              "      width: 32px;\n",
              "    }\n",
              "\n",
              "    .colab-df-convert:hover {\n",
              "      background-color: #E2EBFA;\n",
              "      box-shadow: 0px 1px 2px rgba(60, 64, 67, 0.3), 0px 1px 3px 1px rgba(60, 64, 67, 0.15);\n",
              "      fill: #174EA6;\n",
              "    }\n",
              "\n",
              "    [theme=dark] .colab-df-convert {\n",
              "      background-color: #3B4455;\n",
              "      fill: #D2E3FC;\n",
              "    }\n",
              "\n",
              "    [theme=dark] .colab-df-convert:hover {\n",
              "      background-color: #434B5C;\n",
              "      box-shadow: 0px 1px 3px 1px rgba(0, 0, 0, 0.15);\n",
              "      filter: drop-shadow(0px 1px 2px rgba(0, 0, 0, 0.3));\n",
              "      fill: #FFFFFF;\n",
              "    }\n",
              "  </style>\n",
              "\n",
              "      <script>\n",
              "        const buttonEl =\n",
              "          document.querySelector('#df-e20e189e-86c8-4081-82ca-aa1c079f073d button.colab-df-convert');\n",
              "        buttonEl.style.display =\n",
              "          google.colab.kernel.accessAllowed ? 'block' : 'none';\n",
              "\n",
              "        async function convertToInteractive(key) {\n",
              "          const element = document.querySelector('#df-e20e189e-86c8-4081-82ca-aa1c079f073d');\n",
              "          const dataTable =\n",
              "            await google.colab.kernel.invokeFunction('convertToInteractive',\n",
              "                                                     [key], {});\n",
              "          if (!dataTable) return;\n",
              "\n",
              "          const docLinkHtml = 'Like what you see? Visit the ' +\n",
              "            '<a target=\"_blank\" href=https://colab.research.google.com/notebooks/data_table.ipynb>data table notebook</a>'\n",
              "            + ' to learn more about interactive tables.';\n",
              "          element.innerHTML = '';\n",
              "          dataTable['output_type'] = 'display_data';\n",
              "          await google.colab.output.renderOutput(dataTable, element);\n",
              "          const docLink = document.createElement('div');\n",
              "          docLink.innerHTML = docLinkHtml;\n",
              "          element.appendChild(docLink);\n",
              "        }\n",
              "      </script>\n",
              "    </div>\n",
              "  </div>\n",
              "  "
            ],
            "text/plain": [
              "                  Open        High  ...   Adj Close     Volume\n",
              "Date                                ...                       \n",
              "1990-02-13  330.079987  331.609985  ...  331.019989  144490000\n",
              "1990-02-14  331.019989  333.200012  ...  332.010010  138530000\n",
              "1990-02-15  332.010010  335.209991  ...  334.890015  174620000\n",
              "1990-02-16  334.890015  335.640015  ...  332.720001  166840000\n",
              "1990-02-20  332.720001  332.720001  ...  327.989990  147300000\n",
              "\n",
              "[5 rows x 6 columns]"
            ]
          },
          "metadata": {},
          "execution_count": 18
        }
      ]
    },
    {
      "cell_type": "code",
      "source": [
        "df.tail()"
      ],
      "metadata": {
        "colab": {
          "base_uri": "https://localhost:8080/",
          "height": 368
        },
        "id": "P0NyeDSK9Gsi",
        "outputId": "041e2717-e6ba-45c6-c29e-9e58485b86d8"
      },
      "execution_count": 19,
      "outputs": [
        {
          "output_type": "execute_result",
          "data": {
            "text/html": [
              "\n",
              "  <div id=\"df-43f83b71-6405-4430-8e0e-e00b87b0b646\">\n",
              "    <div class=\"colab-df-container\">\n",
              "      <div>\n",
              "<style scoped>\n",
              "    .dataframe tbody tr th:only-of-type {\n",
              "        vertical-align: middle;\n",
              "    }\n",
              "\n",
              "    .dataframe tbody tr th {\n",
              "        vertical-align: top;\n",
              "    }\n",
              "\n",
              "    .dataframe thead th {\n",
              "        text-align: right;\n",
              "    }\n",
              "</style>\n",
              "<table border=\"1\" class=\"dataframe\">\n",
              "  <thead>\n",
              "    <tr style=\"text-align: right;\">\n",
              "      <th></th>\n",
              "      <th>Open</th>\n",
              "      <th>High</th>\n",
              "      <th>Low</th>\n",
              "      <th>Close</th>\n",
              "      <th>Adj Close</th>\n",
              "      <th>Volume</th>\n",
              "    </tr>\n",
              "    <tr>\n",
              "      <th>Date</th>\n",
              "      <th></th>\n",
              "      <th></th>\n",
              "      <th></th>\n",
              "      <th></th>\n",
              "      <th></th>\n",
              "      <th></th>\n",
              "    </tr>\n",
              "  </thead>\n",
              "  <tbody>\n",
              "    <tr>\n",
              "      <th>2019-02-06</th>\n",
              "      <td>2735.050049</td>\n",
              "      <td>2738.080078</td>\n",
              "      <td>2724.149902</td>\n",
              "      <td>2731.610107</td>\n",
              "      <td>2731.610107</td>\n",
              "      <td>3472690000</td>\n",
              "    </tr>\n",
              "    <tr>\n",
              "      <th>2019-02-07</th>\n",
              "      <td>2717.530029</td>\n",
              "      <td>2719.320068</td>\n",
              "      <td>2687.260010</td>\n",
              "      <td>2706.050049</td>\n",
              "      <td>2706.050049</td>\n",
              "      <td>4099490000</td>\n",
              "    </tr>\n",
              "    <tr>\n",
              "      <th>2019-02-08</th>\n",
              "      <td>2692.360107</td>\n",
              "      <td>2708.070068</td>\n",
              "      <td>2681.830078</td>\n",
              "      <td>2707.879883</td>\n",
              "      <td>2707.879883</td>\n",
              "      <td>3622330000</td>\n",
              "    </tr>\n",
              "    <tr>\n",
              "      <th>2019-02-11</th>\n",
              "      <td>2712.399902</td>\n",
              "      <td>2718.050049</td>\n",
              "      <td>2703.790039</td>\n",
              "      <td>2709.800049</td>\n",
              "      <td>2709.800049</td>\n",
              "      <td>3361970000</td>\n",
              "    </tr>\n",
              "    <tr>\n",
              "      <th>2019-02-12</th>\n",
              "      <td>2722.610107</td>\n",
              "      <td>2748.189941</td>\n",
              "      <td>2722.610107</td>\n",
              "      <td>2744.729980</td>\n",
              "      <td>2744.729980</td>\n",
              "      <td>3827770000</td>\n",
              "    </tr>\n",
              "  </tbody>\n",
              "</table>\n",
              "</div>\n",
              "      <button class=\"colab-df-convert\" onclick=\"convertToInteractive('df-43f83b71-6405-4430-8e0e-e00b87b0b646')\"\n",
              "              title=\"Convert this dataframe to an interactive table.\"\n",
              "              style=\"display:none;\">\n",
              "        \n",
              "  <svg xmlns=\"http://www.w3.org/2000/svg\" height=\"24px\"viewBox=\"0 0 24 24\"\n",
              "       width=\"24px\">\n",
              "    <path d=\"M0 0h24v24H0V0z\" fill=\"none\"/>\n",
              "    <path d=\"M18.56 5.44l.94 2.06.94-2.06 2.06-.94-2.06-.94-.94-2.06-.94 2.06-2.06.94zm-11 1L8.5 8.5l.94-2.06 2.06-.94-2.06-.94L8.5 2.5l-.94 2.06-2.06.94zm10 10l.94 2.06.94-2.06 2.06-.94-2.06-.94-.94-2.06-.94 2.06-2.06.94z\"/><path d=\"M17.41 7.96l-1.37-1.37c-.4-.4-.92-.59-1.43-.59-.52 0-1.04.2-1.43.59L10.3 9.45l-7.72 7.72c-.78.78-.78 2.05 0 2.83L4 21.41c.39.39.9.59 1.41.59.51 0 1.02-.2 1.41-.59l7.78-7.78 2.81-2.81c.8-.78.8-2.07 0-2.86zM5.41 20L4 18.59l7.72-7.72 1.47 1.35L5.41 20z\"/>\n",
              "  </svg>\n",
              "      </button>\n",
              "      \n",
              "  <style>\n",
              "    .colab-df-container {\n",
              "      display:flex;\n",
              "      flex-wrap:wrap;\n",
              "      gap: 12px;\n",
              "    }\n",
              "\n",
              "    .colab-df-convert {\n",
              "      background-color: #E8F0FE;\n",
              "      border: none;\n",
              "      border-radius: 50%;\n",
              "      cursor: pointer;\n",
              "      display: none;\n",
              "      fill: #1967D2;\n",
              "      height: 32px;\n",
              "      padding: 0 0 0 0;\n",
              "      width: 32px;\n",
              "    }\n",
              "\n",
              "    .colab-df-convert:hover {\n",
              "      background-color: #E2EBFA;\n",
              "      box-shadow: 0px 1px 2px rgba(60, 64, 67, 0.3), 0px 1px 3px 1px rgba(60, 64, 67, 0.15);\n",
              "      fill: #174EA6;\n",
              "    }\n",
              "\n",
              "    [theme=dark] .colab-df-convert {\n",
              "      background-color: #3B4455;\n",
              "      fill: #D2E3FC;\n",
              "    }\n",
              "\n",
              "    [theme=dark] .colab-df-convert:hover {\n",
              "      background-color: #434B5C;\n",
              "      box-shadow: 0px 1px 3px 1px rgba(0, 0, 0, 0.15);\n",
              "      filter: drop-shadow(0px 1px 2px rgba(0, 0, 0, 0.3));\n",
              "      fill: #FFFFFF;\n",
              "    }\n",
              "  </style>\n",
              "\n",
              "      <script>\n",
              "        const buttonEl =\n",
              "          document.querySelector('#df-43f83b71-6405-4430-8e0e-e00b87b0b646 button.colab-df-convert');\n",
              "        buttonEl.style.display =\n",
              "          google.colab.kernel.accessAllowed ? 'block' : 'none';\n",
              "\n",
              "        async function convertToInteractive(key) {\n",
              "          const element = document.querySelector('#df-43f83b71-6405-4430-8e0e-e00b87b0b646');\n",
              "          const dataTable =\n",
              "            await google.colab.kernel.invokeFunction('convertToInteractive',\n",
              "                                                     [key], {});\n",
              "          if (!dataTable) return;\n",
              "\n",
              "          const docLinkHtml = 'Like what you see? Visit the ' +\n",
              "            '<a target=\"_blank\" href=https://colab.research.google.com/notebooks/data_table.ipynb>data table notebook</a>'\n",
              "            + ' to learn more about interactive tables.';\n",
              "          element.innerHTML = '';\n",
              "          dataTable['output_type'] = 'display_data';\n",
              "          await google.colab.output.renderOutput(dataTable, element);\n",
              "          const docLink = document.createElement('div');\n",
              "          docLink.innerHTML = docLinkHtml;\n",
              "          element.appendChild(docLink);\n",
              "        }\n",
              "      </script>\n",
              "    </div>\n",
              "  </div>\n",
              "  "
            ],
            "text/plain": [
              "                   Open         High  ...    Adj Close      Volume\n",
              "Date                                  ...                         \n",
              "2019-02-06  2735.050049  2738.080078  ...  2731.610107  3472690000\n",
              "2019-02-07  2717.530029  2719.320068  ...  2706.050049  4099490000\n",
              "2019-02-08  2692.360107  2708.070068  ...  2707.879883  3622330000\n",
              "2019-02-11  2712.399902  2718.050049  ...  2709.800049  3361970000\n",
              "2019-02-12  2722.610107  2748.189941  ...  2744.729980  3827770000\n",
              "\n",
              "[5 rows x 6 columns]"
            ]
          },
          "metadata": {},
          "execution_count": 19
        }
      ]
    },
    {
      "cell_type": "code",
      "source": [
        "df.Close.plot()"
      ],
      "metadata": {
        "colab": {
          "base_uri": "https://localhost:8080/",
          "height": 288
        },
        "id": "HZ-9X-H--OF-",
        "outputId": "a93f69fc-f67b-4274-9a00-c95970e3d188"
      },
      "execution_count": 20,
      "outputs": [
        {
          "output_type": "execute_result",
          "data": {
            "text/plain": [
              "<matplotlib.axes._subplots.AxesSubplot at 0x7fc24824cd10>"
            ]
          },
          "metadata": {},
          "execution_count": 20
        },
        {
          "output_type": "display_data",
          "data": {
            "image/png": "[encoded data removed]",
            "text/plain": [
              "<Figure size 432x288 with 1 Axes>"
            ]
          },
          "metadata": {
            "needs_background": "light"
          }
        }
      ]
    },
    {
      "cell_type": "markdown",
      "source": [
        "약 30년 동안 1주일 단위로 조정된 종가 체크"
      ],
      "metadata": {
        "id": "yK_zmAWRRg6p"
      }
    },
    {
      "cell_type": "code",
      "source": [
        "# 서로 다른 연도에서 한 주씩 총 3개를 선택\n",
        "# 각 주의 평균 종가로 각 날의 종가를 조정\n",
        "# 1990\n",
        "vals = df['1990-05-07':'1990-05-11'].Close.values\n",
        "mean_val = np.mean(vals)\n",
        "plt.plot([1, 2, 3, 4, 5], vals/mean_val)\n",
        "plt.xticks([1, 2, 3, 4, 5], labels = [\"Mon\", \"Tue\", \"Wen\", \"Thu\", \"Fri\"])"
      ],
      "metadata": {
        "colab": {
          "base_uri": "https://localhost:8080/",
          "height": 452
        },
        "id": "WRA4EdjX-nBg",
        "outputId": "6c1639ce-fb09-4183-f446-963c5ba703eb"
      },
      "execution_count": 24,
      "outputs": [
        {
          "output_type": "execute_result",
          "data": {
            "text/plain": [
              "([<matplotlib.axis.XTick at 0x7fc247c8d7d0>,\n",
              "  <matplotlib.axis.XTick at 0x7fc243889990>,\n",
              "  <matplotlib.axis.XTick at 0x7fc244390b50>,\n",
              "  <matplotlib.axis.XTick at 0x7fc2438488d0>,\n",
              "  <matplotlib.axis.XTick at 0x7fc243848950>],\n",
              " [Text(0, 0, 'Mon'),\n",
              "  Text(0, 0, 'Tue'),\n",
              "  Text(0, 0, 'Wen'),\n",
              "  Text(0, 0, 'Thu'),\n",
              "  Text(0, 0, 'Fri')])"
            ]
          },
          "metadata": {},
          "execution_count": 24
        },
        {
          "output_type": "display_data",
          "data": {
            "image/png": "[encoded data removed]",
            "text/plain": [
              "<Figure size 432x288 with 1 Axes>"
            ]
          },
          "metadata": {
            "needs_background": "light"
          }
        }
      ]
    },
    {
      "cell_type": "code",
      "source": [
        "# 2000\n",
        "vals = df['2000-05-08':'2000-05-12'].Close.values\n",
        "mean_val = np.mean(vals)\n",
        "plt.plot([1, 2, 3, 4, 5], vals/mean_val)\n",
        "plt.xticks([1, 2, 3, 4, 5], labels = [\"Mon\", \"Tue\", \"Wen\", \"Thu\", \"Fri\"])"
      ],
      "metadata": {
        "colab": {
          "base_uri": "https://localhost:8080/",
          "height": 452
        },
        "id": "XCEsg8hGSKEC",
        "outputId": "25146580-ed43-4bca-e5ee-b2ab47cc4cba"
      },
      "execution_count": 25,
      "outputs": [
        {
          "output_type": "execute_result",
          "data": {
            "text/plain": [
              "([<matplotlib.axis.XTick at 0x7fc247d879d0>,\n",
              "  <matplotlib.axis.XTick at 0x7fc2437e5ed0>,\n",
              "  <matplotlib.axis.XTick at 0x7fc2437e5290>,\n",
              "  <matplotlib.axis.XTick at 0x7fc2437c5290>,\n",
              "  <matplotlib.axis.XTick at 0x7fc2437c5210>],\n",
              " [Text(0, 0, 'Mon'),\n",
              "  Text(0, 0, 'Tue'),\n",
              "  Text(0, 0, 'Wen'),\n",
              "  Text(0, 0, 'Thu'),\n",
              "  Text(0, 0, 'Fri')])"
            ]
          },
          "metadata": {},
          "execution_count": 25
        },
        {
          "output_type": "display_data",
          "data": {
            "image/png": "[encoded data removed]",
            "text/plain": [
              "<Figure size 432x288 with 1 Axes>"
            ]
          },
          "metadata": {
            "needs_background": "light"
          }
        }
      ]
    },
    {
      "cell_type": "code",
      "source": [
        "# 2018\n",
        "vals = df['2018-05-07':'2018-05-11'].Close.values\n",
        "mean_val = np.mean(vals)\n",
        "plt.plot([1, 2, 3, 4, 5], vals/mean_val)\n",
        "plt.xticks([1, 2, 3, 4, 5], labels = [\"Mon\", \"Tue\", \"Wen\", \"Thu\", \"Fri\"])"
      ],
      "metadata": {
        "colab": {
          "base_uri": "https://localhost:8080/",
          "height": 452
        },
        "id": "Xg5v_rs3SXGq",
        "outputId": "b17a87ab-0bcb-447b-d75d-7c4becece04c"
      },
      "execution_count": 26,
      "outputs": [
        {
          "output_type": "execute_result",
          "data": {
            "text/plain": [
              "([<matplotlib.axis.XTick at 0x7fc24378afd0>,\n",
              "  <matplotlib.axis.XTick at 0x7fc24378a090>,\n",
              "  <matplotlib.axis.XTick at 0x7fc24379f410>,\n",
              "  <matplotlib.axis.XTick at 0x7fc2437ac4d0>,\n",
              "  <matplotlib.axis.XTick at 0x7fc2437ac310>],\n",
              " [Text(0, 0, 'Mon'),\n",
              "  Text(0, 0, 'Tue'),\n",
              "  Text(0, 0, 'Wen'),\n",
              "  Text(0, 0, 'Thu'),\n",
              "  Text(0, 0, 'Fri')])"
            ]
          },
          "metadata": {},
          "execution_count": 26
        },
        {
          "output_type": "display_data",
          "data": {
            "image/png": "[encoded data removed]",
            "text/plain": [
              "<Figure size 432x288 with 1 Axes>"
            ]
          },
          "metadata": {
            "needs_background": "light"
          }
        }
      ]
    },
    {
      "cell_type": "markdown",
      "source": [
        "상대적 비율은 각 연도마다 비슷해보임</br>\n",
        "이러한 사실에 근거해 전체 시기를 통틀어서도 모델을 의미 있게 학습시키기에 충분히 유사하도록 만들 수 있는 방법을 알아보는것<br/>\n",
        "즉, 금융적으로 의미가 있으면서도 전체 시기를 통해 호환 가능한 형태로 데이터를 변환할 방법을 알고 싶은 것"
      ],
      "metadata": {
        "id": "Pwyrf1-VSw6M"
      }
    },
    {
      "cell_type": "markdown",
      "source": [
        "각 거래일의 시작가와 종가의 차이를 통해 수익 계산"
      ],
      "metadata": {
        "id": "Q2ZblvqyTJ9N"
      }
    },
    {
      "cell_type": "code",
      "source": [
        "df['Return'] = df.Close - df.Open\n",
        "df.Return.plot()"
      ],
      "metadata": {
        "colab": {
          "base_uri": "https://localhost:8080/",
          "height": 288
        },
        "id": "8Wy67u2RShTY",
        "outputId": "575539e8-73e4-43ef-d1b8-40f188e636e9"
      },
      "execution_count": 27,
      "outputs": [
        {
          "output_type": "execute_result",
          "data": {
            "text/plain": [
              "<matplotlib.axes._subplots.AxesSubplot at 0x7fc243703d90>"
            ]
          },
          "metadata": {},
          "execution_count": 27
        },
        {
          "output_type": "display_data",
          "data": {
            "image/png": "[encoded data removed]",
            "text/plain": [
              "<Figure size 432x288 with 1 Axes>"
            ]
          },
          "metadata": {
            "needs_background": "light"
          }
        }
      ]
    },
    {
      "cell_type": "markdown",
      "source": [
        "그래프를 봤을때 이 계산만으로 데이터가 호환 가능하도록 만들기에 충분치 않다는 것을 알 수 있음<br/>\n",
        "모델의 입출력에 사용되는 값이 우리가 관심 있는 기간에 대해 더욱 균일해지도록 만들어줄 수 있음."
      ],
      "metadata": {
        "id": "VN1oNCgkTdJO"
      }
    },
    {
      "cell_type": "markdown",
      "source": [
        "## 14.2 딥러닝을 위한 금융 데이터 전처리"
      ],
      "metadata": {
        "id": "GZ1zYpBBdXrw"
      }
    },
    {
      "cell_type": "markdown",
      "source": [
        "### 전처리 과정\n",
        "    1. 원시 입력에서 경제적으로 의미 있는 관심 양을 형성\n",
        "    2. 사전관찰 없이 관심 양의 크기를 조절하기 위해서 관심 양에 대한 지수가중이동평균 및 분산을 계산\n",
        "    3. 위의 두 단계 계산 결과를 묶어서 학습시킬 순환 딥러닝 모델에 적합한 형태로 만듬"
      ],
      "metadata": {
        "id": "B9F0AUeHda_J"
      }
    },
    {
      "cell_type": "markdown",
      "source": [
        "### 14.2.1 원시 값에 관심 수량 추가"
      ],
      "metadata": {
        "id": "gHLWgw4FeIuN"
      }
    },
    {
      "cell_type": "code",
      "source": [
        "# 일일 수익\n",
        "df['DailyVolatility'] = df.High - df.Low\n",
        "df.DailyVolatility.plot()"
      ],
      "metadata": {
        "colab": {
          "base_uri": "https://localhost:8080/",
          "height": 288
        },
        "id": "bv7XtDjHTTFD",
        "outputId": "95d74f10-838c-4c38-8e23-64455ebf444a"
      },
      "execution_count": 28,
      "outputs": [
        {
          "output_type": "execute_result",
          "data": {
            "text/plain": [
              "<matplotlib.axes._subplots.AxesSubplot at 0x7fc243619fd0>"
            ]
          },
          "metadata": {},
          "execution_count": 28
        },
        {
          "output_type": "display_data",
          "data": {
            "image/png": "[encoded data removed]",
            "text/plain": [
              "<Figure size 432x288 with 1 Axes>"
            ]
          },
          "metadata": {
            "needs_background": "light"
          }
        }
      ]
    },
    {
      "cell_type": "markdown",
      "source": [
        "### 14.2.2 사전관찰 없이 관심 수량 규모의 크기 조절\n",
        "* 이전 일일 수익금\n",
        "* 이전 일일 변동량\n",
        "* 이전 일일 거래량<br/>\n",
        "각각의 수량 규모 크기를 지수가중이동평균으로 뺀 다음 지수가중표준편차로 나누어 조정"
      ],
      "metadata": {
        "id": "VwKjR0KqefdP"
      }
    },
    {
      "cell_type": "code",
      "source": [
        "# halflife 파라미터 유의\n",
        "ewdf = df.ewm(halflife = 10).mean()\n",
        "ewdf.DailyVolatility.plot()"
      ],
      "metadata": {
        "colab": {
          "base_uri": "https://localhost:8080/",
          "height": 288
        },
        "id": "LgAjoc_BeXiw",
        "outputId": "03fa0454-8df1-4134-e965-d2ca20d5c4b3"
      },
      "execution_count": 29,
      "outputs": [
        {
          "output_type": "execute_result",
          "data": {
            "text/plain": [
              "<matplotlib.axes._subplots.AxesSubplot at 0x7fc24354d290>"
            ]
          },
          "metadata": {},
          "execution_count": 29
        },
        {
          "output_type": "display_data",
          "data": {
            "image/png": "[encoded data removed]",
            "text/plain": [
              "<Figure size 432x288 with 1 Axes>"
            ]
          },
          "metadata": {
            "needs_background": "light"
          }
        }
      ]
    },
    {
      "cell_type": "markdown",
      "source": [
        "지수가중이동분산을 사용하여 시간에 따라 좀 더 일관적인 일련의 형태로 조정"
      ],
      "metadata": {
        "id": "uFVZNOKqfnPn"
      }
    },
    {
      "cell_type": "code",
      "source": [
        "# 지수가중이동분산 계산\n",
        "vewdf = df.ewm(halflife = 10).var()\n",
        "\n",
        "# 평균을 빼고 정규화하여 크기를 조정\n",
        "scaled = df.DailyVolatility - ewdf.DailyVolatility\n",
        "scaled = scaled / vewdf.DailyVolatility ** 0.5\n",
        "scaled.plot()"
      ],
      "metadata": {
        "colab": {
          "base_uri": "https://localhost:8080/",
          "height": 288
        },
        "id": "3JByTMJ4fiQe",
        "outputId": "417a109d-9d4f-471a-ed77-364079280397"
      },
      "execution_count": 30,
      "outputs": [
        {
          "output_type": "execute_result",
          "data": {
            "text/plain": [
              "<matplotlib.axes._subplots.AxesSubplot at 0x7fc243498d50>"
            ]
          },
          "metadata": {},
          "execution_count": 30
        },
        {
          "output_type": "display_data",
          "data": {
            "image/png": "[encoded data removed]",
            "text/plain": [
              "<Figure size 432x288 with 1 Axes>"
            ]
          },
          "metadata": {
            "needs_background": "light"
          }
        }
      ]
    },
    {
      "cell_type": "markdown",
      "source": [
        "모든 원시 입력의 규모를 조정한 버전은 다음과 같음"
      ],
      "metadata": {
        "id": "NRW0hqQDgMC4"
      }
    },
    {
      "cell_type": "code",
      "source": [
        "df['ScaledVolatility'] = ((df.DailyVolatility - ewdf.DailyVolatility) / vewdf.DailyVolatility**0.5)\n",
        "df['ScaledReturn'] = ((df.Return - ewdf.Return) / vewdf.Return**0.5)\n",
        "df['ScaledVolume'] = ((df.Volume - ewdf.Volume) / vewdf.Volume**0.5)"
      ],
      "metadata": {
        "id": "TfZkufGhgF5e"
      },
      "execution_count": 31,
      "outputs": []
    },
    {
      "cell_type": "code",
      "source": [
        ""
      ],
      "metadata": {
        "id": "OMXxkyWRg5rC"
      },
      "execution_count": null,
      "outputs": []
    }
  ]
}