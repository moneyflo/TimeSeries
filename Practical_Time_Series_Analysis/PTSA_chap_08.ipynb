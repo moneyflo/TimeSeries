{
  "nbformat": 4,
  "nbformat_minor": 0,
  "metadata": {
    "colab": {
      "name": "PTSA_chap_08.ipynb",
      "provenance": [],
      "collapsed_sections": []
    },
    "kernelspec": {
      "name": "python3",
      "display_name": "Python 3"
    },
    "language_info": {
      "name": "python"
    }
  },
  "cells": [
    {
      "cell_type": "markdown",
      "source": [
        "# Chapter 08 시계열 특징의 생성 및 선택"
      ],
      "metadata": {
        "id": "nFW40b8EvYcP"
      }
    },
    {
      "cell_type": "markdown",
      "source": [
        "## 8.4 생성된 특징들 중 일부를 선택하는 방법"
      ],
      "metadata": {
        "id": "gVgAsA0xvdAX"
      }
    },
    {
      "cell_type": "markdown",
      "source": [
        "tsfresh를 통해 FRESH 알고리즘 구현"
      ],
      "metadata": {
        "id": "kGKBqJ9YvmZw"
      }
    },
    {
      "cell_type": "code",
      "source": [
        "!pip install tsfresh"
      ],
      "metadata": {
        "colab": {
          "base_uri": "https://localhost:8080/"
        },
        "id": "MvwVcX0Bwlin",
        "outputId": "b2019906-1e55-4346-c892-b31d8db5deae"
      },
      "execution_count": 4,
      "outputs": [
        {
          "output_type": "stream",
          "name": "stdout",
          "text": [
            "Requirement already satisfied: tsfresh in /usr/local/lib/python3.7/dist-packages (0.19.0)\n",
            "Requirement already satisfied: numpy>=1.15.1 in /usr/local/lib/python3.7/dist-packages (from tsfresh) (1.19.5)\n",
            "Requirement already satisfied: matrixprofile<2.0.0,>=1.1.10 in /usr/local/lib/python3.7/dist-packages (from tsfresh) (1.1.10)\n",
            "Requirement already satisfied: stumpy>=1.7.2 in /usr/local/lib/python3.7/dist-packages (from tsfresh) (1.10.2)\n",
            "Requirement already satisfied: scikit-learn>=0.22.0 in /usr/local/lib/python3.7/dist-packages (from tsfresh) (1.0.1)\n",
            "Requirement already satisfied: patsy>=0.4.1 in /usr/local/lib/python3.7/dist-packages (from tsfresh) (0.5.2)\n",
            "Requirement already satisfied: requests>=2.9.1 in /usr/local/lib/python3.7/dist-packages (from tsfresh) (2.23.0)\n",
            "Requirement already satisfied: tqdm>=4.10.0 in /usr/local/lib/python3.7/dist-packages (from tsfresh) (4.62.3)\n",
            "Requirement already satisfied: distributed>=2.11.0 in /usr/local/lib/python3.7/dist-packages (from tsfresh) (2.30.1)\n",
            "Requirement already satisfied: statsmodels>=0.13 in /usr/local/lib/python3.7/dist-packages (from tsfresh) (0.13.1)\n",
            "Requirement already satisfied: dask[dataframe]>=2.9.0 in /usr/local/lib/python3.7/dist-packages (from tsfresh) (2.12.0)\n",
            "Requirement already satisfied: pandas>=0.25.0 in /usr/local/lib/python3.7/dist-packages (from tsfresh) (1.1.5)\n",
            "Requirement already satisfied: scipy>=1.2.0 in /usr/local/lib/python3.7/dist-packages (from tsfresh) (1.7.3)\n",
            "Requirement already satisfied: cloudpickle in /usr/local/lib/python3.7/dist-packages (from tsfresh) (2.0.0)\n",
            "Requirement already satisfied: partd>=0.3.10 in /usr/local/lib/python3.7/dist-packages (from dask[dataframe]>=2.9.0->tsfresh) (1.2.0)\n",
            "Requirement already satisfied: toolz>=0.7.3 in /usr/local/lib/python3.7/dist-packages (from dask[dataframe]>=2.9.0->tsfresh) (0.11.2)\n",
            "Requirement already satisfied: fsspec>=0.6.0 in /usr/local/lib/python3.7/dist-packages (from dask[dataframe]>=2.9.0->tsfresh) (2021.11.1)\n",
            "Requirement already satisfied: zict>=0.1.3 in /usr/local/lib/python3.7/dist-packages (from distributed>=2.11.0->tsfresh) (2.0.0)\n",
            "Requirement already satisfied: psutil>=5.0 in /usr/local/lib/python3.7/dist-packages (from distributed>=2.11.0->tsfresh) (5.4.8)\n",
            "Requirement already satisfied: tornado>=5 in /usr/local/lib/python3.7/dist-packages (from distributed>=2.11.0->tsfresh) (5.1.1)\n",
            "Requirement already satisfied: tblib>=1.6.0 in /usr/local/lib/python3.7/dist-packages (from distributed>=2.11.0->tsfresh) (1.7.0)\n",
            "Requirement already satisfied: pyyaml in /usr/local/lib/python3.7/dist-packages (from distributed>=2.11.0->tsfresh) (3.13)\n",
            "Requirement already satisfied: sortedcontainers!=2.0.0,!=2.0.1 in /usr/local/lib/python3.7/dist-packages (from distributed>=2.11.0->tsfresh) (2.4.0)\n",
            "Requirement already satisfied: setuptools in /usr/local/lib/python3.7/dist-packages (from distributed>=2.11.0->tsfresh) (57.4.0)\n",
            "Requirement already satisfied: click>=6.6 in /usr/local/lib/python3.7/dist-packages (from distributed>=2.11.0->tsfresh) (7.1.2)\n",
            "Requirement already satisfied: msgpack>=0.6.0 in /usr/local/lib/python3.7/dist-packages (from distributed>=2.11.0->tsfresh) (1.0.3)\n",
            "Requirement already satisfied: matplotlib>=3.0.3 in /usr/local/lib/python3.7/dist-packages (from matrixprofile<2.0.0,>=1.1.10->tsfresh) (3.2.2)\n",
            "Requirement already satisfied: protobuf==3.11.2 in /usr/local/lib/python3.7/dist-packages (from matrixprofile<2.0.0,>=1.1.10->tsfresh) (3.11.2)\n",
            "Requirement already satisfied: six>=1.9 in /usr/local/lib/python3.7/dist-packages (from protobuf==3.11.2->matrixprofile<2.0.0,>=1.1.10->tsfresh) (1.15.0)\n",
            "Requirement already satisfied: cycler>=0.10 in /usr/local/lib/python3.7/dist-packages (from matplotlib>=3.0.3->matrixprofile<2.0.0,>=1.1.10->tsfresh) (0.11.0)\n",
            "Requirement already satisfied: python-dateutil>=2.1 in /usr/local/lib/python3.7/dist-packages (from matplotlib>=3.0.3->matrixprofile<2.0.0,>=1.1.10->tsfresh) (2.8.2)\n",
            "Requirement already satisfied: kiwisolver>=1.0.1 in /usr/local/lib/python3.7/dist-packages (from matplotlib>=3.0.3->matrixprofile<2.0.0,>=1.1.10->tsfresh) (1.3.2)\n",
            "Requirement already satisfied: pyparsing!=2.0.4,!=2.1.2,!=2.1.6,>=2.0.1 in /usr/local/lib/python3.7/dist-packages (from matplotlib>=3.0.3->matrixprofile<2.0.0,>=1.1.10->tsfresh) (3.0.6)\n",
            "Requirement already satisfied: pytz>=2017.2 in /usr/local/lib/python3.7/dist-packages (from pandas>=0.25.0->tsfresh) (2018.9)\n",
            "Requirement already satisfied: locket in /usr/local/lib/python3.7/dist-packages (from partd>=0.3.10->dask[dataframe]>=2.9.0->tsfresh) (0.2.1)\n",
            "Requirement already satisfied: urllib3!=1.25.0,!=1.25.1,<1.26,>=1.21.1 in /usr/local/lib/python3.7/dist-packages (from requests>=2.9.1->tsfresh) (1.24.3)\n",
            "Requirement already satisfied: idna<3,>=2.5 in /usr/local/lib/python3.7/dist-packages (from requests>=2.9.1->tsfresh) (2.10)\n",
            "Requirement already satisfied: certifi>=2017.4.17 in /usr/local/lib/python3.7/dist-packages (from requests>=2.9.1->tsfresh) (2021.10.8)\n",
            "Requirement already satisfied: chardet<4,>=3.0.2 in /usr/local/lib/python3.7/dist-packages (from requests>=2.9.1->tsfresh) (3.0.4)\n",
            "Requirement already satisfied: threadpoolctl>=2.0.0 in /usr/local/lib/python3.7/dist-packages (from scikit-learn>=0.22.0->tsfresh) (3.0.0)\n",
            "Requirement already satisfied: joblib>=0.11 in /usr/local/lib/python3.7/dist-packages (from scikit-learn>=0.22.0->tsfresh) (1.1.0)\n",
            "Requirement already satisfied: numba>=0.48 in /usr/local/lib/python3.7/dist-packages (from stumpy>=1.7.2->tsfresh) (0.51.2)\n",
            "Requirement already satisfied: llvmlite<0.35,>=0.34.0.dev0 in /usr/local/lib/python3.7/dist-packages (from numba>=0.48->stumpy>=1.7.2->tsfresh) (0.34.0)\n",
            "Requirement already satisfied: heapdict in /usr/local/lib/python3.7/dist-packages (from zict>=0.1.3->distributed>=2.11.0->tsfresh) (1.0.1)\n"
          ]
        }
      ]
    },
    {
      "cell_type": "code",
      "execution_count": 9,
      "metadata": {
        "id": "R3TyeM58vVHc"
      },
      "outputs": [],
      "source": [
        "# 로봇 실행 실패 관련 시계열 데이터 다운로드\n",
        "import tsfresh\n",
        "from tsfresh.examples.robot_execution_failures import download_robot_execution_failures, \\\n",
        "                                                        load_robot_execution_failures\n",
        "\n",
        "download_robot_execution_failures()\n",
        "timeseries, y = load_robot_execution_failures()"
      ]
    },
    {
      "cell_type": "code",
      "source": [
        "import pandas as pd\n",
        "import numpy as np"
      ],
      "metadata": {
        "id": "f0Q-ZKMYw37t"
      },
      "execution_count": 17,
      "outputs": []
    },
    {
      "cell_type": "markdown",
      "source": [
        "### 자동으로 특징 추출\n",
        "계산 자원을 고려하지 않은 채 포괄정으로 특징을 생성하기 때문에 문제가 있음.<br/>\n",
        "실제로는 규모가 작은 데이터셋일지라도 적당한 크기로 축소하지 않은 채 무턱대고 배포해서는 안됨"
      ],
      "metadata": {
        "id": "IHsZOO2SyrVL"
      }
    },
    {
      "cell_type": "code",
      "source": [
        "from tsfresh import extract_features\n",
        "\n",
        "extracted_features = extract_features(timeseries, column_id = \"id\", column_sort = \"time\")"
      ],
      "metadata": {
        "colab": {
          "base_uri": "https://localhost:8080/"
        },
        "id": "0SPK6QubyfVy",
        "outputId": "7fa44b44-434d-4ea8-8a57-5434a4725f40"
      },
      "execution_count": 20,
      "outputs": [
        {
          "output_type": "stream",
          "name": "stderr",
          "text": [
            "Feature Extraction: 100%|██████████| 528/528 [00:27<00:00, 19.48it/s]\n"
          ]
        }
      ]
    },
    {
      "cell_type": "markdown",
      "source": [
        "tsfresh는 원하는 특징을 지정할 수 있지만, 여기서는 모든 특징 포함<br/>"
      ],
      "metadata": {
        "id": "dWOalQsu0VP-"
      }
    },
    {
      "cell_type": "code",
      "source": [
        "extracted_features.columns"
      ],
      "metadata": {
        "colab": {
          "base_uri": "https://localhost:8080/"
        },
        "id": "5Xcx6QBZzLKh",
        "outputId": "e871d9cd-1476-4aa0-b74a-bae00c2b4b79"
      },
      "execution_count": 22,
      "outputs": [
        {
          "output_type": "execute_result",
          "data": {
            "text/plain": [
              "Index(['F_x__variance_larger_than_standard_deviation',\n",
              "       'F_x__has_duplicate_max', 'F_x__has_duplicate_min',\n",
              "       'F_x__has_duplicate', 'F_x__sum_values', 'F_x__abs_energy',\n",
              "       'F_x__mean_abs_change', 'F_x__mean_change',\n",
              "       'F_x__mean_second_derivative_central', 'F_x__median',\n",
              "       ...\n",
              "       'T_z__permutation_entropy__dimension_6__tau_1',\n",
              "       'T_z__permutation_entropy__dimension_7__tau_1',\n",
              "       'T_z__query_similarity_count__query_None__threshold_0.0',\n",
              "       'T_z__matrix_profile__feature_\"min\"__threshold_0.98',\n",
              "       'T_z__matrix_profile__feature_\"max\"__threshold_0.98',\n",
              "       'T_z__matrix_profile__feature_\"mean\"__threshold_0.98',\n",
              "       'T_z__matrix_profile__feature_\"median\"__threshold_0.98',\n",
              "       'T_z__matrix_profile__feature_\"25\"__threshold_0.98',\n",
              "       'T_z__matrix_profile__feature_\"75\"__threshold_0.98',\n",
              "       'T_z__mean_n_absolute_max__number_of_maxima_7'],\n",
              "      dtype='object', length=4734)"
            ]
          },
          "metadata": {},
          "execution_count": 22
        }
      ]
    },
    {
      "cell_type": "markdown",
      "source": [
        "### RFE는 특징 선택과 중요성의 순위를 매기는 방법 모두에 사용가능\n",
        "이를 시험해 보기위해 FRESH 알고리즘으로 고른 특징 목록 중 10개,<br/>\n",
        "FRESH 알고리즘이 기각한 특징 목록 중 10개를 무작위로 선택하여 결합"
      ],
      "metadata": {
        "id": "sTSOZX8Y1IzY"
      }
    },
    {
      "cell_type": "code",
      "source": [
        "# FRESH 알고리즘이 고른 특징을 알아낼줄 몰라서 일단\n",
        "# 임의의 index를 가지고 실행함\n",
        "import random\n",
        "\n",
        "x_idx = random.sample(range(len(extracted_features)), 20)\n",
        "mixed_X = extracted_features.iloc[:, x_idx].values"
      ],
      "metadata": {
        "id": "5bkBuAdP1X3u"
      },
      "execution_count": 28,
      "outputs": []
    },
    {
      "cell_type": "markdown",
      "source": [
        "20개의 특징에 대해 RFE를 수행하면, RFE에 사용되는 모델에 대한 중요도 순위를 반환"
      ],
      "metadata": {
        "id": "vD_cX_6n3V-k"
      }
    },
    {
      "cell_type": "code",
      "source": [
        "from sklearn.feature_selection import RFE\n",
        "from sklearn.svm import SVC\n",
        "\n",
        "svc = SVC(kernel=\"linear\", C=1)\n",
        "rfe = RFE(estimator=svc, n_features_to_select=1, step=1)\n",
        "rfe.fit(mixed_X, y)\n",
        "rfe.ranking_"
      ],
      "metadata": {
        "id": "tDvya-zD3Mn_"
      },
      "execution_count": null,
      "outputs": []
    }
  ]
}