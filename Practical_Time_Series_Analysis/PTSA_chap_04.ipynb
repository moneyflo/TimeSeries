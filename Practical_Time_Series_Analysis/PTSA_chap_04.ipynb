{
  "nbformat": 4,
  "nbformat_minor": 0,
  "metadata": {
    "colab": {
      "name": "PTSA_chap_04.ipynb",
      "provenance": [],
      "collapsed_sections": []
    },
    "kernelspec": {
      "name": "python3",
      "display_name": "Python 3"
    },
    "language_info": {
      "name": "python"
    }
  },
  "cells": [
    {
      "cell_type": "markdown",
      "source": [
        "# Chapter 04 시계열 데이터의 시뮬레이션"
      ],
      "metadata": {
        "id": "x5veL5uMpLDN"
      }
    },
    {
      "cell_type": "markdown",
      "source": [
        "* 발견적 시뮬레이션\n",
        "* 이산 사건 시뮬레이션\n",
        "* 물리기반 시뮬레이션"
      ],
      "metadata": {
        "id": "OvhM60KepRLO"
      }
    },
    {
      "cell_type": "markdown",
      "source": [
        "## 4.2 코드로 보는 시뮬레이션"
      ],
      "metadata": {
        "id": "1wOBmeVYpWST"
      }
    },
    {
      "cell_type": "markdown",
      "source": [
        "### 4.2.1 스스로 직접 만들어보기\n",
        "    시뮬레이션 프로그래밍을 할 때는 시스템에 적용되는 논리적인 규칙을 명심해야함\n",
        "    즉, 데이터를 논리적인 규칙에 맞춰 타당하게끔 만들어야한다는것\n",
        "    예를 들어 사건의 발생의 순서가 비논리적으로 구성되지 않도록 보장"
      ],
      "metadata": {
        "id": "mtuwz3REp4TB"
      }
    },
    {
      "cell_type": "markdown",
      "source": [
        "### 회원 자격에 대한 세계관 정의(회원 수, 가입 시점, 상태 정보를 고려해볼 수 있음)"
      ],
      "metadata": {
        "id": "gyV8DUFmqSxe"
      }
    },
    {
      "cell_type": "code",
      "execution_count": 1,
      "metadata": {
        "id": "0Ij-MLNupGqP"
      },
      "outputs": [],
      "source": [
        "# 회원 상태\n",
        "years = ['2014', '2015', '2016', '2017', '2018']\n",
        "memberStatus = ['bronze', 'silver', 'gold', 'inactive']\n",
        "\n",
        "# np.random.choice의 p 인수를 조절하여\n",
        "# 각 부류의 발생 확률을 달리하여 데이터를 생성\n",
        "import numpy as np\n",
        "import pandas as pd\n",
        "\n",
        "memberYears = np.random.choice(years, 1000, p=[0.1, 0.1, 0.15, 0.30, 0.35])\n",
        "memberStats = np.random.choice(memberStatus, 1000, p=[0.5, 0.3, 0.1, 0.1])\n",
        "\n",
        "yearJoined = pd.DataFrame({'yearJoined':memberYears,\n",
        "                           'memberStats':memberStats})"
      ]
    },
    {
      "cell_type": "markdown",
      "source": [
        "### 주별로 회원의 이메일 열람 시점을 나타내는 테이블 만들기\n",
        "한 주에 이메일 세 통을 보내는 기관의 행동을 정의하고,<br/>\n",
        "이메일에 관한 회원들의 행동 패턴은 다음과 같이 정의\n",
        "* 이메일을 열람한 적이 없음\n",
        "* 일정한 수준의 이메일 열람 및 참여율\n",
        "* 참여 수준의 증감"
      ],
      "metadata": {
        "id": "_8O4c4SltXey"
      }
    },
    {
      "cell_type": "code",
      "source": [
        "NUM_EMAILS_SENT_WEEKLY = 3\n",
        "# 서로 다른 패턴을 위한 몇 가지 함수를 정의\n",
        "def never_opens(period_rng):    # 이메일을 한 번도 열람하지 않은 회원\n",
        "    return []\n",
        "\n",
        "def constant_open_rate(period_rng):     # 매주 같은 양의 이메일을 열람한 회원\n",
        "    n, p = NUM_EMAILS_SENT_WEEKLY, np.random.uniform(0, 1)\n",
        "    num_opened = np.random.binomial(n, p, len(period_rng))\n",
        "    return num_opened\n",
        "\n",
        "def increasing_open_rate(period_rng):   # 매주 열람한 이메일의 양이 늘어나는 회원\n",
        "    return open_rate_with_factor_change(period_rng, np.random.uniform(1.01, 1.30))\n",
        "\n",
        "def decreasing_open_rate(period_rng):   # 매주 열람한 이메일의 양이 줄어드는 회원\n",
        "    return open_rate_with_factor_change(period_rng, np.random.uniform(0.5, 0.99))\n",
        "\n",
        "def open_rate_with_factor_change(period_rng, fac):\n",
        "    if len(period_rng) < 1:\n",
        "        return []\n",
        "    times = np.random.randint(0, len(period_rng), int(0.1 * len(period_rng)))\n",
        "    num_opened = np.zeros(len(period_rng))\n",
        "    for prd in range(0, len(period_rng), 2):\n",
        "        try:\n",
        "            n, p = NUM_EMAILS_SENT_WEEKLY, np.random.uniform(0, 1)\n",
        "            num_opened[prd:(prd + 2)] = np.random.binomial(n, p, 2)\n",
        "            p = max(min(1, p * fac), 0)\n",
        "        except:\n",
        "            num_opened[prd] = np.random.binomial(n, p, 1)\n",
        "    for t in range(len(times)):\n",
        "        num_opened[times[t]] = 0\n",
        "    return num_opened\n",
        "            "
      ],
      "metadata": {
        "id": "x6ys7UDDt18Q"
      },
      "execution_count": 2,
      "outputs": []
    },
    {
      "cell_type": "markdown",
      "source": [
        "### 기부 행동을 모델링하는 시스템\n",
        "회원의 행동을 정의하는 가설을 고려한 모델을 만들고,<br/>\n",
        "그 가설에 기반한 시뮬레이션이 실제 데이터와 맞아떨어지는지 검증<br/>\n",
        "여기서는 이메일 열람 횟수에 따라 기부행동을 정확히 결정하진 않지만, 약간은 느슨히 연결할것임"
      ],
      "metadata": {
        "id": "MjeVgTd-2192"
      }
    },
    {
      "cell_type": "code",
      "source": [
        "# 기부 행동\n",
        "def produce_donations(period_rng, member_behavior, num_emails,\n",
        "                                    use_id, member_join_year):\n",
        "    donation_amounts = np.array([0, 25, 50, 75, 100, 250, 500,\n",
        "                                            1000, 1500, 2000])\n",
        "    member_has = np.random.choice(donation_amounts)\n",
        "    email_fraction = num_emails / (NUM_EMAILS_SENT_WEEKLY * len(period_rng))\n",
        "    member_gives = member_has * email_fraction\n",
        "    member_gives_idx = np.where(member_gives >= donation_amounts)[0][-1]\n",
        "    member_gives_idx = max(min(member_gives_idx, len(donation_amounts) -2), 1)\n",
        "\n",
        "    num_times_gave = np.random.poisson(2) * (2018 - member_join_year)\n",
        "    times = np.random.randint(0, len(period_rng), num_times_gave)\n",
        "    dons = pd.DataFrame({'member' : [],\n",
        "                         'amount' : [],\n",
        "                         'timestamp' : []})\n",
        "    \n",
        "    for n in range(num_times_gave):\n",
        "        donation = donation_amounts[member_gives_idx + np.random.binomial(1, .3)]\n",
        "        ts = str(period_rng[times[n]].start_time + random_weekly_time_delta())\n",
        "        dons = dons.append(pd.DataFrame(\n",
        "                {'member' : [use_id],\n",
        "                 'amount' : [donation],\n",
        "                 'timestamp' : [ts]}))\n",
        "        \n",
        "        if dons.shape[0] > 0:\n",
        "            dons = dons[dons.amount != 0]\n",
        "            # 기부액이 0인 경우에는 보고하지 않음\n",
        "            # 실세계에서 이런 정보는 데이터베이스에 반영되지 않음\n",
        "            \n",
        "            return dons\n",
        "\n",
        "# 특정 주 내의 시간을 무작위로 고르기 위한 유틸리티 함수\n",
        "def random_weekly_time_delta():\n",
        "    days_of_week = [d for d in range(7)]\n",
        "    hours_of_day = [h for h in range(11, 23)]\n",
        "    minute_of_hour = [m for m in range(60)]\n",
        "    second_of_minute = [s for s in range(60)]\n",
        "    return pd.Timedelta(str(np.random.choice(days_of_week)) + \"days\") +\\\n",
        "           pd.Timedelta(str(np.random.choice(hours_of_day)) + \"hours\") +\\\n",
        "           pd.Timedelta(str(np.random.choice(minute_of_hour)) + \"minutes\") +\\\n",
        "           pd.Timedelta(str(np.random.choice(second_of_minute)) + \"seconds\")"
      ],
      "metadata": {
        "id": "eXuWP_qu3Keh"
      },
      "execution_count": 7,
      "outputs": []
    },
    {
      "cell_type": "code",
      "source": [
        "# 함수 사용법 익혀봄\n",
        "t = np.array([10,20,30,40,50])\n",
        "\n",
        "\n",
        "a = 2\n",
        "b = 1/3\n",
        "c = np.array([0, 25, 50, 75, 100, 250, 500,1000, 1500, 2000])\n",
        "\n",
        "np.random.choice(t)\n",
        "\n",
        "np.where(25 >= c)[0][-1]\n",
        "np.random.poisson(2)"
      ],
      "metadata": {
        "colab": {
          "base_uri": "https://localhost:8080/"
        },
        "id": "RlAElmy-4biM",
        "outputId": "05de0d33-89e0-4711-b41f-ce7a5ddef053"
      },
      "execution_count": 4,
      "outputs": [
        {
          "output_type": "execute_result",
          "data": {
            "text/plain": [
              "2"
            ]
          },
          "metadata": {},
          "execution_count": 4
        }
      ]
    },
    {
      "cell_type": "markdown",
      "source": [
        "### 특정회원의 사건을 시뮬레이션 하는데 필요한 모든 코드 요소 모음"
      ],
      "metadata": {
        "id": "GMYBGsAGT9FJ"
      }
    },
    {
      "cell_type": "code",
      "source": [
        "behaviors = [never_opens, constant_open_rate, increasing_open_rate, decreasing_open_rate]\n",
        "member_behaviors = np.random.choice(behaviors, 1000, [0.2, 0.5, 0.1, 0.2])\n",
        "\n",
        "rng = pd.period_range('2015-02-14', '2018-06-01', freq='W')\n",
        "emails = pd.DataFrame({'member' : [],\n",
        "                       'week' : [],\n",
        "                       'emailsOpened' : []})\n",
        "donations = pd.DataFrame({'member' : [],\n",
        "                          'amount' : [],\n",
        "                          'timestamp' : []})\n",
        "\n",
        "for idx in range(yearJoined.shape[0]):\n",
        "    # 회원이 가입한 시기를 무작위로 생성\n",
        "    join_date = pd.Timestamp(yearJoined.iloc[idx].yearJoined) + \\\n",
        "                pd.Timedelta(str(np.random.randint(0, 365)) + ' days')\n",
        "    join_date = min(join_date, pd.Timestamp('2018-06-01')).to_period(freq='W')\n",
        "\n",
        "    # 가입 전에는 어떤 행동에 대한 타임스탬프가 없어야함\n",
        "    member_rng = rng[rng > join_date]\n",
        "\n",
        "    if len(member_rng) < 1:\n",
        "        continue\n",
        "\n",
        "    info = member_behaviors[idx](member_rng)\n",
        "    if len(info) == len(member_rng):\n",
        "        emails = emails.append(pd.DataFrame(\n",
        "            {'member' : [idx] * len(info),\n",
        "             'week' : [str(r.start_time) for r in member_rng],\n",
        "             'emailsOpened' : info}))\n",
        "        donations = donations.append(\n",
        "            produce_donations(member_rng, member_behaviors[idx],\n",
        "                              sum(info), idx, join_date.year))"
      ],
      "metadata": {
        "id": "ke6pv8DtUELD"
      },
      "execution_count": 15,
      "outputs": []
    },
    {
      "cell_type": "markdown",
      "source": [
        "### 위 시뮬레이터를 기반으로한 월마다 발생한 기부의 총합에 대한 도표"
      ],
      "metadata": {
        "id": "cRjmNR5_gIQZ"
      }
    },
    {
      "cell_type": "code",
      "source": [
        "import matplotlib.pyplot as plt\n",
        "\n",
        "df = donations\n",
        "df.set_index(pd.to_datetime(df.timestamp), inplace=True)\n",
        "df.sort_index(inplace=True)\n",
        "df.groupby(pd.Grouper(freq='M')).amount.sum().plot()"
      ],
      "metadata": {
        "colab": {
          "base_uri": "https://localhost:8080/",
          "height": 313
        },
        "id": "MtIOtgEXfC79",
        "outputId": "730069f8-b2d3-4a30-8cd8-0fc9c2036f0b"
      },
      "execution_count": 16,
      "outputs": [
        {
          "output_type": "execute_result",
          "data": {
            "text/plain": [
              "<matplotlib.axes._subplots.AxesSubplot at 0x7fa48762b090>"
            ]
          },
          "metadata": {},
          "execution_count": 16
        },
        {
          "output_type": "display_data",
          "data": {
            "image/png": "[encoded data removed]",
            "text/plain": [
              "<Figure size 432x288 with 1 Axes>"
            ]
          },
          "metadata": {
            "needs_background": "light"
          }
        }
      ]
    },
    {
      "cell_type": "markdown",
      "source": [
        "뒷부분은 추가적인 공부후 보는것이 나아보임..."
      ],
      "metadata": {
        "id": "HKHigk-4h8QU"
      }
    }
  ]
}