{
  "nbformat": 4,
  "nbformat_minor": 0,
  "metadata": {
    "colab": {
      "name": "PTSA_chap_09.ipynb",
      "provenance": [],
      "collapsed_sections": []
    },
    "kernelspec": {
      "name": "python3",
      "display_name": "Python 3"
    },
    "language_info": {
      "name": "python"
    }
  },
  "cells": [
    {
      "cell_type": "markdown",
      "source": [
        "# Chapter 09 시계열을 위한 머신러닝"
      ],
      "metadata": {
        "id": "cC_8FQrn6CMY"
      }
    },
    {
      "cell_type": "markdown",
      "source": [
        "## 9.1 사계열 분류"
      ],
      "metadata": {
        "id": "q3gDYYOb9__t"
      }
    },
    {
      "cell_type": "markdown",
      "source": [
        "### 9.1.1 특징의 선택과 생성"
      ],
      "metadata": {
        "id": "vgax2FXt-CLd"
      }
    },
    {
      "cell_type": "markdown",
      "source": [
        "### 필요한 데이터셋 다운로드\n",
        "    * EEG 데이터셋\n",
        "      각 시계열의 길이가 같음\n",
        "      1. 눈을 뜨거나 감은(두 개의 별도 범주) 건강한 사람에 대한 EEG 기록\n",
        "      2. 발작이 발생하지 않은 간질 환자의 발작과는 관련 없는 두뇌의 두 부위에 대한 EEG 기록 (두개의 별도 범주)\n",
        "      3. 발작 중 뇌파 내 EEG 기록 (단일 범주)\n"
      ],
      "metadata": {
        "id": "83_0njTjA00e"
      }
    },
    {
      "cell_type": "code",
      "source": [
        "!pip install cesium"
      ],
      "metadata": {
        "colab": {
          "base_uri": "https://localhost:8080/"
        },
        "id": "B_2T8YGcBcUs",
        "outputId": "9c98e5a7-1ca2-41c0-8917-ef56832b43f3"
      },
      "execution_count": 2,
      "outputs": [
        {
          "output_type": "stream",
          "name": "stdout",
          "text": [
            "Collecting cesium\n",
            "  Downloading cesium-0.9.12-cp37-cp37m-manylinux1_x86_64.whl (220 kB)\n",
            "\u001b[K     |████████████████████████████████| 220 kB 5.4 MB/s \n",
            "\u001b[?25hRequirement already satisfied: toolz in /usr/local/lib/python3.7/dist-packages (from cesium) (0.11.2)\n",
            "Requirement already satisfied: dask>=2.5.0 in /usr/local/lib/python3.7/dist-packages (from cesium) (2.12.0)\n",
            "Collecting gatspy>=0.3.0\n",
            "  Downloading gatspy-0.3.tar.gz (554 kB)\n",
            "\u001b[K     |████████████████████████████████| 554 kB 45.4 MB/s \n",
            "\u001b[?25hRequirement already satisfied: joblib>=0.14.1 in /usr/local/lib/python3.7/dist-packages (from cesium) (1.1.0)\n",
            "Requirement already satisfied: scipy>=0.16.0 in /usr/local/lib/python3.7/dist-packages (from cesium) (1.4.1)\n",
            "Requirement already satisfied: cloudpickle in /usr/local/lib/python3.7/dist-packages (from cesium) (1.3.0)\n",
            "Requirement already satisfied: scikit-learn>=0.22.1 in /usr/local/lib/python3.7/dist-packages (from cesium) (1.0.1)\n",
            "Requirement already satisfied: pandas>=0.17.0 in /usr/local/lib/python3.7/dist-packages (from cesium) (1.1.5)\n",
            "Requirement already satisfied: pytz>=2017.2 in /usr/local/lib/python3.7/dist-packages (from pandas>=0.17.0->cesium) (2018.9)\n",
            "Requirement already satisfied: numpy>=1.15.4 in /usr/local/lib/python3.7/dist-packages (from pandas>=0.17.0->cesium) (1.19.5)\n",
            "Requirement already satisfied: python-dateutil>=2.7.3 in /usr/local/lib/python3.7/dist-packages (from pandas>=0.17.0->cesium) (2.8.2)\n",
            "Requirement already satisfied: six>=1.5 in /usr/local/lib/python3.7/dist-packages (from python-dateutil>=2.7.3->pandas>=0.17.0->cesium) (1.15.0)\n",
            "Requirement already satisfied: threadpoolctl>=2.0.0 in /usr/local/lib/python3.7/dist-packages (from scikit-learn>=0.22.1->cesium) (3.0.0)\n",
            "Building wheels for collected packages: gatspy\n",
            "  Building wheel for gatspy (setup.py) ... \u001b[?25l\u001b[?25hdone\n",
            "  Created wheel for gatspy: filename=gatspy-0.3-py3-none-any.whl size=43819 sha256=e642f346c03cad3fe4d90e19eff6dcd9cb3c89417ca63828d3847caf6b7410ce\n",
            "  Stored in directory: /root/.cache/pip/wheels/1f/c1/4c/8de278f816259b4f67e2356c0bda260a593375661e400bf31f\n",
            "Successfully built gatspy\n",
            "Installing collected packages: gatspy, cesium\n",
            "Successfully installed cesium-0.9.12 gatspy-0.3\n"
          ]
        }
      ]
    },
    {
      "cell_type": "code",
      "execution_count": 4,
      "metadata": {
        "colab": {
          "base_uri": "https://localhost:8080/"
        },
        "id": "gprGtDqJ5--9",
        "outputId": "ae880577-f13b-4929-b31a-49b0508da02f"
      },
      "outputs": [
        {
          "output_type": "stream",
          "name": "stderr",
          "text": [
            "Downloading data from https://github.com/cesium-ml/cesium-data/raw/master/andrzejak/\n"
          ]
        }
      ],
      "source": [
        "from cesium import datasets\n",
        "eeg = datasets.fetch_andrzejak()"
      ]
    },
    {
      "cell_type": "markdown",
      "source": [
        "데이터 일부 샘플을 통해 분류를 위한 아이디어 파악"
      ],
      "metadata": {
        "id": "Nn2kdbRwGI4U"
      }
    },
    {
      "cell_type": "code",
      "source": [
        "import matplotlib.pyplot as plt\n",
        "plt.subplot(3, 1, 1)\n",
        "plt.plot(eeg[\"measurements\"][0])\n",
        "plt.legend(eeg['classes'][0])\n",
        "plt.subplot(3, 1, 2)\n",
        "plt.plot(eeg[\"measurements\"][300])\n",
        "plt.legend(eeg['classes'][300])\n",
        "plt.subplot(3, 1, 3)\n",
        "plt.plot(eeg[\"measurements\"][450])\n",
        "plt.legend(eeg['classes'][450])"
      ],
      "metadata": {
        "colab": {
          "base_uri": "https://localhost:8080/",
          "height": 284
        },
        "id": "bBiodyy5F_6D",
        "outputId": "86352875-2d2f-4a26-fbf4-5323dd5f4bf0"
      },
      "execution_count": 5,
      "outputs": [
        {
          "output_type": "execute_result",
          "data": {
            "text/plain": [
              "<matplotlib.legend.Legend at 0x7f524607ac10>"
            ]
          },
          "metadata": {},
          "execution_count": 5
        },
        {
          "output_type": "display_data",
          "data": {
            "image/png": "[encoded data removed]",
            "text/plain": [
              "<Figure size 432x288 with 3 Axes>"
            ]
          },
          "metadata": {
            "needs_background": "light"
          }
        }
      ]
    },
    {
      "cell_type": "markdown",
      "source": [
        "cesium을 통한 특징의 생성 밥법"
      ],
      "metadata": {
        "id": "0aA29XKDHrtt"
      }
    },
    {
      "cell_type": "code",
      "source": [
        "from cesium.featurize import featurize_time_series as ft\n",
        "\n",
        "features_to_use = [\"amplitude\",\n",
        "                   \"percent_beyond_1_std\",\n",
        "                   \"percent_close_to_median\",\n",
        "                   \"skew\",\n",
        "                   \"max_slope\"]\n",
        "\n",
        "fset_cesium = ft(times = eeg[\"times\"],\n",
        "                 values = eeg[\"measurements\"],\n",
        "                 errors = None,\n",
        "                 features_to_use = features_to_use,\n",
        "                 scheduler = None)"
      ],
      "metadata": {
        "id": "nXAuQ_NgGv8i"
      },
      "execution_count": 8,
      "outputs": []
    },
    {
      "cell_type": "code",
      "source": [
        "fset_cesium.head()"
      ],
      "metadata": {
        "colab": {
          "base_uri": "https://localhost:8080/",
          "height": 237
        },
        "id": "778zbqbtIpoB",
        "outputId": "20a7cbe0-009a-48ee-b799-2c6ecf55fb25"
      },
      "execution_count": 10,
      "outputs": [
        {
          "output_type": "execute_result",
          "data": {
            "text/html": [
              "\n",
              "  <div id=\"df-5816f46d-bb3d-40b3-8786-bcb7401a2497\">\n",
              "    <div class=\"colab-df-container\">\n",
              "      <div>\n",
              "<style scoped>\n",
              "    .dataframe tbody tr th:only-of-type {\n",
              "        vertical-align: middle;\n",
              "    }\n",
              "\n",
              "    .dataframe tbody tr th {\n",
              "        vertical-align: top;\n",
              "    }\n",
              "\n",
              "    .dataframe thead tr th {\n",
              "        text-align: left;\n",
              "    }\n",
              "</style>\n",
              "<table border=\"1\" class=\"dataframe\">\n",
              "  <thead>\n",
              "    <tr>\n",
              "      <th>feature</th>\n",
              "      <th>amplitude</th>\n",
              "      <th>percent_beyond_1_std</th>\n",
              "      <th>percent_close_to_median</th>\n",
              "      <th>skew</th>\n",
              "      <th>max_slope</th>\n",
              "    </tr>\n",
              "    <tr>\n",
              "      <th>channel</th>\n",
              "      <th>0</th>\n",
              "      <th>0</th>\n",
              "      <th>0</th>\n",
              "      <th>0</th>\n",
              "      <th>0</th>\n",
              "    </tr>\n",
              "  </thead>\n",
              "  <tbody>\n",
              "    <tr>\n",
              "      <th>0</th>\n",
              "      <td>143.5</td>\n",
              "      <td>0.327313</td>\n",
              "      <td>0.505004</td>\n",
              "      <td>0.032805</td>\n",
              "      <td>11107.796610</td>\n",
              "    </tr>\n",
              "    <tr>\n",
              "      <th>1</th>\n",
              "      <td>211.5</td>\n",
              "      <td>0.290212</td>\n",
              "      <td>0.640469</td>\n",
              "      <td>-0.092715</td>\n",
              "      <td>20653.559322</td>\n",
              "    </tr>\n",
              "    <tr>\n",
              "      <th>2</th>\n",
              "      <td>165.0</td>\n",
              "      <td>0.302660</td>\n",
              "      <td>0.515987</td>\n",
              "      <td>-0.004100</td>\n",
              "      <td>13537.627119</td>\n",
              "    </tr>\n",
              "    <tr>\n",
              "      <th>3</th>\n",
              "      <td>171.5</td>\n",
              "      <td>0.300952</td>\n",
              "      <td>0.541128</td>\n",
              "      <td>0.063678</td>\n",
              "      <td>17008.813559</td>\n",
              "    </tr>\n",
              "    <tr>\n",
              "      <th>4</th>\n",
              "      <td>170.0</td>\n",
              "      <td>0.305101</td>\n",
              "      <td>0.566268</td>\n",
              "      <td>0.142753</td>\n",
              "      <td>13016.949153</td>\n",
              "    </tr>\n",
              "  </tbody>\n",
              "</table>\n",
              "</div>\n",
              "      <button class=\"colab-df-convert\" onclick=\"convertToInteractive('df-5816f46d-bb3d-40b3-8786-bcb7401a2497')\"\n",
              "              title=\"Convert this dataframe to an interactive table.\"\n",
              "              style=\"display:none;\">\n",
              "        \n",
              "  <svg xmlns=\"http://www.w3.org/2000/svg\" height=\"24px\"viewBox=\"0 0 24 24\"\n",
              "       width=\"24px\">\n",
              "    <path d=\"M0 0h24v24H0V0z\" fill=\"none\"/>\n",
              "    <path d=\"M18.56 5.44l.94 2.06.94-2.06 2.06-.94-2.06-.94-.94-2.06-.94 2.06-2.06.94zm-11 1L8.5 8.5l.94-2.06 2.06-.94-2.06-.94L8.5 2.5l-.94 2.06-2.06.94zm10 10l.94 2.06.94-2.06 2.06-.94-2.06-.94-.94-2.06-.94 2.06-2.06.94z\"/><path d=\"M17.41 7.96l-1.37-1.37c-.4-.4-.92-.59-1.43-.59-.52 0-1.04.2-1.43.59L10.3 9.45l-7.72 7.72c-.78.78-.78 2.05 0 2.83L4 21.41c.39.39.9.59 1.41.59.51 0 1.02-.2 1.41-.59l7.78-7.78 2.81-2.81c.8-.78.8-2.07 0-2.86zM5.41 20L4 18.59l7.72-7.72 1.47 1.35L5.41 20z\"/>\n",
              "  </svg>\n",
              "      </button>\n",
              "      \n",
              "  <style>\n",
              "    .colab-df-container {\n",
              "      display:flex;\n",
              "      flex-wrap:wrap;\n",
              "      gap: 12px;\n",
              "    }\n",
              "\n",
              "    .colab-df-convert {\n",
              "      background-color: #E8F0FE;\n",
              "      border: none;\n",
              "      border-radius: 50%;\n",
              "      cursor: pointer;\n",
              "      display: none;\n",
              "      fill: #1967D2;\n",
              "      height: 32px;\n",
              "      padding: 0 0 0 0;\n",
              "      width: 32px;\n",
              "    }\n",
              "\n",
              "    .colab-df-convert:hover {\n",
              "      background-color: #E2EBFA;\n",
              "      box-shadow: 0px 1px 2px rgba(60, 64, 67, 0.3), 0px 1px 3px 1px rgba(60, 64, 67, 0.15);\n",
              "      fill: #174EA6;\n",
              "    }\n",
              "\n",
              "    [theme=dark] .colab-df-convert {\n",
              "      background-color: #3B4455;\n",
              "      fill: #D2E3FC;\n",
              "    }\n",
              "\n",
              "    [theme=dark] .colab-df-convert:hover {\n",
              "      background-color: #434B5C;\n",
              "      box-shadow: 0px 1px 3px 1px rgba(0, 0, 0, 0.15);\n",
              "      filter: drop-shadow(0px 1px 2px rgba(0, 0, 0, 0.3));\n",
              "      fill: #FFFFFF;\n",
              "    }\n",
              "  </style>\n",
              "\n",
              "      <script>\n",
              "        const buttonEl =\n",
              "          document.querySelector('#df-5816f46d-bb3d-40b3-8786-bcb7401a2497 button.colab-df-convert');\n",
              "        buttonEl.style.display =\n",
              "          google.colab.kernel.accessAllowed ? 'block' : 'none';\n",
              "\n",
              "        async function convertToInteractive(key) {\n",
              "          const element = document.querySelector('#df-5816f46d-bb3d-40b3-8786-bcb7401a2497');\n",
              "          const dataTable =\n",
              "            await google.colab.kernel.invokeFunction('convertToInteractive',\n",
              "                                                     [key], {});\n",
              "          if (!dataTable) return;\n",
              "\n",
              "          const docLinkHtml = 'Like what you see? Visit the ' +\n",
              "            '<a target=\"_blank\" href=https://colab.research.google.com/notebooks/data_table.ipynb>data table notebook</a>'\n",
              "            + ' to learn more about interactive tables.';\n",
              "          element.innerHTML = '';\n",
              "          dataTable['output_type'] = 'display_data';\n",
              "          await google.colab.output.renderOutput(dataTable, element);\n",
              "          const docLink = document.createElement('div');\n",
              "          docLink.innerHTML = docLinkHtml;\n",
              "          element.appendChild(docLink);\n",
              "        }\n",
              "      </script>\n",
              "    </div>\n",
              "  </div>\n",
              "  "
            ],
            "text/plain": [
              "feature amplitude percent_beyond_1_std  ...      skew     max_slope\n",
              "channel         0                    0  ...         0             0\n",
              "0           143.5             0.327313  ...  0.032805  11107.796610\n",
              "1           211.5             0.290212  ... -0.092715  20653.559322\n",
              "2           165.0             0.302660  ... -0.004100  13537.627119\n",
              "3           171.5             0.300952  ...  0.063678  17008.813559\n",
              "4           170.0             0.305101  ...  0.142753  13016.949153\n",
              "\n",
              "[5 rows x 5 columns]"
            ]
          },
          "metadata": {},
          "execution_count": 10
        }
      ]
    },
    {
      "cell_type": "markdown",
      "source": [
        "오류 검사 by percent_beyond_1_std"
      ],
      "metadata": {
        "id": "8SUXGu9HJVTb"
      }
    },
    {
      "cell_type": "code",
      "source": [
        "import numpy as np\n",
        "\n",
        "np.std(eeg[\"measurements\"][0])"
      ],
      "metadata": {
        "colab": {
          "base_uri": "https://localhost:8080/"
        },
        "id": "OxrHpbWJIvzg",
        "outputId": "ad0f8aca-3ae2-41f2-e3af-3cf2eac2682a"
      },
      "execution_count": 11,
      "outputs": [
        {
          "output_type": "execute_result",
          "data": {
            "text/plain": [
              "40.41100040099819"
            ]
          },
          "metadata": {},
          "execution_count": 11
        }
      ]
    },
    {
      "cell_type": "code",
      "source": [
        "np.mean(eeg[\"measurements\"][0])"
      ],
      "metadata": {
        "colab": {
          "base_uri": "https://localhost:8080/"
        },
        "id": "o91OP6cpJ4HM",
        "outputId": "dfd12eff-ff8e-4f04-bac7-bffc7a256104"
      },
      "execution_count": 12,
      "outputs": [
        {
          "output_type": "execute_result",
          "data": {
            "text/plain": [
              "-4.1320478398828415"
            ]
          },
          "metadata": {},
          "execution_count": 12
        }
      ]
    },
    {
      "cell_type": "code",
      "source": [
        "sample_ts = eeg[\"measurements\"][0]\n",
        "sz = len(sample_ts)\n",
        "ll = -4.13 - 40.4\n",
        "ul = -4.13 + 40.4\n",
        "quals = [i for i in range(sz) if sample_ts[i] < ll or sample_ts[i] >ul]\n",
        "\n",
        "len(quals) / sz # 위에서의 값과 일치"
      ],
      "metadata": {
        "colab": {
          "base_uri": "https://localhost:8080/"
        },
        "id": "Zd6GuGxoJ7T8",
        "outputId": "d5eeba22-fdb5-4bee-807a-cb87baef7e5a"
      },
      "execution_count": 13,
      "outputs": [
        {
          "output_type": "execute_result",
          "data": {
            "text/plain": [
              "0.3273126678057115"
            ]
          },
          "metadata": {},
          "execution_count": 13
        }
      ]
    },
    {
      "cell_type": "markdown",
      "source": [
        "### 9.1.2 결정 트리 기법"
      ],
      "metadata": {
        "id": "S2PJUFRAigYf"
      }
    },
    {
      "cell_type": "code",
      "source": [
        "from sklearn.model_selection import train_test_split\n",
        "X_train, X_test, y_train, y_test = train_test_split(fset_cesium.values, eeg[\"classes\"], random_state=21)"
      ],
      "metadata": {
        "id": "aMh5crU7p53j"
      },
      "execution_count": 16,
      "outputs": []
    },
    {
      "cell_type": "markdown",
      "source": [
        "랜덤포레스트"
      ],
      "metadata": {
        "id": "vWcUAWrEiivQ"
      }
    },
    {
      "cell_type": "code",
      "source": [
        "from sklearn.ensemble import RandomForestClassifier\n",
        "rf_clf = RandomForestClassifier(n_estimators = 10,\n",
        "                                max_depth    =  3,\n",
        "                                random_state = 21)\n",
        "\n",
        "rf_clf.fit(X_train, y_train)"
      ],
      "metadata": {
        "colab": {
          "base_uri": "https://localhost:8080/"
        },
        "id": "083qYuTzKbuc",
        "outputId": "371cc93a-0569-4d3e-8059-2049bdb0eb98"
      },
      "execution_count": 18,
      "outputs": [
        {
          "output_type": "execute_result",
          "data": {
            "text/plain": [
              "RandomForestClassifier(max_depth=3, n_estimators=10, random_state=21)"
            ]
          },
          "metadata": {},
          "execution_count": 18
        }
      ]
    },
    {
      "cell_type": "code",
      "source": [
        "rf_clf.score(X_test, y_test)"
      ],
      "metadata": {
        "colab": {
          "base_uri": "https://localhost:8080/"
        },
        "id": "VjDtDNV7sSrB",
        "outputId": "5c0c36b7-36d4-4db0-95ca-aaaddf81d2dc"
      },
      "execution_count": 19,
      "outputs": [
        {
          "output_type": "execute_result",
          "data": {
            "text/plain": [
              "0.616"
            ]
          },
          "metadata": {},
          "execution_count": 19
        }
      ]
    },
    {
      "cell_type": "markdown",
      "source": [
        "그레디언트 부스팅 트리"
      ],
      "metadata": {
        "id": "k6w9hwAVthJR"
      }
    },
    {
      "cell_type": "code",
      "source": [
        "import xgboost as xgb\n",
        "xgb_clf = xgb.XGBClassifier(n_estimators  = 10,\n",
        "                            max_depth     =  3,\n",
        "                            random_state  = 21)\n",
        "\n",
        "xgb_clf.fit(X_train, y_train)"
      ],
      "metadata": {
        "colab": {
          "base_uri": "https://localhost:8080/"
        },
        "id": "NQtk4Lu4sfOI",
        "outputId": "9fb79b49-5550-4cc4-bc5e-a637ae747455"
      },
      "execution_count": 20,
      "outputs": [
        {
          "output_type": "execute_result",
          "data": {
            "text/plain": [
              "XGBClassifier(n_estimators=10, objective='multi:softprob', random_state=21)"
            ]
          },
          "metadata": {},
          "execution_count": 20
        }
      ]
    },
    {
      "cell_type": "code",
      "source": [
        "xgb_clf.score(X_test, y_test)"
      ],
      "metadata": {
        "colab": {
          "base_uri": "https://localhost:8080/"
        },
        "id": "BRj79tPpt4x2",
        "outputId": "9648e9f7-731c-4671-84cf-a76237e25715"
      },
      "execution_count": 21,
      "outputs": [
        {
          "output_type": "execute_result",
          "data": {
            "text/plain": [
              "0.648"
            ]
          },
          "metadata": {},
          "execution_count": 21
        }
      ]
    },
    {
      "cell_type": "markdown",
      "source": [
        "각 모델의 학습시간 추정"
      ],
      "metadata": {
        "id": "QosxBiAfuBXY"
      }
    },
    {
      "cell_type": "code",
      "source": [
        "import time\n",
        "\n",
        "start = time.time()\n",
        "xgb_clf.fit(X_train, y_train)\n",
        "end = time.time()\n",
        "(end - start) * 100"
      ],
      "metadata": {
        "colab": {
          "base_uri": "https://localhost:8080/"
        },
        "id": "jIg5YnUdt8xP",
        "outputId": "adb9999b-17ab-4613-e9d2-c8babc5b4fc6"
      },
      "execution_count": 30,
      "outputs": [
        {
          "output_type": "execute_result",
          "data": {
            "text/plain": [
              "2.172207832336426"
            ]
          },
          "metadata": {},
          "execution_count": 30
        }
      ]
    },
    {
      "cell_type": "code",
      "source": [
        "start = time.time()\n",
        "rf_clf.fit(X_train, y_train)\n",
        "end = time.time()\n",
        "(end - start) * 100"
      ],
      "metadata": {
        "colab": {
          "base_uri": "https://localhost:8080/"
        },
        "id": "IWM55RqnuXa_",
        "outputId": "842398e2-8062-46bb-ce8a-b734342b521b"
      },
      "execution_count": 31,
      "outputs": [
        {
          "output_type": "execute_result",
          "data": {
            "text/plain": [
              "3.4586429595947266"
            ]
          },
          "metadata": {},
          "execution_count": 31
        }
      ]
    },
    {
      "cell_type": "code",
      "source": [
        ""
      ],
      "metadata": {
        "id": "_GYsINZHubrA"
      },
      "execution_count": null,
      "outputs": []
    }
  ]
}