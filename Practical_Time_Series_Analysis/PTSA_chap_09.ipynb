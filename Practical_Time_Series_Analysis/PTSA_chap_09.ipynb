{
  "nbformat": 4,
  "nbformat_minor": 0,
  "metadata": {
    "colab": {
      "name": "PTSA_chap_09.ipynb",
      "provenance": [],
      "collapsed_sections": []
    },
    "kernelspec": {
      "name": "python3",
      "display_name": "Python 3"
    },
    "language_info": {
      "name": "python"
    }
  },
  "cells": [
    {
      "cell_type": "markdown",
      "source": [
        "# Chapter 09 시계열을 위한 머신러닝"
      ],
      "metadata": {
        "id": "cC_8FQrn6CMY"
      }
    },
    {
      "cell_type": "markdown",
      "source": [
        "## 9.1 시계열 분류"
      ],
      "metadata": {
        "id": "q3gDYYOb9__t"
      }
    },
    {
      "cell_type": "markdown",
      "source": [
        "### 9.1.1 특징의 선택과 생성"
      ],
      "metadata": {
        "id": "vgax2FXt-CLd"
      }
    },
    {
      "cell_type": "markdown",
      "source": [
        "### 필요한 데이터셋 다운로드\n",
        "    * EEG 데이터셋\n",
        "      각 시계열의 길이가 같음\n",
        "      1. 눈을 뜨거나 감은(두 개의 별도 범주) 건강한 사람에 대한 EEG 기록\n",
        "      2. 발작이 발생하지 않은 간질 환자의 발작과는 관련 없는 두뇌의 두 부위에 대한 EEG 기록 (두개의 별도 범주)\n",
        "      3. 발작 중 뇌파 내 EEG 기록 (단일 범주)\n"
      ],
      "metadata": {
        "id": "83_0njTjA00e"
      }
    },
    {
      "cell_type": "code",
      "source": [
        "!pip install cesium"
      ],
      "metadata": {
        "colab": {
          "base_uri": "https://localhost:8080/"
        },
        "id": "B_2T8YGcBcUs",
        "outputId": "ee8b95ea-7de2-4e1f-9288-cbacd05b5339"
      },
      "execution_count": 1,
      "outputs": [
        {
          "output_type": "stream",
          "name": "stdout",
          "text": [
            "Collecting cesium\n",
            "  Downloading cesium-0.9.12-cp37-cp37m-manylinux1_x86_64.whl (220 kB)\n",
            "\u001b[?25l\r\u001b[K     |█▌                              | 10 kB 26.3 MB/s eta 0:00:01\r\u001b[K     |███                             | 20 kB 32.1 MB/s eta 0:00:01\r\u001b[K     |████▌                           | 30 kB 26.2 MB/s eta 0:00:01\r\u001b[K     |██████                          | 40 kB 19.7 MB/s eta 0:00:01\r\u001b[K     |███████▍                        | 51 kB 8.6 MB/s eta 0:00:01\r\u001b[K     |█████████                       | 61 kB 9.2 MB/s eta 0:00:01\r\u001b[K     |██████████▍                     | 71 kB 8.8 MB/s eta 0:00:01\r\u001b[K     |████████████                    | 81 kB 9.8 MB/s eta 0:00:01\r\u001b[K     |█████████████▍                  | 92 kB 10.2 MB/s eta 0:00:01\r\u001b[K     |██████████████▉                 | 102 kB 8.2 MB/s eta 0:00:01\r\u001b[K     |████████████████▍               | 112 kB 8.2 MB/s eta 0:00:01\r\u001b[K     |█████████████████▉              | 122 kB 8.2 MB/s eta 0:00:01\r\u001b[K     |███████████████████▍            | 133 kB 8.2 MB/s eta 0:00:01\r\u001b[K     |████████████████████▉           | 143 kB 8.2 MB/s eta 0:00:01\r\u001b[K     |██████████████████████▎         | 153 kB 8.2 MB/s eta 0:00:01\r\u001b[K     |███████████████████████▉        | 163 kB 8.2 MB/s eta 0:00:01\r\u001b[K     |█████████████████████████▎      | 174 kB 8.2 MB/s eta 0:00:01\r\u001b[K     |██████████████████████████▉     | 184 kB 8.2 MB/s eta 0:00:01\r\u001b[K     |████████████████████████████▎   | 194 kB 8.2 MB/s eta 0:00:01\r\u001b[K     |█████████████████████████████▊  | 204 kB 8.2 MB/s eta 0:00:01\r\u001b[K     |███████████████████████████████▎| 215 kB 8.2 MB/s eta 0:00:01\r\u001b[K     |████████████████████████████████| 220 kB 8.2 MB/s \n",
            "\u001b[?25hRequirement already satisfied: scipy>=0.16.0 in /usr/local/lib/python3.7/dist-packages (from cesium) (1.4.1)\n",
            "Requirement already satisfied: dask>=2.5.0 in /usr/local/lib/python3.7/dist-packages (from cesium) (2.12.0)\n",
            "Collecting gatspy>=0.3.0\n",
            "  Downloading gatspy-0.3.tar.gz (554 kB)\n",
            "\u001b[K     |████████████████████████████████| 554 kB 52.9 MB/s \n",
            "\u001b[?25hRequirement already satisfied: scikit-learn>=0.22.1 in /usr/local/lib/python3.7/dist-packages (from cesium) (1.0.1)\n",
            "Requirement already satisfied: joblib>=0.14.1 in /usr/local/lib/python3.7/dist-packages (from cesium) (1.1.0)\n",
            "Requirement already satisfied: pandas>=0.17.0 in /usr/local/lib/python3.7/dist-packages (from cesium) (1.1.5)\n",
            "Requirement already satisfied: cloudpickle in /usr/local/lib/python3.7/dist-packages (from cesium) (1.3.0)\n",
            "Requirement already satisfied: toolz in /usr/local/lib/python3.7/dist-packages (from cesium) (0.11.2)\n",
            "Requirement already satisfied: numpy>=1.15.4 in /usr/local/lib/python3.7/dist-packages (from pandas>=0.17.0->cesium) (1.19.5)\n",
            "Requirement already satisfied: python-dateutil>=2.7.3 in /usr/local/lib/python3.7/dist-packages (from pandas>=0.17.0->cesium) (2.8.2)\n",
            "Requirement already satisfied: pytz>=2017.2 in /usr/local/lib/python3.7/dist-packages (from pandas>=0.17.0->cesium) (2018.9)\n",
            "Requirement already satisfied: six>=1.5 in /usr/local/lib/python3.7/dist-packages (from python-dateutil>=2.7.3->pandas>=0.17.0->cesium) (1.15.0)\n",
            "Requirement already satisfied: threadpoolctl>=2.0.0 in /usr/local/lib/python3.7/dist-packages (from scikit-learn>=0.22.1->cesium) (3.0.0)\n",
            "Building wheels for collected packages: gatspy\n",
            "  Building wheel for gatspy (setup.py) ... \u001b[?25l\u001b[?25hdone\n",
            "  Created wheel for gatspy: filename=gatspy-0.3-py3-none-any.whl size=43819 sha256=04f060d83d18aded77de04be16f8951efcc3c094d5a3bcb3a62d328f57d368e5\n",
            "  Stored in directory: /root/.cache/pip/wheels/1f/c1/4c/8de278f816259b4f67e2356c0bda260a593375661e400bf31f\n",
            "Successfully built gatspy\n",
            "Installing collected packages: gatspy, cesium\n",
            "Successfully installed cesium-0.9.12 gatspy-0.3\n"
          ]
        }
      ]
    },
    {
      "cell_type": "code",
      "execution_count": 2,
      "metadata": {
        "colab": {
          "base_uri": "https://localhost:8080/"
        },
        "id": "gprGtDqJ5--9",
        "outputId": "a34e59c5-cf12-4a78-ed9c-f42870d1f6d8"
      },
      "outputs": [
        {
          "output_type": "stream",
          "name": "stderr",
          "text": [
            "Downloading data from https://github.com/cesium-ml/cesium-data/raw/master/andrzejak/\n"
          ]
        }
      ],
      "source": [
        "from cesium import datasets\n",
        "eeg = datasets.fetch_andrzejak()"
      ]
    },
    {
      "cell_type": "markdown",
      "source": [
        "데이터 일부 샘플을 통해 분류를 위한 아이디어 파악"
      ],
      "metadata": {
        "id": "Nn2kdbRwGI4U"
      }
    },
    {
      "cell_type": "code",
      "source": [
        "import matplotlib.pyplot as plt\n",
        "plt.subplot(3, 1, 1)\n",
        "plt.plot(eeg[\"measurements\"][0])\n",
        "plt.legend(eeg['classes'][0])\n",
        "plt.subplot(3, 1, 2)\n",
        "plt.plot(eeg[\"measurements\"][300])\n",
        "plt.legend(eeg['classes'][300])\n",
        "plt.subplot(3, 1, 3)\n",
        "plt.plot(eeg[\"measurements\"][450])\n",
        "plt.legend(eeg['classes'][450])"
      ],
      "metadata": {
        "colab": {
          "base_uri": "https://localhost:8080/",
          "height": 284
        },
        "id": "bBiodyy5F_6D",
        "outputId": "0dd352f6-96f5-49dd-c632-e350331149c7"
      },
      "execution_count": 3,
      "outputs": [
        {
          "output_type": "execute_result",
          "data": {
            "text/plain": [
              "<matplotlib.legend.Legend at 0x7f1e8b5662d0>"
            ]
          },
          "metadata": {},
          "execution_count": 3
        },
        {
          "output_type": "display_data",
          "data": {
            "image/png": "[encoded data removed]",
            "text/plain": [
              "<Figure size 432x288 with 3 Axes>"
            ]
          },
          "metadata": {
            "needs_background": "light"
          }
        }
      ]
    },
    {
      "cell_type": "markdown",
      "source": [
        "cesium을 통한 특징의 생성 밥법"
      ],
      "metadata": {
        "id": "0aA29XKDHrtt"
      }
    },
    {
      "cell_type": "code",
      "source": [
        "from cesium.featurize import featurize_time_series as ft\n",
        "\n",
        "features_to_use = [\"amplitude\",\n",
        "                   \"percent_beyond_1_std\",\n",
        "                   \"percent_close_to_median\",\n",
        "                   \"skew\",\n",
        "                   \"max_slope\"]\n",
        "\n",
        "fset_cesium = ft(times = eeg[\"times\"],\n",
        "                 values = eeg[\"measurements\"],\n",
        "                 errors = None,\n",
        "                 features_to_use = features_to_use,\n",
        "                 scheduler = None)"
      ],
      "metadata": {
        "id": "nXAuQ_NgGv8i"
      },
      "execution_count": 4,
      "outputs": []
    },
    {
      "cell_type": "code",
      "source": [
        "fset_cesium.head()"
      ],
      "metadata": {
        "colab": {
          "base_uri": "https://localhost:8080/",
          "height": 237
        },
        "id": "778zbqbtIpoB",
        "outputId": "818953aa-072c-4eb2-d223-ec0b5e56cc04"
      },
      "execution_count": 5,
      "outputs": [
        {
          "output_type": "execute_result",
          "data": {
            "text/html": [
              "\n",
              "  <div id=\"df-3d6a2941-12cf-4e03-9ba5-d6205379b582\">\n",
              "    <div class=\"colab-df-container\">\n",
              "      <div>\n",
              "<style scoped>\n",
              "    .dataframe tbody tr th:only-of-type {\n",
              "        vertical-align: middle;\n",
              "    }\n",
              "\n",
              "    .dataframe tbody tr th {\n",
              "        vertical-align: top;\n",
              "    }\n",
              "\n",
              "    .dataframe thead tr th {\n",
              "        text-align: left;\n",
              "    }\n",
              "</style>\n",
              "<table border=\"1\" class=\"dataframe\">\n",
              "  <thead>\n",
              "    <tr>\n",
              "      <th>feature</th>\n",
              "      <th>amplitude</th>\n",
              "      <th>percent_beyond_1_std</th>\n",
              "      <th>percent_close_to_median</th>\n",
              "      <th>skew</th>\n",
              "      <th>max_slope</th>\n",
              "    </tr>\n",
              "    <tr>\n",
              "      <th>channel</th>\n",
              "      <th>0</th>\n",
              "      <th>0</th>\n",
              "      <th>0</th>\n",
              "      <th>0</th>\n",
              "      <th>0</th>\n",
              "    </tr>\n",
              "  </thead>\n",
              "  <tbody>\n",
              "    <tr>\n",
              "      <th>0</th>\n",
              "      <td>143.5</td>\n",
              "      <td>0.327313</td>\n",
              "      <td>0.505004</td>\n",
              "      <td>0.032805</td>\n",
              "      <td>11107.796610</td>\n",
              "    </tr>\n",
              "    <tr>\n",
              "      <th>1</th>\n",
              "      <td>211.5</td>\n",
              "      <td>0.290212</td>\n",
              "      <td>0.640469</td>\n",
              "      <td>-0.092715</td>\n",
              "      <td>20653.559322</td>\n",
              "    </tr>\n",
              "    <tr>\n",
              "      <th>2</th>\n",
              "      <td>165.0</td>\n",
              "      <td>0.302660</td>\n",
              "      <td>0.515987</td>\n",
              "      <td>-0.004100</td>\n",
              "      <td>13537.627119</td>\n",
              "    </tr>\n",
              "    <tr>\n",
              "      <th>3</th>\n",
              "      <td>171.5</td>\n",
              "      <td>0.300952</td>\n",
              "      <td>0.541128</td>\n",
              "      <td>0.063678</td>\n",
              "      <td>17008.813559</td>\n",
              "    </tr>\n",
              "    <tr>\n",
              "      <th>4</th>\n",
              "      <td>170.0</td>\n",
              "      <td>0.305101</td>\n",
              "      <td>0.566268</td>\n",
              "      <td>0.142753</td>\n",
              "      <td>13016.949153</td>\n",
              "    </tr>\n",
              "  </tbody>\n",
              "</table>\n",
              "</div>\n",
              "      <button class=\"colab-df-convert\" onclick=\"convertToInteractive('df-3d6a2941-12cf-4e03-9ba5-d6205379b582')\"\n",
              "              title=\"Convert this dataframe to an interactive table.\"\n",
              "              style=\"display:none;\">\n",
              "        \n",
              "  <svg xmlns=\"http://www.w3.org/2000/svg\" height=\"24px\"viewBox=\"0 0 24 24\"\n",
              "       width=\"24px\">\n",
              "    <path d=\"M0 0h24v24H0V0z\" fill=\"none\"/>\n",
              "    <path d=\"M18.56 5.44l.94 2.06.94-2.06 2.06-.94-2.06-.94-.94-2.06-.94 2.06-2.06.94zm-11 1L8.5 8.5l.94-2.06 2.06-.94-2.06-.94L8.5 2.5l-.94 2.06-2.06.94zm10 10l.94 2.06.94-2.06 2.06-.94-2.06-.94-.94-2.06-.94 2.06-2.06.94z\"/><path d=\"M17.41 7.96l-1.37-1.37c-.4-.4-.92-.59-1.43-.59-.52 0-1.04.2-1.43.59L10.3 9.45l-7.72 7.72c-.78.78-.78 2.05 0 2.83L4 21.41c.39.39.9.59 1.41.59.51 0 1.02-.2 1.41-.59l7.78-7.78 2.81-2.81c.8-.78.8-2.07 0-2.86zM5.41 20L4 18.59l7.72-7.72 1.47 1.35L5.41 20z\"/>\n",
              "  </svg>\n",
              "      </button>\n",
              "      \n",
              "  <style>\n",
              "    .colab-df-container {\n",
              "      display:flex;\n",
              "      flex-wrap:wrap;\n",
              "      gap: 12px;\n",
              "    }\n",
              "\n",
              "    .colab-df-convert {\n",
              "      background-color: #E8F0FE;\n",
              "      border: none;\n",
              "      border-radius: 50%;\n",
              "      cursor: pointer;\n",
              "      display: none;\n",
              "      fill: #1967D2;\n",
              "      height: 32px;\n",
              "      padding: 0 0 0 0;\n",
              "      width: 32px;\n",
              "    }\n",
              "\n",
              "    .colab-df-convert:hover {\n",
              "      background-color: #E2EBFA;\n",
              "      box-shadow: 0px 1px 2px rgba(60, 64, 67, 0.3), 0px 1px 3px 1px rgba(60, 64, 67, 0.15);\n",
              "      fill: #174EA6;\n",
              "    }\n",
              "\n",
              "    [theme=dark] .colab-df-convert {\n",
              "      background-color: #3B4455;\n",
              "      fill: #D2E3FC;\n",
              "    }\n",
              "\n",
              "    [theme=dark] .colab-df-convert:hover {\n",
              "      background-color: #434B5C;\n",
              "      box-shadow: 0px 1px 3px 1px rgba(0, 0, 0, 0.15);\n",
              "      filter: drop-shadow(0px 1px 2px rgba(0, 0, 0, 0.3));\n",
              "      fill: #FFFFFF;\n",
              "    }\n",
              "  </style>\n",
              "\n",
              "      <script>\n",
              "        const buttonEl =\n",
              "          document.querySelector('#df-3d6a2941-12cf-4e03-9ba5-d6205379b582 button.colab-df-convert');\n",
              "        buttonEl.style.display =\n",
              "          google.colab.kernel.accessAllowed ? 'block' : 'none';\n",
              "\n",
              "        async function convertToInteractive(key) {\n",
              "          const element = document.querySelector('#df-3d6a2941-12cf-4e03-9ba5-d6205379b582');\n",
              "          const dataTable =\n",
              "            await google.colab.kernel.invokeFunction('convertToInteractive',\n",
              "                                                     [key], {});\n",
              "          if (!dataTable) return;\n",
              "\n",
              "          const docLinkHtml = 'Like what you see? Visit the ' +\n",
              "            '<a target=\"_blank\" href=https://colab.research.google.com/notebooks/data_table.ipynb>data table notebook</a>'\n",
              "            + ' to learn more about interactive tables.';\n",
              "          element.innerHTML = '';\n",
              "          dataTable['output_type'] = 'display_data';\n",
              "          await google.colab.output.renderOutput(dataTable, element);\n",
              "          const docLink = document.createElement('div');\n",
              "          docLink.innerHTML = docLinkHtml;\n",
              "          element.appendChild(docLink);\n",
              "        }\n",
              "      </script>\n",
              "    </div>\n",
              "  </div>\n",
              "  "
            ],
            "text/plain": [
              "feature amplitude percent_beyond_1_std  ...      skew     max_slope\n",
              "channel         0                    0  ...         0             0\n",
              "0           143.5             0.327313  ...  0.032805  11107.796610\n",
              "1           211.5             0.290212  ... -0.092715  20653.559322\n",
              "2           165.0             0.302660  ... -0.004100  13537.627119\n",
              "3           171.5             0.300952  ...  0.063678  17008.813559\n",
              "4           170.0             0.305101  ...  0.142753  13016.949153\n",
              "\n",
              "[5 rows x 5 columns]"
            ]
          },
          "metadata": {},
          "execution_count": 5
        }
      ]
    },
    {
      "cell_type": "markdown",
      "source": [
        "오류 검사 by percent_beyond_1_std"
      ],
      "metadata": {
        "id": "8SUXGu9HJVTb"
      }
    },
    {
      "cell_type": "code",
      "source": [
        "import numpy as np\n",
        "\n",
        "np.std(eeg[\"measurements\"][0])"
      ],
      "metadata": {
        "colab": {
          "base_uri": "https://localhost:8080/"
        },
        "id": "OxrHpbWJIvzg",
        "outputId": "0ceb7175-8c22-4ad9-fe63-e9a350185f94"
      },
      "execution_count": 6,
      "outputs": [
        {
          "output_type": "execute_result",
          "data": {
            "text/plain": [
              "40.41100040099819"
            ]
          },
          "metadata": {},
          "execution_count": 6
        }
      ]
    },
    {
      "cell_type": "code",
      "source": [
        "np.mean(eeg[\"measurements\"][0])"
      ],
      "metadata": {
        "colab": {
          "base_uri": "https://localhost:8080/"
        },
        "id": "o91OP6cpJ4HM",
        "outputId": "db4085dc-527a-4a82-9a75-faa045bf8716"
      },
      "execution_count": 7,
      "outputs": [
        {
          "output_type": "execute_result",
          "data": {
            "text/plain": [
              "-4.1320478398828415"
            ]
          },
          "metadata": {},
          "execution_count": 7
        }
      ]
    },
    {
      "cell_type": "code",
      "source": [
        "sample_ts = eeg[\"measurements\"][0]\n",
        "sz = len(sample_ts)\n",
        "ll = -4.13 - 40.4\n",
        "ul = -4.13 + 40.4\n",
        "quals = [i for i in range(sz) if sample_ts[i] < ll or sample_ts[i] >ul]\n",
        "\n",
        "len(quals) / sz # 위에서의 값과 일치"
      ],
      "metadata": {
        "colab": {
          "base_uri": "https://localhost:8080/"
        },
        "id": "Zd6GuGxoJ7T8",
        "outputId": "9b3165d3-bde6-466f-8862-81f86338ef63"
      },
      "execution_count": 8,
      "outputs": [
        {
          "output_type": "execute_result",
          "data": {
            "text/plain": [
              "0.3273126678057115"
            ]
          },
          "metadata": {},
          "execution_count": 8
        }
      ]
    },
    {
      "cell_type": "markdown",
      "source": [
        "### 9.1.2 결정 트리 기법"
      ],
      "metadata": {
        "id": "S2PJUFRAigYf"
      }
    },
    {
      "cell_type": "code",
      "source": [
        "from sklearn.model_selection import train_test_split\n",
        "X_train, X_test, y_train, y_test = train_test_split(fset_cesium.values, eeg[\"classes\"], random_state=21)"
      ],
      "metadata": {
        "id": "aMh5crU7p53j"
      },
      "execution_count": 9,
      "outputs": []
    },
    {
      "cell_type": "markdown",
      "source": [
        "랜덤포레스트"
      ],
      "metadata": {
        "id": "vWcUAWrEiivQ"
      }
    },
    {
      "cell_type": "code",
      "source": [
        "from sklearn.ensemble import RandomForestClassifier\n",
        "rf_clf = RandomForestClassifier(n_estimators = 10,\n",
        "                                max_depth    =  3,\n",
        "                                random_state = 21)\n",
        "\n",
        "rf_clf.fit(X_train, y_train)"
      ],
      "metadata": {
        "colab": {
          "base_uri": "https://localhost:8080/"
        },
        "id": "083qYuTzKbuc",
        "outputId": "9e215e03-ce45-4314-ce27-b2a79730a34b"
      },
      "execution_count": 10,
      "outputs": [
        {
          "output_type": "execute_result",
          "data": {
            "text/plain": [
              "RandomForestClassifier(max_depth=3, n_estimators=10, random_state=21)"
            ]
          },
          "metadata": {},
          "execution_count": 10
        }
      ]
    },
    {
      "cell_type": "code",
      "source": [
        "rf_clf.score(X_test, y_test)"
      ],
      "metadata": {
        "colab": {
          "base_uri": "https://localhost:8080/"
        },
        "id": "VjDtDNV7sSrB",
        "outputId": "2f3edb41-a27d-4081-be7b-552c7c395a9b"
      },
      "execution_count": 11,
      "outputs": [
        {
          "output_type": "execute_result",
          "data": {
            "text/plain": [
              "0.616"
            ]
          },
          "metadata": {},
          "execution_count": 11
        }
      ]
    },
    {
      "cell_type": "markdown",
      "source": [
        "그레디언트 부스팅 트리"
      ],
      "metadata": {
        "id": "k6w9hwAVthJR"
      }
    },
    {
      "cell_type": "code",
      "source": [
        "import xgboost as xgb\n",
        "xgb_clf = xgb.XGBClassifier(n_estimators  = 10,\n",
        "                            max_depth     =  3,\n",
        "                            random_state  = 21)\n",
        "\n",
        "xgb_clf.fit(X_train, y_train)"
      ],
      "metadata": {
        "colab": {
          "base_uri": "https://localhost:8080/"
        },
        "id": "NQtk4Lu4sfOI",
        "outputId": "1b50d4b3-88bd-427d-bcd0-9217a7d65147"
      },
      "execution_count": 12,
      "outputs": [
        {
          "output_type": "execute_result",
          "data": {
            "text/plain": [
              "XGBClassifier(n_estimators=10, objective='multi:softprob', random_state=21)"
            ]
          },
          "metadata": {},
          "execution_count": 12
        }
      ]
    },
    {
      "cell_type": "code",
      "source": [
        "xgb_clf.score(X_test, y_test)"
      ],
      "metadata": {
        "colab": {
          "base_uri": "https://localhost:8080/"
        },
        "id": "BRj79tPpt4x2",
        "outputId": "21f97a05-02b7-4ee1-85a5-632fb2c90945"
      },
      "execution_count": 13,
      "outputs": [
        {
          "output_type": "execute_result",
          "data": {
            "text/plain": [
              "0.648"
            ]
          },
          "metadata": {},
          "execution_count": 13
        }
      ]
    },
    {
      "cell_type": "markdown",
      "source": [
        "각 모델의 학습시간 추정</br>\n",
        "(정식적인 방식은 아님)"
      ],
      "metadata": {
        "id": "QosxBiAfuBXY"
      }
    },
    {
      "cell_type": "code",
      "source": [
        "import time\n",
        "\n",
        "start = time.time()\n",
        "xgb_clf.fit(X_train, y_train)\n",
        "end = time.time()\n",
        "(end - start) * 100"
      ],
      "metadata": {
        "colab": {
          "base_uri": "https://localhost:8080/"
        },
        "id": "jIg5YnUdt8xP",
        "outputId": "dff3733d-30c3-4fc8-8b7a-5a4c485a230c"
      },
      "execution_count": 14,
      "outputs": [
        {
          "output_type": "execute_result",
          "data": {
            "text/plain": [
              "1.8355846405029297"
            ]
          },
          "metadata": {},
          "execution_count": 14
        }
      ]
    },
    {
      "cell_type": "code",
      "source": [
        "start = time.time()\n",
        "rf_clf.fit(X_train, y_train)\n",
        "end = time.time()\n",
        "(end - start) * 100"
      ],
      "metadata": {
        "colab": {
          "base_uri": "https://localhost:8080/"
        },
        "id": "IWM55RqnuXa_",
        "outputId": "0f2d38f2-a777-4f6c-f8d8-6f847f79daa1"
      },
      "execution_count": 15,
      "outputs": [
        {
          "output_type": "execute_result",
          "data": {
            "text/plain": [
              "1.7090082168579102"
            ]
          },
          "metadata": {},
          "execution_count": 15
        }
      ]
    },
    {
      "cell_type": "markdown",
      "source": [
        "두 앙상블에 대해 동일한 트리 개수를 부여하고, 트리들의 깊이를 제한하여 복잡도를 낮춘 경우<br/>\n",
        "그레디언트 부스팅 모델의 정확도가 더 높게 나옴"
      ],
      "metadata": {
        "id": "XwkyXKAShqMO"
      }
    },
    {
      "cell_type": "code",
      "source": [
        "# 트리 수(10), but 복잡성은 낮춘 경우를 테스트\n",
        "# max_depth = 2\n",
        "\n",
        "# XGBoost\n",
        "xgb_clf = xgb.XGBClassifier(n_estimators=10,\n",
        "                            max_depth=2,\n",
        "                            random_state=21)\n",
        "\n",
        "xgb_clf.fit(X_train, y_train)\n",
        "xgb_clf.score(X_test, y_test)"
      ],
      "metadata": {
        "id": "_GYsINZHubrA",
        "colab": {
          "base_uri": "https://localhost:8080/"
        },
        "outputId": "afb47403-8737-4695-f3ff-bebc3324be81"
      },
      "execution_count": 16,
      "outputs": [
        {
          "output_type": "execute_result",
          "data": {
            "text/plain": [
              "0.616"
            ]
          },
          "metadata": {},
          "execution_count": 16
        }
      ]
    },
    {
      "cell_type": "code",
      "source": [
        "# 랜덤포레스트\n",
        "rf_clf = RandomForestClassifier(n_estimators=10,\n",
        "                                max_depth=2,\n",
        "                                random_state=21)\n",
        "\n",
        "rf_clf.fit(X_train, y_train)\n",
        "rf_clf.score(X_test, y_test)"
      ],
      "metadata": {
        "colab": {
          "base_uri": "https://localhost:8080/"
        },
        "id": "3HPAjhZWiItY",
        "outputId": "2cb6a6f3-ff4c-4ff5-a0fb-6d731e34a916"
      },
      "execution_count": 17,
      "outputs": [
        {
          "output_type": "execute_result",
          "data": {
            "text/plain": [
              "0.544"
            ]
          },
          "metadata": {},
          "execution_count": 17
        }
      ]
    },
    {
      "cell_type": "markdown",
      "source": [
        "트리의 복잡성을 낮추더라도 동일한 결과"
      ],
      "metadata": {
        "id": "6uIpxeNoik9k"
      }
    },
    {
      "cell_type": "code",
      "source": [
        "# max_depth = 1\n",
        "\n",
        "# XGBoost\n",
        "xgb_clf = xgb.XGBClassifier(n_estimators=10,\n",
        "                            max_depth=1,\n",
        "                            random_state=21)\n",
        "\n",
        "xgb_clf.fit(X_train, y_train)\n",
        "xgb_clf.score(X_test, y_test)"
      ],
      "metadata": {
        "colab": {
          "base_uri": "https://localhost:8080/"
        },
        "id": "lItfU-LoiaK5",
        "outputId": "a0753a6c-7b97-409b-99cb-622dee41b9a7"
      },
      "execution_count": 18,
      "outputs": [
        {
          "output_type": "execute_result",
          "data": {
            "text/plain": [
              "0.632"
            ]
          },
          "metadata": {},
          "execution_count": 18
        }
      ]
    },
    {
      "cell_type": "code",
      "source": [
        "# 랜덤포레스트\n",
        "rf_clf = RandomForestClassifier(n_estimators=10,\n",
        "                                max_depth=1,\n",
        "                                random_state=21)\n",
        "\n",
        "rf_clf.fit(X_train, y_train)\n",
        "rf_clf.score(X_test, y_test)"
      ],
      "metadata": {
        "colab": {
          "base_uri": "https://localhost:8080/"
        },
        "id": "Ky4quA9Giw3b",
        "outputId": "eacb0103-123f-45b3-fce6-a674ba5e98be"
      },
      "execution_count": 19,
      "outputs": [
        {
          "output_type": "execute_result",
          "data": {
            "text/plain": [
              "0.376"
            ]
          },
          "metadata": {},
          "execution_count": 19
        }
      ]
    },
    {
      "cell_type": "markdown",
      "source": [
        "## 9.2 클러스터링"
      ],
      "metadata": {
        "id": "vuERBA9Klm-c"
      }
    },
    {
      "cell_type": "code",
      "source": [
        "!pip install dtaidistance"
      ],
      "metadata": {
        "colab": {
          "base_uri": "https://localhost:8080/"
        },
        "id": "f2hGPZMci0K4",
        "outputId": "a4c4e6d8-db95-455c-e1a0-0a6ebbcf1a49"
      },
      "execution_count": 20,
      "outputs": [
        {
          "output_type": "stream",
          "name": "stdout",
          "text": [
            "Collecting dtaidistance\n",
            "  Downloading dtaidistance-2.3.4-py3-none-any.whl (535 kB)\n",
            "\u001b[?25l\r\u001b[K     |▋                               | 10 kB 23.6 MB/s eta 0:00:01\r\u001b[K     |█▎                              | 20 kB 9.8 MB/s eta 0:00:01\r\u001b[K     |█▉                              | 30 kB 7.6 MB/s eta 0:00:01\r\u001b[K     |██▌                             | 40 kB 6.8 MB/s eta 0:00:01\r\u001b[K     |███                             | 51 kB 6.4 MB/s eta 0:00:01\r\u001b[K     |███▊                            | 61 kB 6.2 MB/s eta 0:00:01\r\u001b[K     |████▎                           | 71 kB 5.9 MB/s eta 0:00:01\r\u001b[K     |█████                           | 81 kB 6.6 MB/s eta 0:00:01\r\u001b[K     |█████▌                          | 92 kB 6.2 MB/s eta 0:00:01\r\u001b[K     |██████▏                         | 102 kB 6.4 MB/s eta 0:00:01\r\u001b[K     |██████▊                         | 112 kB 6.4 MB/s eta 0:00:01\r\u001b[K     |███████▍                        | 122 kB 6.4 MB/s eta 0:00:01\r\u001b[K     |████████                        | 133 kB 6.4 MB/s eta 0:00:01\r\u001b[K     |████████▋                       | 143 kB 6.4 MB/s eta 0:00:01\r\u001b[K     |█████████▏                      | 153 kB 6.4 MB/s eta 0:00:01\r\u001b[K     |█████████▉                      | 163 kB 6.4 MB/s eta 0:00:01\r\u001b[K     |██████████▍                     | 174 kB 6.4 MB/s eta 0:00:01\r\u001b[K     |███████████                     | 184 kB 6.4 MB/s eta 0:00:01\r\u001b[K     |███████████▋                    | 194 kB 6.4 MB/s eta 0:00:01\r\u001b[K     |████████████▎                   | 204 kB 6.4 MB/s eta 0:00:01\r\u001b[K     |████████████▉                   | 215 kB 6.4 MB/s eta 0:00:01\r\u001b[K     |█████████████▌                  | 225 kB 6.4 MB/s eta 0:00:01\r\u001b[K     |██████████████                  | 235 kB 6.4 MB/s eta 0:00:01\r\u001b[K     |██████████████▊                 | 245 kB 6.4 MB/s eta 0:00:01\r\u001b[K     |███████████████▎                | 256 kB 6.4 MB/s eta 0:00:01\r\u001b[K     |████████████████                | 266 kB 6.4 MB/s eta 0:00:01\r\u001b[K     |████████████████▌               | 276 kB 6.4 MB/s eta 0:00:01\r\u001b[K     |█████████████████▏              | 286 kB 6.4 MB/s eta 0:00:01\r\u001b[K     |█████████████████▊              | 296 kB 6.4 MB/s eta 0:00:01\r\u001b[K     |██████████████████▍             | 307 kB 6.4 MB/s eta 0:00:01\r\u001b[K     |███████████████████             | 317 kB 6.4 MB/s eta 0:00:01\r\u001b[K     |███████████████████▋            | 327 kB 6.4 MB/s eta 0:00:01\r\u001b[K     |████████████████████▏           | 337 kB 6.4 MB/s eta 0:00:01\r\u001b[K     |████████████████████▉           | 348 kB 6.4 MB/s eta 0:00:01\r\u001b[K     |█████████████████████▍          | 358 kB 6.4 MB/s eta 0:00:01\r\u001b[K     |██████████████████████          | 368 kB 6.4 MB/s eta 0:00:01\r\u001b[K     |██████████████████████▋         | 378 kB 6.4 MB/s eta 0:00:01\r\u001b[K     |███████████████████████▎        | 389 kB 6.4 MB/s eta 0:00:01\r\u001b[K     |███████████████████████▉        | 399 kB 6.4 MB/s eta 0:00:01\r\u001b[K     |████████████████████████▌       | 409 kB 6.4 MB/s eta 0:00:01\r\u001b[K     |█████████████████████████       | 419 kB 6.4 MB/s eta 0:00:01\r\u001b[K     |█████████████████████████▊      | 430 kB 6.4 MB/s eta 0:00:01\r\u001b[K     |██████████████████████████▎     | 440 kB 6.4 MB/s eta 0:00:01\r\u001b[K     |███████████████████████████     | 450 kB 6.4 MB/s eta 0:00:01\r\u001b[K     |███████████████████████████▌    | 460 kB 6.4 MB/s eta 0:00:01\r\u001b[K     |████████████████████████████▏   | 471 kB 6.4 MB/s eta 0:00:01\r\u001b[K     |████████████████████████████▊   | 481 kB 6.4 MB/s eta 0:00:01\r\u001b[K     |█████████████████████████████▍  | 491 kB 6.4 MB/s eta 0:00:01\r\u001b[K     |██████████████████████████████  | 501 kB 6.4 MB/s eta 0:00:01\r\u001b[K     |██████████████████████████████▋ | 512 kB 6.4 MB/s eta 0:00:01\r\u001b[K     |███████████████████████████████▏| 522 kB 6.4 MB/s eta 0:00:01\r\u001b[K     |███████████████████████████████▉| 532 kB 6.4 MB/s eta 0:00:01\r\u001b[K     |████████████████████████████████| 535 kB 6.4 MB/s \n",
            "\u001b[?25hRequirement already satisfied: numpy in /usr/local/lib/python3.7/dist-packages (from dtaidistance) (1.19.5)\n",
            "Installing collected packages: dtaidistance\n",
            "Successfully installed dtaidistance-2.3.4\n"
          ]
        }
      ]
    },
    {
      "cell_type": "code",
      "source": [
        "%matplotlib inline\n",
        "import matplotlib.pyplot as plt\n",
        "plt.rcParams['figure.figsize'] = [15, 10]\n",
        "\n",
        "from math import sqrt\n",
        "\n",
        "from datetime import datetime\n",
        "import pandas as pd\n",
        "import numpy as np\n",
        "import pdb\n",
        "\n",
        "from scipy.cluster.hierarchy import dendrogram, linkage\n",
        "from scipy.spatial.distance import squareform\n",
        "\n",
        "from sklearn.metrics.pairwise import pairwise_distances\n",
        "from sklearn import preprocessing\n",
        "from sklearn.cluster import AgglomerativeClustering\n",
        "from sklearn.metrics.cluster import homogeneity_score, completeness_score\n",
        "from sklearn.metrics.cluster import contingency_matrix\n",
        "\n",
        "from dtaidistance import dtw\n",
        "\n",
        "from collections import Counter\n",
        "\n",
        "from scipy.stats import pearsonr"
      ],
      "metadata": {
        "id": "PGMVPTdItbBU"
      },
      "execution_count": 21,
      "outputs": []
    },
    {
      "cell_type": "markdown",
      "source": [
        "데이터 불러오기"
      ],
      "metadata": {
        "id": "njxFlPvQv70k"
      }
    },
    {
      "cell_type": "code",
      "source": [
        "words = pd.read_csv('https://raw.githubusercontent.com/AileenNielsen/TimeSeriesAnalysisWithPython/master/data/50words_TEST.csv',\n",
        "                    header = None)"
      ],
      "metadata": {
        "id": "ivtZIz3iuuLo"
      },
      "execution_count": 22,
      "outputs": []
    },
    {
      "cell_type": "code",
      "source": [
        "words.rename(columns = {0:'word'}, inplace = True)"
      ],
      "metadata": {
        "id": "X7TSuHHJwDxQ"
      },
      "execution_count": 23,
      "outputs": []
    },
    {
      "cell_type": "code",
      "source": [
        "words.head()"
      ],
      "metadata": {
        "colab": {
          "base_uri": "https://localhost:8080/",
          "height": 299
        },
        "id": "a8fdihRVwLau",
        "outputId": "e205f179-51fe-4783-eb1c-c9476eea1837"
      },
      "execution_count": 24,
      "outputs": [
        {
          "output_type": "execute_result",
          "data": {
            "text/html": [
              "\n",
              "  <div id=\"df-86afc696-fc8a-4384-92b9-71e4f079e270\">\n",
              "    <div class=\"colab-df-container\">\n",
              "      <div>\n",
              "<style scoped>\n",
              "    .dataframe tbody tr th:only-of-type {\n",
              "        vertical-align: middle;\n",
              "    }\n",
              "\n",
              "    .dataframe tbody tr th {\n",
              "        vertical-align: top;\n",
              "    }\n",
              "\n",
              "    .dataframe thead th {\n",
              "        text-align: right;\n",
              "    }\n",
              "</style>\n",
              "<table border=\"1\" class=\"dataframe\">\n",
              "  <thead>\n",
              "    <tr style=\"text-align: right;\">\n",
              "      <th></th>\n",
              "      <th>word</th>\n",
              "      <th>1</th>\n",
              "      <th>2</th>\n",
              "      <th>3</th>\n",
              "      <th>4</th>\n",
              "      <th>5</th>\n",
              "      <th>6</th>\n",
              "      <th>7</th>\n",
              "      <th>8</th>\n",
              "      <th>9</th>\n",
              "      <th>10</th>\n",
              "      <th>11</th>\n",
              "      <th>12</th>\n",
              "      <th>13</th>\n",
              "      <th>14</th>\n",
              "      <th>15</th>\n",
              "      <th>16</th>\n",
              "      <th>17</th>\n",
              "      <th>18</th>\n",
              "      <th>19</th>\n",
              "      <th>20</th>\n",
              "      <th>21</th>\n",
              "      <th>22</th>\n",
              "      <th>23</th>\n",
              "      <th>24</th>\n",
              "      <th>25</th>\n",
              "      <th>26</th>\n",
              "      <th>27</th>\n",
              "      <th>28</th>\n",
              "      <th>29</th>\n",
              "      <th>30</th>\n",
              "      <th>31</th>\n",
              "      <th>32</th>\n",
              "      <th>33</th>\n",
              "      <th>34</th>\n",
              "      <th>35</th>\n",
              "      <th>36</th>\n",
              "      <th>37</th>\n",
              "      <th>38</th>\n",
              "      <th>39</th>\n",
              "      <th>...</th>\n",
              "      <th>231</th>\n",
              "      <th>232</th>\n",
              "      <th>233</th>\n",
              "      <th>234</th>\n",
              "      <th>235</th>\n",
              "      <th>236</th>\n",
              "      <th>237</th>\n",
              "      <th>238</th>\n",
              "      <th>239</th>\n",
              "      <th>240</th>\n",
              "      <th>241</th>\n",
              "      <th>242</th>\n",
              "      <th>243</th>\n",
              "      <th>244</th>\n",
              "      <th>245</th>\n",
              "      <th>246</th>\n",
              "      <th>247</th>\n",
              "      <th>248</th>\n",
              "      <th>249</th>\n",
              "      <th>250</th>\n",
              "      <th>251</th>\n",
              "      <th>252</th>\n",
              "      <th>253</th>\n",
              "      <th>254</th>\n",
              "      <th>255</th>\n",
              "      <th>256</th>\n",
              "      <th>257</th>\n",
              "      <th>258</th>\n",
              "      <th>259</th>\n",
              "      <th>260</th>\n",
              "      <th>261</th>\n",
              "      <th>262</th>\n",
              "      <th>263</th>\n",
              "      <th>264</th>\n",
              "      <th>265</th>\n",
              "      <th>266</th>\n",
              "      <th>267</th>\n",
              "      <th>268</th>\n",
              "      <th>269</th>\n",
              "      <th>270</th>\n",
              "    </tr>\n",
              "  </thead>\n",
              "  <tbody>\n",
              "    <tr>\n",
              "      <th>0</th>\n",
              "      <td>4</td>\n",
              "      <td>-0.89094</td>\n",
              "      <td>-0.86099</td>\n",
              "      <td>-0.82438</td>\n",
              "      <td>-0.78214</td>\n",
              "      <td>-0.73573</td>\n",
              "      <td>-0.68691</td>\n",
              "      <td>-0.63754</td>\n",
              "      <td>-0.589370</td>\n",
              "      <td>-0.543420</td>\n",
              "      <td>-0.500440</td>\n",
              "      <td>-0.460820</td>\n",
              "      <td>-0.42469</td>\n",
              "      <td>-0.39240</td>\n",
              "      <td>-0.36389</td>\n",
              "      <td>-0.33906</td>\n",
              "      <td>-0.31795</td>\n",
              "      <td>-0.300560</td>\n",
              "      <td>-0.286920</td>\n",
              "      <td>-0.277270</td>\n",
              "      <td>-0.271050</td>\n",
              "      <td>-0.267770</td>\n",
              "      <td>-0.266780</td>\n",
              "      <td>-0.267420</td>\n",
              "      <td>-0.269270</td>\n",
              "      <td>-0.272020</td>\n",
              "      <td>-0.275290</td>\n",
              "      <td>-0.278980</td>\n",
              "      <td>-0.283200</td>\n",
              "      <td>-0.288140</td>\n",
              "      <td>-0.294310</td>\n",
              "      <td>-0.301850</td>\n",
              "      <td>-0.31086</td>\n",
              "      <td>-0.321350</td>\n",
              "      <td>-0.333260</td>\n",
              "      <td>-0.346500</td>\n",
              "      <td>-0.361030</td>\n",
              "      <td>-0.37659</td>\n",
              "      <td>-0.39297</td>\n",
              "      <td>-0.40995</td>\n",
              "      <td>...</td>\n",
              "      <td>0.052471</td>\n",
              "      <td>-0.01492</td>\n",
              "      <td>-0.082568</td>\n",
              "      <td>-0.14848</td>\n",
              "      <td>-0.21193</td>\n",
              "      <td>-0.27229</td>\n",
              "      <td>-0.32905</td>\n",
              "      <td>-0.38303</td>\n",
              "      <td>-0.432220</td>\n",
              "      <td>-0.476280</td>\n",
              "      <td>-0.51587</td>\n",
              "      <td>-0.55188</td>\n",
              "      <td>-0.58534</td>\n",
              "      <td>-0.61763</td>\n",
              "      <td>-0.64653</td>\n",
              "      <td>-0.67227</td>\n",
              "      <td>-0.69521</td>\n",
              "      <td>-0.71576</td>\n",
              "      <td>-0.73517</td>\n",
              "      <td>-0.75286</td>\n",
              "      <td>-0.76798</td>\n",
              "      <td>-0.78120</td>\n",
              "      <td>-0.79326</td>\n",
              "      <td>-0.80474</td>\n",
              "      <td>-0.81719</td>\n",
              "      <td>-0.82831</td>\n",
              "      <td>-0.83768</td>\n",
              "      <td>-0.84538</td>\n",
              "      <td>-0.85165</td>\n",
              "      <td>-0.85731</td>\n",
              "      <td>-0.86309</td>\n",
              "      <td>-0.86791</td>\n",
              "      <td>-0.87271</td>\n",
              "      <td>-0.87846</td>\n",
              "      <td>-0.88592</td>\n",
              "      <td>-0.89619</td>\n",
              "      <td>-0.90783</td>\n",
              "      <td>-0.91942</td>\n",
              "      <td>-0.93018</td>\n",
              "      <td>-0.93939</td>\n",
              "    </tr>\n",
              "    <tr>\n",
              "      <th>1</th>\n",
              "      <td>12</td>\n",
              "      <td>-0.78346</td>\n",
              "      <td>-0.68562</td>\n",
              "      <td>-0.58409</td>\n",
              "      <td>-0.47946</td>\n",
              "      <td>-0.37398</td>\n",
              "      <td>-0.27008</td>\n",
              "      <td>-0.17225</td>\n",
              "      <td>-0.087463</td>\n",
              "      <td>-0.019191</td>\n",
              "      <td>0.035301</td>\n",
              "      <td>0.080601</td>\n",
              "      <td>0.12121</td>\n",
              "      <td>0.16167</td>\n",
              "      <td>0.20223</td>\n",
              "      <td>0.23973</td>\n",
              "      <td>0.27386</td>\n",
              "      <td>0.305240</td>\n",
              "      <td>0.334170</td>\n",
              "      <td>0.364750</td>\n",
              "      <td>0.399670</td>\n",
              "      <td>0.436950</td>\n",
              "      <td>0.474700</td>\n",
              "      <td>0.509190</td>\n",
              "      <td>0.534400</td>\n",
              "      <td>0.547550</td>\n",
              "      <td>0.549650</td>\n",
              "      <td>0.542360</td>\n",
              "      <td>0.529090</td>\n",
              "      <td>0.515230</td>\n",
              "      <td>0.503070</td>\n",
              "      <td>0.491830</td>\n",
              "      <td>0.48213</td>\n",
              "      <td>0.472450</td>\n",
              "      <td>0.459290</td>\n",
              "      <td>0.443090</td>\n",
              "      <td>0.424040</td>\n",
              "      <td>0.40053</td>\n",
              "      <td>0.37585</td>\n",
              "      <td>0.35189</td>\n",
              "      <td>...</td>\n",
              "      <td>0.711070</td>\n",
              "      <td>0.64773</td>\n",
              "      <td>0.579890</td>\n",
              "      <td>0.50674</td>\n",
              "      <td>0.42767</td>\n",
              "      <td>0.34155</td>\n",
              "      <td>0.24849</td>\n",
              "      <td>0.15221</td>\n",
              "      <td>0.056228</td>\n",
              "      <td>-0.036684</td>\n",
              "      <td>-0.12352</td>\n",
              "      <td>-0.20472</td>\n",
              "      <td>-0.28299</td>\n",
              "      <td>-0.35917</td>\n",
              "      <td>-0.43397</td>\n",
              "      <td>-0.50794</td>\n",
              "      <td>-0.57864</td>\n",
              "      <td>-0.64302</td>\n",
              "      <td>-0.70017</td>\n",
              "      <td>-0.74901</td>\n",
              "      <td>-0.78785</td>\n",
              "      <td>-0.81818</td>\n",
              "      <td>-0.84200</td>\n",
              "      <td>-0.85809</td>\n",
              "      <td>-0.86830</td>\n",
              "      <td>-0.87519</td>\n",
              "      <td>-0.87721</td>\n",
              "      <td>-0.87661</td>\n",
              "      <td>-0.87728</td>\n",
              "      <td>-0.87899</td>\n",
              "      <td>-0.88318</td>\n",
              "      <td>-0.89189</td>\n",
              "      <td>-0.90290</td>\n",
              "      <td>-0.91427</td>\n",
              "      <td>-0.92668</td>\n",
              "      <td>-0.93966</td>\n",
              "      <td>-0.95244</td>\n",
              "      <td>-0.96623</td>\n",
              "      <td>-0.98050</td>\n",
              "      <td>-0.99178</td>\n",
              "    </tr>\n",
              "    <tr>\n",
              "      <th>2</th>\n",
              "      <td>13</td>\n",
              "      <td>-1.32560</td>\n",
              "      <td>-1.28430</td>\n",
              "      <td>-1.21970</td>\n",
              "      <td>-1.15670</td>\n",
              "      <td>-1.09980</td>\n",
              "      <td>-1.04960</td>\n",
              "      <td>-1.01550</td>\n",
              "      <td>-0.996720</td>\n",
              "      <td>-0.985040</td>\n",
              "      <td>-0.971990</td>\n",
              "      <td>-0.964030</td>\n",
              "      <td>-0.96355</td>\n",
              "      <td>-0.96236</td>\n",
              "      <td>-0.95077</td>\n",
              "      <td>-0.91733</td>\n",
              "      <td>-0.87105</td>\n",
              "      <td>-0.817930</td>\n",
              "      <td>-0.760640</td>\n",
              "      <td>-0.701060</td>\n",
              "      <td>-0.644150</td>\n",
              "      <td>-0.594710</td>\n",
              "      <td>-0.529310</td>\n",
              "      <td>-0.409210</td>\n",
              "      <td>-0.205990</td>\n",
              "      <td>0.066333</td>\n",
              "      <td>0.344810</td>\n",
              "      <td>0.565100</td>\n",
              "      <td>0.703590</td>\n",
              "      <td>0.785270</td>\n",
              "      <td>0.840450</td>\n",
              "      <td>0.870940</td>\n",
              "      <td>0.85764</td>\n",
              "      <td>0.775790</td>\n",
              "      <td>0.634510</td>\n",
              "      <td>0.480380</td>\n",
              "      <td>0.351620</td>\n",
              "      <td>0.24100</td>\n",
              "      <td>0.11593</td>\n",
              "      <td>-0.02214</td>\n",
              "      <td>...</td>\n",
              "      <td>-0.443510</td>\n",
              "      <td>-0.43741</td>\n",
              "      <td>-0.444480</td>\n",
              "      <td>-0.45708</td>\n",
              "      <td>-0.46691</td>\n",
              "      <td>-0.47419</td>\n",
              "      <td>-0.47495</td>\n",
              "      <td>-0.46916</td>\n",
              "      <td>-0.456730</td>\n",
              "      <td>-0.439730</td>\n",
              "      <td>-0.42135</td>\n",
              "      <td>-0.40614</td>\n",
              "      <td>-0.40352</td>\n",
              "      <td>-0.41293</td>\n",
              "      <td>-0.42965</td>\n",
              "      <td>-0.44611</td>\n",
              "      <td>-0.45623</td>\n",
              "      <td>-0.46585</td>\n",
              "      <td>-0.48431</td>\n",
              "      <td>-0.52010</td>\n",
              "      <td>-0.56853</td>\n",
              "      <td>-0.61788</td>\n",
              "      <td>-0.65943</td>\n",
              "      <td>-0.68651</td>\n",
              "      <td>-0.70204</td>\n",
              "      <td>-0.71318</td>\n",
              "      <td>-0.72646</td>\n",
              "      <td>-0.74568</td>\n",
              "      <td>-0.77144</td>\n",
              "      <td>-0.80390</td>\n",
              "      <td>-0.83499</td>\n",
              "      <td>-0.86204</td>\n",
              "      <td>-0.88559</td>\n",
              "      <td>-0.90454</td>\n",
              "      <td>-0.93353</td>\n",
              "      <td>-0.99135</td>\n",
              "      <td>-1.06910</td>\n",
              "      <td>-1.13680</td>\n",
              "      <td>-1.19800</td>\n",
              "      <td>-1.27000</td>\n",
              "    </tr>\n",
              "    <tr>\n",
              "      <th>3</th>\n",
              "      <td>23</td>\n",
              "      <td>-1.09370</td>\n",
              "      <td>-1.04200</td>\n",
              "      <td>-0.99840</td>\n",
              "      <td>-0.95997</td>\n",
              "      <td>-0.93997</td>\n",
              "      <td>-0.93764</td>\n",
              "      <td>-0.92649</td>\n",
              "      <td>-0.857090</td>\n",
              "      <td>-0.693320</td>\n",
              "      <td>-0.312890</td>\n",
              "      <td>0.339420</td>\n",
              "      <td>0.98909</td>\n",
              "      <td>1.33000</td>\n",
              "      <td>1.34950</td>\n",
              "      <td>1.22290</td>\n",
              "      <td>1.04450</td>\n",
              "      <td>0.829670</td>\n",
              "      <td>0.602100</td>\n",
              "      <td>0.365250</td>\n",
              "      <td>0.128330</td>\n",
              "      <td>-0.046387</td>\n",
              "      <td>-0.165640</td>\n",
              "      <td>-0.265030</td>\n",
              "      <td>-0.362500</td>\n",
              "      <td>-0.449520</td>\n",
              "      <td>-0.510830</td>\n",
              "      <td>-0.562550</td>\n",
              "      <td>-0.608530</td>\n",
              "      <td>-0.635880</td>\n",
              "      <td>-0.632320</td>\n",
              "      <td>-0.597000</td>\n",
              "      <td>-0.52032</td>\n",
              "      <td>-0.427310</td>\n",
              "      <td>-0.291990</td>\n",
              "      <td>-0.066752</td>\n",
              "      <td>0.241280</td>\n",
              "      <td>0.61050</td>\n",
              "      <td>0.96181</td>\n",
              "      <td>1.21160</td>\n",
              "      <td>...</td>\n",
              "      <td>1.115600</td>\n",
              "      <td>1.76630</td>\n",
              "      <td>2.558000</td>\n",
              "      <td>3.33430</td>\n",
              "      <td>3.84940</td>\n",
              "      <td>3.90180</td>\n",
              "      <td>3.62190</td>\n",
              "      <td>3.18950</td>\n",
              "      <td>2.623000</td>\n",
              "      <td>2.031000</td>\n",
              "      <td>1.49790</td>\n",
              "      <td>1.00600</td>\n",
              "      <td>0.55445</td>\n",
              "      <td>0.16993</td>\n",
              "      <td>-0.12355</td>\n",
              "      <td>-0.31586</td>\n",
              "      <td>-0.43344</td>\n",
              "      <td>-0.50570</td>\n",
              "      <td>-0.53268</td>\n",
              "      <td>-0.53688</td>\n",
              "      <td>-0.54374</td>\n",
              "      <td>-0.56792</td>\n",
              "      <td>-0.60857</td>\n",
              "      <td>-0.63638</td>\n",
              "      <td>-0.64471</td>\n",
              "      <td>-0.64440</td>\n",
              "      <td>-0.65382</td>\n",
              "      <td>-0.66957</td>\n",
              "      <td>-0.69135</td>\n",
              "      <td>-0.71082</td>\n",
              "      <td>-0.72810</td>\n",
              "      <td>-0.74512</td>\n",
              "      <td>-0.76376</td>\n",
              "      <td>-0.78068</td>\n",
              "      <td>-0.80593</td>\n",
              "      <td>-0.84350</td>\n",
              "      <td>-0.89531</td>\n",
              "      <td>-0.96052</td>\n",
              "      <td>-1.05090</td>\n",
              "      <td>-1.12830</td>\n",
              "    </tr>\n",
              "    <tr>\n",
              "      <th>4</th>\n",
              "      <td>4</td>\n",
              "      <td>-0.90138</td>\n",
              "      <td>-0.85228</td>\n",
              "      <td>-0.80196</td>\n",
              "      <td>-0.74932</td>\n",
              "      <td>-0.69298</td>\n",
              "      <td>-0.63316</td>\n",
              "      <td>-0.57038</td>\n",
              "      <td>-0.506920</td>\n",
              "      <td>-0.446040</td>\n",
              "      <td>-0.390180</td>\n",
              "      <td>-0.339310</td>\n",
              "      <td>-0.29231</td>\n",
              "      <td>-0.24833</td>\n",
              "      <td>-0.20635</td>\n",
              "      <td>-0.16585</td>\n",
              "      <td>-0.12719</td>\n",
              "      <td>-0.091931</td>\n",
              "      <td>-0.059946</td>\n",
              "      <td>-0.030921</td>\n",
              "      <td>-0.004628</td>\n",
              "      <td>0.018364</td>\n",
              "      <td>0.038239</td>\n",
              "      <td>0.054732</td>\n",
              "      <td>0.067206</td>\n",
              "      <td>0.075442</td>\n",
              "      <td>0.080507</td>\n",
              "      <td>0.083344</td>\n",
              "      <td>0.083628</td>\n",
              "      <td>0.081179</td>\n",
              "      <td>0.075684</td>\n",
              "      <td>0.066456</td>\n",
              "      <td>0.05167</td>\n",
              "      <td>0.032078</td>\n",
              "      <td>0.008739</td>\n",
              "      <td>-0.017323</td>\n",
              "      <td>-0.046021</td>\n",
              "      <td>-0.07580</td>\n",
              "      <td>-0.10581</td>\n",
              "      <td>-0.13622</td>\n",
              "      <td>...</td>\n",
              "      <td>-0.394410</td>\n",
              "      <td>-0.37672</td>\n",
              "      <td>-0.357160</td>\n",
              "      <td>-0.33905</td>\n",
              "      <td>-0.32255</td>\n",
              "      <td>-0.30807</td>\n",
              "      <td>-0.29818</td>\n",
              "      <td>-0.29607</td>\n",
              "      <td>-0.300260</td>\n",
              "      <td>-0.310800</td>\n",
              "      <td>-0.32809</td>\n",
              "      <td>-0.35262</td>\n",
              "      <td>-0.38035</td>\n",
              "      <td>-0.41034</td>\n",
              "      <td>-0.44236</td>\n",
              "      <td>-0.47573</td>\n",
              "      <td>-0.50864</td>\n",
              "      <td>-0.54145</td>\n",
              "      <td>-0.57506</td>\n",
              "      <td>-0.60889</td>\n",
              "      <td>-0.64237</td>\n",
              "      <td>-0.67593</td>\n",
              "      <td>-0.71042</td>\n",
              "      <td>-0.74502</td>\n",
              "      <td>-0.77959</td>\n",
              "      <td>-0.81402</td>\n",
              "      <td>-0.84805</td>\n",
              "      <td>-0.87959</td>\n",
              "      <td>-0.90785</td>\n",
              "      <td>-0.93276</td>\n",
              "      <td>-0.95452</td>\n",
              "      <td>-0.97322</td>\n",
              "      <td>-0.98984</td>\n",
              "      <td>-1.00520</td>\n",
              "      <td>-1.01880</td>\n",
              "      <td>-1.02960</td>\n",
              "      <td>-1.03700</td>\n",
              "      <td>-1.04110</td>\n",
              "      <td>-1.04180</td>\n",
              "      <td>-1.04030</td>\n",
              "    </tr>\n",
              "  </tbody>\n",
              "</table>\n",
              "<p>5 rows × 271 columns</p>\n",
              "</div>\n",
              "      <button class=\"colab-df-convert\" onclick=\"convertToInteractive('df-86afc696-fc8a-4384-92b9-71e4f079e270')\"\n",
              "              title=\"Convert this dataframe to an interactive table.\"\n",
              "              style=\"display:none;\">\n",
              "        \n",
              "  <svg xmlns=\"http://www.w3.org/2000/svg\" height=\"24px\"viewBox=\"0 0 24 24\"\n",
              "       width=\"24px\">\n",
              "    <path d=\"M0 0h24v24H0V0z\" fill=\"none\"/>\n",
              "    <path d=\"M18.56 5.44l.94 2.06.94-2.06 2.06-.94-2.06-.94-.94-2.06-.94 2.06-2.06.94zm-11 1L8.5 8.5l.94-2.06 2.06-.94-2.06-.94L8.5 2.5l-.94 2.06-2.06.94zm10 10l.94 2.06.94-2.06 2.06-.94-2.06-.94-.94-2.06-.94 2.06-2.06.94z\"/><path d=\"M17.41 7.96l-1.37-1.37c-.4-.4-.92-.59-1.43-.59-.52 0-1.04.2-1.43.59L10.3 9.45l-7.72 7.72c-.78.78-.78 2.05 0 2.83L4 21.41c.39.39.9.59 1.41.59.51 0 1.02-.2 1.41-.59l7.78-7.78 2.81-2.81c.8-.78.8-2.07 0-2.86zM5.41 20L4 18.59l7.72-7.72 1.47 1.35L5.41 20z\"/>\n",
              "  </svg>\n",
              "      </button>\n",
              "      \n",
              "  <style>\n",
              "    .colab-df-container {\n",
              "      display:flex;\n",
              "      flex-wrap:wrap;\n",
              "      gap: 12px;\n",
              "    }\n",
              "\n",
              "    .colab-df-convert {\n",
              "      background-color: #E8F0FE;\n",
              "      border: none;\n",
              "      border-radius: 50%;\n",
              "      cursor: pointer;\n",
              "      display: none;\n",
              "      fill: #1967D2;\n",
              "      height: 32px;\n",
              "      padding: 0 0 0 0;\n",
              "      width: 32px;\n",
              "    }\n",
              "\n",
              "    .colab-df-convert:hover {\n",
              "      background-color: #E2EBFA;\n",
              "      box-shadow: 0px 1px 2px rgba(60, 64, 67, 0.3), 0px 1px 3px 1px rgba(60, 64, 67, 0.15);\n",
              "      fill: #174EA6;\n",
              "    }\n",
              "\n",
              "    [theme=dark] .colab-df-convert {\n",
              "      background-color: #3B4455;\n",
              "      fill: #D2E3FC;\n",
              "    }\n",
              "\n",
              "    [theme=dark] .colab-df-convert:hover {\n",
              "      background-color: #434B5C;\n",
              "      box-shadow: 0px 1px 3px 1px rgba(0, 0, 0, 0.15);\n",
              "      filter: drop-shadow(0px 1px 2px rgba(0, 0, 0, 0.3));\n",
              "      fill: #FFFFFF;\n",
              "    }\n",
              "  </style>\n",
              "\n",
              "      <script>\n",
              "        const buttonEl =\n",
              "          document.querySelector('#df-86afc696-fc8a-4384-92b9-71e4f079e270 button.colab-df-convert');\n",
              "        buttonEl.style.display =\n",
              "          google.colab.kernel.accessAllowed ? 'block' : 'none';\n",
              "\n",
              "        async function convertToInteractive(key) {\n",
              "          const element = document.querySelector('#df-86afc696-fc8a-4384-92b9-71e4f079e270');\n",
              "          const dataTable =\n",
              "            await google.colab.kernel.invokeFunction('convertToInteractive',\n",
              "                                                     [key], {});\n",
              "          if (!dataTable) return;\n",
              "\n",
              "          const docLinkHtml = 'Like what you see? Visit the ' +\n",
              "            '<a target=\"_blank\" href=https://colab.research.google.com/notebooks/data_table.ipynb>data table notebook</a>'\n",
              "            + ' to learn more about interactive tables.';\n",
              "          element.innerHTML = '';\n",
              "          dataTable['output_type'] = 'display_data';\n",
              "          await google.colab.output.renderOutput(dataTable, element);\n",
              "          const docLink = document.createElement('div');\n",
              "          docLink.innerHTML = docLinkHtml;\n",
              "          element.appendChild(docLink);\n",
              "        }\n",
              "      </script>\n",
              "    </div>\n",
              "  </div>\n",
              "  "
            ],
            "text/plain": [
              "   word        1        2        3  ...      267      268      269      270\n",
              "0     4 -0.89094 -0.86099 -0.82438  ... -0.90783 -0.91942 -0.93018 -0.93939\n",
              "1    12 -0.78346 -0.68562 -0.58409  ... -0.95244 -0.96623 -0.98050 -0.99178\n",
              "2    13 -1.32560 -1.28430 -1.21970  ... -1.06910 -1.13680 -1.19800 -1.27000\n",
              "3    23 -1.09370 -1.04200 -0.99840  ... -0.89531 -0.96052 -1.05090 -1.12830\n",
              "4     4 -0.90138 -0.85228 -0.80196  ... -1.03700 -1.04110 -1.04180 -1.04030\n",
              "\n",
              "[5 rows x 271 columns]"
            ]
          },
          "metadata": {},
          "execution_count": 24
        }
      ]
    },
    {
      "cell_type": "code",
      "source": [
        "words.word[1]"
      ],
      "metadata": {
        "colab": {
          "base_uri": "https://localhost:8080/"
        },
        "id": "xZSiXRsawNrv",
        "outputId": "791586b8-d202-4757-ddb4-1fde8cf7a442"
      },
      "execution_count": 25,
      "outputs": [
        {
          "output_type": "execute_result",
          "data": {
            "text/plain": [
              "12"
            ]
          },
          "metadata": {},
          "execution_count": 25
        }
      ]
    },
    {
      "cell_type": "markdown",
      "source": [
        "범주별 데이터 1D 히스토그램으로 표현"
      ],
      "metadata": {
        "id": "9RHT87UvwZBy"
      }
    },
    {
      "cell_type": "code",
      "source": [
        "plt.subplot(3, 2, 1)\n",
        "plt.plot(words.iloc[1, 1:-1])\n",
        "plt.title(\"Sample Projection Word \" + str(words.word[1]), fontweight='bold', y=0.8, fontsize=14)\n",
        "plt.subplot(3, 2, 2)\n",
        "plt.hist(words.iloc[1, 1:-1], 10)\n",
        "plt.title(\"Histogram of projection Word \" + str(words.word[1]), fontweight='bold', y=0.8, fontsize=14)\n",
        "\n",
        "plt.subplot(3, 2, 3)\n",
        "plt.plot(words.iloc[3, 1:-1])\n",
        "plt.title(\"Sample Projection Word \" + str(words.word[3]), fontweight='bold', y=0.8, fontsize=14)\n",
        "plt.subplot(3, 2, 4)\n",
        "plt.hist(words.iloc[3, 1:-1], 10)\n",
        "plt.title(\"Histogram of projection Word \" + str(words.word[3]), fontweight='bold', y=0.8, fontsize=14)\n",
        "\n",
        "plt.subplot(3, 2, 5)\n",
        "plt.plot(words.iloc[5, 1:-1])\n",
        "plt.title(\"Sample Projection Word \" + str(words.word[5]), fontweight='bold', y=0.8, fontsize=14)\n",
        "plt.subplot(3, 2, 6)\n",
        "plt.hist(words.iloc[5, 1:-1], 10)\n",
        "plt.title(\"Histogram of projection Word \" + str(words.word[5]), fontweight='bold', y=0.8, fontsize=14)"
      ],
      "metadata": {
        "colab": {
          "base_uri": "https://localhost:8080/",
          "height": 611
        },
        "id": "WfpJxJbawUwU",
        "outputId": "681ea398-a4b2-4713-c4ff-6336469456c1"
      },
      "execution_count": 26,
      "outputs": [
        {
          "output_type": "execute_result",
          "data": {
            "text/plain": [
              "Text(0.5, 0.8, 'Histogram of projection Word 13')"
            ]
          },
          "metadata": {},
          "execution_count": 26
        },
        {
          "output_type": "display_data",
          "data": {
            "image/png": "[encoded data removed]",
            "text/plain": [
              "<Figure size 1080x720 with 6 Axes>"
            ]
          },
          "metadata": {
            "needs_background": "light"
          }
        }
      ]
    },
    {
      "cell_type": "markdown",
      "source": [
        "예시의 단어가 이상치가 아님을 확인하기 위해 단어의 차이를 확인<br/>\n",
        "두 단어에 대한 2D 히스토그램 구성"
      ],
      "metadata": {
        "id": "c0EsFtsIx8uc"
      }
    },
    {
      "cell_type": "code",
      "source": [
        "# word = 12\n",
        "\n",
        "x = np.array([])\n",
        "y = np.array([])\n",
        "\n",
        "w = 12\n",
        "selected_words = words[words.word == w]\n",
        "selected_words.shape"
      ],
      "metadata": {
        "colab": {
          "base_uri": "https://localhost:8080/"
        },
        "id": "aQk69ttKxbac",
        "outputId": "c3abcbf9-6918-4aa4-b6e0-42135bc8991a"
      },
      "execution_count": 27,
      "outputs": [
        {
          "output_type": "execute_result",
          "data": {
            "text/plain": [
              "(9, 271)"
            ]
          },
          "metadata": {},
          "execution_count": 27
        }
      ]
    },
    {
      "cell_type": "code",
      "source": [
        "for idx, row in selected_words.iterrows():\n",
        "    y = np.hstack([y, row[1:271]])\n",
        "    x = np.hstack([x, np.array(range(270))])\n",
        "\n",
        "fig, ax = plt.subplots()\n",
        "hist = ax.hist2d(x, y, bins = 50)\n",
        "plt.xlabel(\"Time\", fontsize = 18)\n",
        "plt.ylabel(\"Value\", fontsize = 18)"
      ],
      "metadata": {
        "colab": {
          "base_uri": "https://localhost:8080/",
          "height": 633
        },
        "id": "ZZZvUTJqydr2",
        "outputId": "fca241eb-085c-447d-bed4-b3e9c326de2c"
      },
      "execution_count": 28,
      "outputs": [
        {
          "output_type": "execute_result",
          "data": {
            "text/plain": [
              "Text(0, 0.5, 'Value')"
            ]
          },
          "metadata": {},
          "execution_count": 28
        },
        {
          "output_type": "display_data",
          "data": {
            "image/png": "[encoded data removed]",
            "text/plain": [
              "<Figure size 1080x720 with 1 Axes>"
            ]
          },
          "metadata": {
            "needs_background": "light"
          }
        }
      ]
    },
    {
      "cell_type": "code",
      "source": [
        "# word = 23\n",
        "\n",
        "x = np.array([])\n",
        "y = np.array([])\n",
        "\n",
        "w = 23\n",
        "selected_words = words[words.word == w]\n",
        "selected_words.shape"
      ],
      "metadata": {
        "colab": {
          "base_uri": "https://localhost:8080/"
        },
        "id": "d8ppggRjy9oW",
        "outputId": "f67f515e-00ba-4a95-b314-4d58af91bdb4"
      },
      "execution_count": 29,
      "outputs": [
        {
          "output_type": "execute_result",
          "data": {
            "text/plain": [
              "(4, 271)"
            ]
          },
          "metadata": {},
          "execution_count": 29
        }
      ]
    },
    {
      "cell_type": "code",
      "source": [
        "for idx, row in selected_words.iterrows():\n",
        "    y = np.hstack([y, row[1:271]])\n",
        "    x = np.hstack([x, np.array(range(270))])\n",
        "\n",
        "fig, ax = plt.subplots()\n",
        "hist = ax.hist2d(x, y, bins = 50)\n",
        "plt.xlabel(\"Time\", fontsize = 18)\n",
        "plt.ylabel(\"Value\", fontsize = 18)"
      ],
      "metadata": {
        "colab": {
          "base_uri": "https://localhost:8080/",
          "height": 633
        },
        "id": "JO6SNzMy1mta",
        "outputId": "f1f040bf-b4e3-42c7-cb44-aaf8be8f0f30"
      },
      "execution_count": 30,
      "outputs": [
        {
          "output_type": "execute_result",
          "data": {
            "text/plain": [
              "Text(0, 0.5, 'Value')"
            ]
          },
          "metadata": {},
          "execution_count": 30
        },
        {
          "output_type": "display_data",
          "data": {
            "image/png": "[encoded data removed]",
            "text/plain": [
              "<Figure size 1080x720 with 1 Axes>"
            ]
          },
          "metadata": {
            "needs_background": "light"
          }
        }
      ]
    },
    {
      "cell_type": "markdown",
      "source": [
        "시간 단계 270개를 가진 시계열의 특징을 생성"
      ],
      "metadata": {
        "id": "DYAV8Ckk5AiC"
      }
    },
    {
      "cell_type": "code",
      "source": [
        "from cesium.featurize import featurize_time_series as ft\n",
        "\n",
        "word_vals = words.iloc[:, 1:271]\n",
        "times = []\n",
        "word_values = []\n",
        "\n",
        "for idx, row in word_vals.iterrows():\n",
        "    word_values.append(row.values)\n",
        "    times.append(np.array([i for i in range(row.values.shape[0])]))\n",
        "\n",
        "features_to_use = ['amplitude',\n",
        "                   'percent_beyond_1_std',\n",
        "                   'percent_close_to_median']\n",
        "featurized_words = ft(times = times,\n",
        "                      values = word_values,\n",
        "                      errors = None,\n",
        "                      features_to_use = features_to_use,\n",
        "                      scheduler = None)"
      ],
      "metadata": {
        "id": "50OJF2OX2C2c"
      },
      "execution_count": 31,
      "outputs": []
    },
    {
      "cell_type": "markdown",
      "source": [
        "히스토그램을 생성하고 이를 또 다른 시계열로 취급하여 특징 생성"
      ],
      "metadata": {
        "id": "RLCwkq-x_mTA"
      }
    },
    {
      "cell_type": "code",
      "source": [
        "times = []\n",
        "hist_values = []\n",
        "\n",
        "for idx, row in word_vals.iterrows():\n",
        "    hist_values.append(np.histogram(row.values,\n",
        "                                    bins=10,\n",
        "                                    range=(-2.5, 5.0))[0] + .0001)\n",
        "                                    ## 0들은 하위 작업에서 문제를 초래함\n",
        "    times.append(np.array([i for i in range(9)]))\n",
        "\n",
        "features_to_use = [\"amplitude\",\n",
        "                   \"percent_close_to_median\",\n",
        "                   \"skew\"\n",
        "                   ]\n",
        "\n",
        "featurized_hists = ft(times = times,\n",
        "                      values = hist_values,\n",
        "                      errors = None,\n",
        "                      features_to_use = features_to_use,\n",
        "                      scheduler = None)"
      ],
      "metadata": {
        "id": "A6SJlxRN5sRm"
      },
      "execution_count": 32,
      "outputs": []
    },
    {
      "cell_type": "markdown",
      "source": [
        "다른 방식으로 얻은 특징 결합"
      ],
      "metadata": {
        "id": "h1udYmooB1m8"
      }
    },
    {
      "cell_type": "code",
      "source": [
        "features = pd.concat([featurized_words.reset_index(drop=True),\n",
        "                      featurized_hists],\n",
        "                     axis=1)"
      ],
      "metadata": {
        "id": "p4LNyl4fBpCD"
      },
      "execution_count": 33,
      "outputs": []
    },
    {
      "cell_type": "markdown",
      "source": [
        "### 9.2.2 시간을 인식하는 거리 측정법"
      ],
      "metadata": {
        "id": "hCZgb7LsEyhP"
      }
    },
    {
      "cell_type": "markdown",
      "source": [
        "DTW (동적 시간 왜곡)"
      ],
      "metadata": {
        "id": "ML-LA9R4F-F3"
      }
    },
    {
      "cell_type": "code",
      "source": [
        "ts1 = np.sin(np.linspace(1, 10))\n",
        "ts2 = np.sin(2 * np.linspace(1, 10))\n",
        "ts3 = np.zeros((50,))\n",
        "plt.plot(ts1)\n",
        "plt.plot(ts2)\n",
        "plt.plot(ts3)"
      ],
      "metadata": {
        "colab": {
          "base_uri": "https://localhost:8080/",
          "height": 611
        },
        "id": "gc8aav9IOKKn",
        "outputId": "ab978bc3-6687-467a-f249-05952deae1b2"
      },
      "execution_count": 34,
      "outputs": [
        {
          "output_type": "execute_result",
          "data": {
            "text/plain": [
              "[<matplotlib.lines.Line2D at 0x7f1e6737b8d0>]"
            ]
          },
          "metadata": {},
          "execution_count": 34
        },
        {
          "output_type": "display_data",
          "data": {
            "image/png": "[encoded data removed]",
            "text/plain": [
              "<Figure size 1080x720 with 1 Axes>"
            ]
          },
          "metadata": {
            "needs_background": "light"
          }
        }
      ]
    },
    {
      "cell_type": "code",
      "source": [
        "# def distDTW(ts1, ts2):\n",
        "#     # 설정과정\n",
        "#     DTW = {}\n",
        "#     for i in range(len(ts1)):\n",
        "#         DTW[(i, -1)] = np.inf\n",
        "#     for i in range(len(ts2)):\n",
        "#         DTW[(-1, i)] = np.inf\n",
        "#     DTW[(-1, -1)] = 0\n",
        "\n",
        "#     # 한 번에 한 단계씩\n",
        "#     # 최적값 계산\n",
        "#     for i in range(len(ts1)):\n",
        "#         for j in range(len(ts2)):\n",
        "#             dist = (ts1[i] - ts2[j]) ** 2\n",
        "#             DTW[(i, j)] = dist + min(DTW[(i-1, j)],\n",
        "#                                      DTW[(i, j-1)],\n",
        "#                                      DTW[(i-1, j-1)])\n",
        "#             # 동적 프로그래밍의 한 예\n",
        "\n",
        "#     # 완전한 경로를 찾으면 그 경로의 거리를 반환\n",
        "#     return sqrt(DTW[len(ts1)-1, len(ts2)-1])"
      ],
      "metadata": {
        "id": "sn9kh5kSCPXF"
      },
      "execution_count": 35,
      "outputs": []
    },
    {
      "cell_type": "code",
      "source": [
        "def distDTW(ts1, ts2):\n",
        "    DTW       = np.full((len(ts1) + 1, len(ts2) + 1), 0, dtype = np.float32)\n",
        "    DTW[:, 0] = np.inf\n",
        "    DTW[0, :] = np.inf\n",
        "    DTW[0, 0] = 0\n",
        "\n",
        "    for i in range(1, len(ts1) + 1):\n",
        "        for j in range(1, len(ts2) + 1):\n",
        "            idx1 = i - 1 \n",
        "            idx2 = j - 1\n",
        "            \n",
        "            dist               = (ts1[idx1] - ts2[idx2])**2\n",
        "            min_preceding_dist = min(DTW[i-1, j],DTW[i, j-1], DTW[i-1, j-1])\n",
        "\n",
        "            DTW[i, j] = dist + min_preceding_dist\n",
        "\n",
        "    return sqrt(DTW[len(ts1), len(ts2)])"
      ],
      "metadata": {
        "id": "bd7MRqeBX4Qe"
      },
      "execution_count": 40,
      "outputs": []
    },
    {
      "cell_type": "code",
      "source": [
        "distDTW(ts1, ts2)"
      ],
      "metadata": {
        "colab": {
          "base_uri": "https://localhost:8080/"
        },
        "id": "c1DQcXalU-0-",
        "outputId": "9a84067a-6bd1-4781-d84f-a263f78810f3"
      },
      "execution_count": 41,
      "outputs": [
        {
          "output_type": "execute_result",
          "data": {
            "text/plain": [
              "3.7609101849567645"
            ]
          },
          "metadata": {},
          "execution_count": 41
        }
      ]
    },
    {
      "cell_type": "code",
      "source": [
        "X = words.iloc[:, 1:271].values"
      ],
      "metadata": {
        "id": "R4gfio2JVaHh"
      },
      "execution_count": 45,
      "outputs": []
    },
    {
      "cell_type": "code",
      "source": [
        "distDTW(X[0], X[1])"
      ],
      "metadata": {
        "colab": {
          "base_uri": "https://localhost:8080/"
        },
        "id": "lWTPKBVPVHjt",
        "outputId": "d6d472c3-9b47-48b6-a451-923c4caf04bb"
      },
      "execution_count": 46,
      "outputs": [
        {
          "output_type": "execute_result",
          "data": {
            "text/plain": [
              "7.777960024318239"
            ]
          },
          "metadata": {},
          "execution_count": 46
        }
      ]
    },
    {
      "cell_type": "code",
      "source": [
        "dtw.distance(X[0], X[1])"
      ],
      "metadata": {
        "colab": {
          "base_uri": "https://localhost:8080/"
        },
        "id": "W8WC0IOrVKrN",
        "outputId": "2e9b8a3c-5e5e-4674-83f5-5d69c2cdd48a"
      },
      "execution_count": 47,
      "outputs": [
        {
          "output_type": "execute_result",
          "data": {
            "text/plain": [
              "7.777960164340302"
            ]
          },
          "metadata": {},
          "execution_count": 47
        }
      ]
    },
    {
      "cell_type": "markdown",
      "source": [
        "### 9.2.3 클러스터링 코드"
      ],
      "metadata": {
        "id": "ke7n2N7uOrgL"
      }
    },
    {
      "cell_type": "markdown",
      "source": [
        "정규화된 특징에 대한 계층적 클러스터링"
      ],
      "metadata": {
        "id": "hSuoUlZ-O1bK"
      }
    },
    {
      "cell_type": "code",
      "source": [
        "# 단일 거리 지표 사용을 위한 정규화\n",
        "feature_values = preprocessing.scale(features.values)"
      ],
      "metadata": {
        "id": "bj1DyeXNHsll"
      },
      "execution_count": 48,
      "outputs": []
    },
    {
      "cell_type": "code",
      "source": [
        "p = pairwise_distances(X, metric = distDTW)"
      ],
      "metadata": {
        "id": "B4RWgnLkVQ9j"
      },
      "execution_count": null,
      "outputs": []
    },
    {
      "cell_type": "code",
      "source": [
        "# 50개 단어에 매칭되는 클러스터를 찾기\n",
        "feature_clustering = AgglomerativeClustering(n_clusters = 50,\n",
        "                                          linkage = 'ward')\n",
        "feature_clustering.fit(feature_values)\n",
        "words['feature_labels'] = feature_clustering.fit_predict(p)"
      ],
      "metadata": {
        "id": "_SWMdxspPEZW"
      },
      "execution_count": null,
      "outputs": []
    }
  ]
}